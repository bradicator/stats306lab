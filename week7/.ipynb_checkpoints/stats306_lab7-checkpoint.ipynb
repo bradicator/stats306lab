{
 "cells": [
  {
   "cell_type": "markdown",
   "metadata": {},
   "source": [
    "# Lab 6: Practice Problems\n"
   ]
  },
  {
   "cell_type": "code",
   "execution_count": 1,
   "metadata": {},
   "outputs": [
    {
     "name": "stderr",
     "output_type": "stream",
     "text": [
      "── Attaching packages ─────────────────────────────────────── tidyverse 1.2.1 ──\n",
      "✔ ggplot2 3.0.0     ✔ purrr   0.2.5\n",
      "✔ tibble  1.4.2     ✔ dplyr   0.7.6\n",
      "✔ tidyr   0.8.1     ✔ stringr 1.3.1\n",
      "✔ readr   1.1.1     ✔ forcats 0.3.0\n",
      "── Conflicts ────────────────────────────────────────── tidyverse_conflicts() ──\n",
      "✖ dplyr::filter() masks stats::filter()\n",
      "✖ dplyr::lag()    masks stats::lag()\n"
     ]
    }
   ],
   "source": [
    "library(tidyverse)\n",
    "options(repr.plot.width=8)"
   ]
  },
  {
   "cell_type": "code",
   "execution_count": 2,
   "metadata": {},
   "outputs": [
    {
     "data": {
      "text/html": [
       "<ol class=list-inline>\n",
       "\t<li>'carat'</li>\n",
       "\t<li>'cut'</li>\n",
       "\t<li>'color'</li>\n",
       "\t<li>'clarity'</li>\n",
       "\t<li>'depth'</li>\n",
       "\t<li>'table'</li>\n",
       "\t<li>'price'</li>\n",
       "\t<li>'x'</li>\n",
       "\t<li>'y'</li>\n",
       "\t<li>'z'</li>\n",
       "</ol>\n"
      ],
      "text/latex": [
       "\\begin{enumerate*}\n",
       "\\item 'carat'\n",
       "\\item 'cut'\n",
       "\\item 'color'\n",
       "\\item 'clarity'\n",
       "\\item 'depth'\n",
       "\\item 'table'\n",
       "\\item 'price'\n",
       "\\item 'x'\n",
       "\\item 'y'\n",
       "\\item 'z'\n",
       "\\end{enumerate*}\n"
      ],
      "text/markdown": [
       "1. 'carat'\n",
       "2. 'cut'\n",
       "3. 'color'\n",
       "4. 'clarity'\n",
       "5. 'depth'\n",
       "6. 'table'\n",
       "7. 'price'\n",
       "8. 'x'\n",
       "9. 'y'\n",
       "10. 'z'\n",
       "\n",
       "\n"
      ],
      "text/plain": [
       " [1] \"carat\"   \"cut\"     \"color\"   \"clarity\" \"depth\"   \"table\"   \"price\"  \n",
       " [8] \"x\"       \"y\"       \"z\"      "
      ]
     },
     "metadata": {},
     "output_type": "display_data"
    },
    {
     "data": {
      "text/html": [
       "<ol class=list-inline>\n",
       "\t<li>1000</li>\n",
       "\t<li>10</li>\n",
       "</ol>\n"
      ],
      "text/latex": [
       "\\begin{enumerate*}\n",
       "\\item 1000\n",
       "\\item 10\n",
       "\\end{enumerate*}\n"
      ],
      "text/markdown": [
       "1. 1000\n",
       "2. 10\n",
       "\n",
       "\n"
      ],
      "text/plain": [
       "[1] 1000   10"
      ]
     },
     "metadata": {},
     "output_type": "display_data"
    }
   ],
   "source": [
    "rand_idx = runif(1000, min=1, max=dim(diamonds)[1])\n",
    "dm = diamonds[rand_idx, ]\n",
    "names(dm)\n",
    "dim(dm)"
   ]
  },
  {
   "cell_type": "markdown",
   "metadata": {},
   "source": [
    "# Reproduce the following plots"
   ]
  },
  {
   "cell_type": "markdown",
   "metadata": {},
   "source": [
    "<img src=\"./graph1.png\" alt=\"drawing\" width=\"600\"/>\n"
   ]
  },
  {
   "cell_type": "code",
   "execution_count": 3,
   "metadata": {},
   "outputs": [],
   "source": [
    "# p1 = ggplot() + \n",
    "#     geom_point() + \n",
    "#     facet_wrap()\n",
    "# print(p1)"
   ]
  },
  {
   "cell_type": "markdown",
   "metadata": {},
   "source": [
    "## Geometric objects\n",
    "So far we have plotted the points in a fundamental manner. We might be interested in the linear trends of the data that we have."
   ]
  },
  {
   "cell_type": "markdown",
   "metadata": {},
   "source": [
    "<img src=\"./graph2.png\" alt=\"drawing\" width=\"400\"/>\n"
   ]
  },
  {
   "cell_type": "code",
   "execution_count": 4,
   "metadata": {},
   "outputs": [],
   "source": [
    "# p2 = ggplot() +\n",
    "#     geom_point() +\n",
    "#     geom_smooth()\n",
    "# print(p2)"
   ]
  },
  {
   "cell_type": "markdown",
   "metadata": {},
   "source": [
    "### 3.6.1 Exercise\n",
    "1. What geom would you use to draw a line chart? A boxplot? A histogram? An bar chart?\n",
    "2. Run this code in your head and predict what the output will look like. A reference is here: https://ggplot2.tidyverse.org/reference/\n"
   ]
  },
  {
   "cell_type": "markdown",
   "metadata": {},
   "source": [
    "<img src=\"./graph4.png\" alt=\"drawing\" width=\"450\"/>\n"
   ]
  },
  {
   "cell_type": "code",
   "execution_count": 5,
   "metadata": {},
   "outputs": [],
   "source": [
    "# p4 = ggplot() + \n",
    "#     geom_point() + \n",
    "#     geom_smooth()\n",
    "# print(p4)"
   ]
  },
  {
   "cell_type": "markdown",
   "metadata": {},
   "source": [
    "(hint: consider se=False argument)"
   ]
  },
  {
   "cell_type": "markdown",
   "metadata": {},
   "source": [
    "## Statistical transformations\n",
    "stat_summary function"
   ]
  },
  {
   "cell_type": "markdown",
   "metadata": {},
   "source": [
    "<img src=\"./graph6.png\" alt=\"drawing\" width=\"450\"/>\n"
   ]
  },
  {
   "cell_type": "code",
   "execution_count": 6,
   "metadata": {},
   "outputs": [],
   "source": [
    "# ggplot(data = dm) + \n",
    "#     stat_summary()"
   ]
  },
  {
   "cell_type": "markdown",
   "metadata": {},
   "source": [
    "## Position adjustments\n",
    "\n",
    "Difference between color and fill:"
   ]
  },
  {
   "cell_type": "code",
   "execution_count": 8,
   "metadata": {},
   "outputs": [
    {
     "data": {},
     "metadata": {},
     "output_type": "display_data"
    },
    {
     "data": {},
     "metadata": {},
     "output_type": "display_data"
    },
    {
     "data": {
      "image/png": "[encoded data removed]",
      "text/plain": [
       "plot without title"
      ]
     },
     "metadata": {},
     "output_type": "display_data"
    },
    {
     "data": {
      "image/png": "[encoded data removed]",
      "text/plain": [
       "plot without title"
      ]
     },
     "metadata": {},
     "output_type": "display_data"
    }
   ],
   "source": [
    "ggplot(data = diamonds) + \n",
    "  geom_bar(mapping = aes(x = cut, colour = cut))\n",
    "ggplot(data = diamonds) + \n",
    "  geom_bar(mapping = aes(x = cut, fill = cut))"
   ]
  },
  {
   "cell_type": "markdown",
   "metadata": {},
   "source": [
    "Remmeber that we can \"color by\" a different variable - in the following case, clarity. By default, it stacks the bars for each clarity level. This is done using the positional adjustment specified by the position argument of geom_bar. If you don't want a stacked bar chart, you can use one of three other options: \"identity\", \"dodge\", or \"fill\"."
   ]
  },
  {
   "cell_type": "markdown",
   "metadata": {},
   "source": [
    "<img src=\"./graph7.png\" alt=\"drawing\" width=\"450\"/>\n"
   ]
  },
  {
   "cell_type": "code",
   "execution_count": 9,
   "metadata": {},
   "outputs": [],
   "source": [
    "# ggplot() + \n",
    "#   geom_bar()"
   ]
  },
  {
   "cell_type": "markdown",
   "metadata": {},
   "source": [
    "*position = \"identity\"*\n",
    "This will place each object exactly where it falls in the context of the graph. This is not very useful for bars, because it overlaps them. To see that overlapping we either need to make the bars slightly transparent by setting alpha to a small value, or completely transparent by fill=NA"
   ]
  },
  {
   "cell_type": "markdown",
   "metadata": {},
   "source": [
    "<img src=\"./graph8.png\" alt=\"drawing\" width=\"500\"/>\n"
   ]
  },
  {
   "cell_type": "code",
   "execution_count": 10,
   "metadata": {},
   "outputs": [],
   "source": [
    "# ggplot() + \n",
    "#   geom_bar()"
   ]
  },
  {
   "cell_type": "markdown",
   "metadata": {},
   "source": [
    "*position 'fill'*\n",
    "This works like stacking, but makes each set of stacked bars the same height. This makes it easier to compare proportions across groups."
   ]
  },
  {
   "cell_type": "code",
   "execution_count": 12,
   "metadata": {},
   "outputs": [
    {
     "data": {},
     "metadata": {},
     "output_type": "display_data"
    },
    {
     "data": {
      "image/png": "[encoded data removed]",
      "text/plain": [
       "plot without title"
      ]
     },
     "metadata": {},
     "output_type": "display_data"
    }
   ],
   "source": [
    "ggplot(data = dm) + \n",
    "  geom_bar(mapping = aes(x = cut, fill = clarity), position = \"fill\")"
   ]
  },
  {
   "cell_type": "markdown",
   "metadata": {},
   "source": [
    "The plot below places overlapping objects directly beside one another, which makes it easier to compare individual values."
   ]
  },
  {
   "cell_type": "markdown",
   "metadata": {},
   "source": [
    "<img src=\"./graph10.png\" alt=\"drawing\" width=\"450\"/>\n"
   ]
  },
  {
   "cell_type": "code",
   "execution_count": 13,
   "metadata": {},
   "outputs": [],
   "source": [
    "# ggplot() + \n",
    "#   geom_bar()"
   ]
  },
  {
   "cell_type": "markdown",
   "metadata": {
    "collapsed": true
   },
   "source": [
    "# Practice Midterm Solutions and two Additional Questions"
   ]
  },
  {
   "cell_type": "code",
   "execution_count": 14,
   "metadata": {},
   "outputs": [
    {
     "data": {},
     "metadata": {},
     "output_type": "display_data"
    },
    {
     "data": {
      "image/png": "[encoded data removed]",
      "text/plain": [
       "plot without title"
      ]
     },
     "metadata": {},
     "output_type": "display_data"
    }
   ],
   "source": [
    "# Problem 6\n",
    "ggplot(data=diamonds, mapping=aes(x=clarity, fill=clarity)) +\n",
    "    geom_bar()"
   ]
  },
  {
   "cell_type": "code",
   "execution_count": 15,
   "metadata": {},
   "outputs": [
    {
     "name": "stderr",
     "output_type": "stream",
     "text": [
      "Warning message:\n",
      "“Removed 1 rows containing non-finite values (stat_bin2d).”"
     ]
    },
    {
     "data": {},
     "metadata": {},
     "output_type": "display_data"
    },
    {
     "data": {
      "image/png": "[encoded data removed]",
      "text/plain": [
       "plot without title"
      ]
     },
     "metadata": {},
     "output_type": "display_data"
    }
   ],
   "source": [
    "# Problem 7\n",
    "table7 = diamonds %>% mutate(Volume = x*y*z)\n",
    "ggplot(data=table7, mapping=aes(x=Volume, y=carat)) + \n",
    "    geom_bin2d() + xlim(0, 1000) + \n",
    "    xlab('Volume(x*y*z)') + ylab('Weight (carats)')"
   ]
  },
  {
   "cell_type": "code",
   "execution_count": 16,
   "metadata": {},
   "outputs": [],
   "source": [
    "# Loading football data\n",
    "load(url('https://github.com/terhorst/stats306/raw/master/ps4/cfb.RData'))"
   ]
  },
  {
   "cell_type": "code",
   "execution_count": 17,
   "metadata": {},
   "outputs": [
    {
     "data": {
      "text/html": [
       "<table>\n",
       "<thead><tr><th scope=col>manufacturer</th><th scope=col>model</th><th scope=col>displ</th><th scope=col>year</th><th scope=col>cyl</th><th scope=col>trans</th><th scope=col>drv</th><th scope=col>cty</th><th scope=col>hwy</th><th scope=col>fl</th><th scope=col>class</th></tr></thead>\n",
       "<tbody>\n",
       "\t<tr><td>audi      </td><td>a4        </td><td>1.8       </td><td>1999      </td><td>4         </td><td>auto(l5)  </td><td>f         </td><td>18        </td><td>29        </td><td>p         </td><td>compact   </td></tr>\n",
       "\t<tr><td>audi      </td><td>a4        </td><td>1.8       </td><td>1999      </td><td>4         </td><td>manual(m5)</td><td>f         </td><td>21        </td><td>29        </td><td>p         </td><td>compact   </td></tr>\n",
       "\t<tr><td>audi      </td><td>a4        </td><td>2.0       </td><td>2008      </td><td>4         </td><td>manual(m6)</td><td>f         </td><td>20        </td><td>31        </td><td>p         </td><td>compact   </td></tr>\n",
       "\t<tr><td>audi      </td><td>a4        </td><td>2.0       </td><td>2008      </td><td>4         </td><td>auto(av)  </td><td>f         </td><td>21        </td><td>30        </td><td>p         </td><td>compact   </td></tr>\n",
       "\t<tr><td>audi      </td><td>a4        </td><td>2.8       </td><td>1999      </td><td>6         </td><td>auto(l5)  </td><td>f         </td><td>16        </td><td>26        </td><td>p         </td><td>compact   </td></tr>\n",
       "\t<tr><td>audi      </td><td>a4        </td><td>2.8       </td><td>1999      </td><td>6         </td><td>manual(m5)</td><td>f         </td><td>18        </td><td>26        </td><td>p         </td><td>compact   </td></tr>\n",
       "</tbody>\n",
       "</table>\n"
      ],
      "text/latex": [
       "\\begin{tabular}{r|lllllllllll}\n",
       " manufacturer & model & displ & year & cyl & trans & drv & cty & hwy & fl & class\\\\\n",
       "\\hline\n",
       "\t audi       & a4         & 1.8        & 1999       & 4          & auto(l5)   & f          & 18         & 29         & p          & compact   \\\\\n",
       "\t audi       & a4         & 1.8        & 1999       & 4          & manual(m5) & f          & 21         & 29         & p          & compact   \\\\\n",
       "\t audi       & a4         & 2.0        & 2008       & 4          & manual(m6) & f          & 20         & 31         & p          & compact   \\\\\n",
       "\t audi       & a4         & 2.0        & 2008       & 4          & auto(av)   & f          & 21         & 30         & p          & compact   \\\\\n",
       "\t audi       & a4         & 2.8        & 1999       & 6          & auto(l5)   & f          & 16         & 26         & p          & compact   \\\\\n",
       "\t audi       & a4         & 2.8        & 1999       & 6          & manual(m5) & f          & 18         & 26         & p          & compact   \\\\\n",
       "\\end{tabular}\n"
      ],
      "text/markdown": [
       "\n",
       "manufacturer | model | displ | year | cyl | trans | drv | cty | hwy | fl | class | \n",
       "|---|---|---|---|---|---|\n",
       "| audi       | a4         | 1.8        | 1999       | 4          | auto(l5)   | f          | 18         | 29         | p          | compact    | \n",
       "| audi       | a4         | 1.8        | 1999       | 4          | manual(m5) | f          | 21         | 29         | p          | compact    | \n",
       "| audi       | a4         | 2.0        | 2008       | 4          | manual(m6) | f          | 20         | 31         | p          | compact    | \n",
       "| audi       | a4         | 2.0        | 2008       | 4          | auto(av)   | f          | 21         | 30         | p          | compact    | \n",
       "| audi       | a4         | 2.8        | 1999       | 6          | auto(l5)   | f          | 16         | 26         | p          | compact    | \n",
       "| audi       | a4         | 2.8        | 1999       | 6          | manual(m5) | f          | 18         | 26         | p          | compact    | \n",
       "\n",
       "\n"
      ],
      "text/plain": [
       "  manufacturer model displ year cyl trans      drv cty hwy fl class  \n",
       "1 audi         a4    1.8   1999 4   auto(l5)   f   18  29  p  compact\n",
       "2 audi         a4    1.8   1999 4   manual(m5) f   21  29  p  compact\n",
       "3 audi         a4    2.0   2008 4   manual(m6) f   20  31  p  compact\n",
       "4 audi         a4    2.0   2008 4   auto(av)   f   21  30  p  compact\n",
       "5 audi         a4    2.8   1999 6   auto(l5)   f   16  26  p  compact\n",
       "6 audi         a4    2.8   1999 6   manual(m5) f   18  26  p  compact"
      ]
     },
     "metadata": {},
     "output_type": "display_data"
    }
   ],
   "source": [
    "# Reproducing table problem\n",
    "year_mpg = mpg \n",
    "head(year_mpg)"
   ]
  },
  {
   "cell_type": "code",
   "execution_count": 18,
   "metadata": {},
   "outputs": [
    {
     "data": {
      "text/html": [
       "<table>\n",
       "<thead><tr><th scope=col>manufacturer</th><th scope=col>year</th><th scope=col>drv</th><th scope=col>total</th></tr></thead>\n",
       "<tbody>\n",
       "\t<tr><td>dodge     </td><td>1999      </td><td>4         </td><td>10        </td></tr>\n",
       "\t<tr><td>ford      </td><td>1999      </td><td>4         </td><td> 9        </td></tr>\n",
       "\t<tr><td>toyota    </td><td>1999      </td><td>4         </td><td> 9        </td></tr>\n",
       "\t<tr><td>subaru    </td><td>1999      </td><td>4         </td><td> 6        </td></tr>\n",
       "\t<tr><td>audi      </td><td>1999      </td><td>4         </td><td> 5        </td></tr>\n",
       "\t<tr><td>chevrolet </td><td>1999      </td><td>4         </td><td> 2        </td></tr>\n",
       "\t<tr><td>jeep      </td><td>1999      </td><td>4         </td><td> 2        </td></tr>\n",
       "\t<tr><td>land rover</td><td>1999      </td><td>4         </td><td> 2        </td></tr>\n",
       "\t<tr><td>mercury   </td><td>1999      </td><td>4         </td><td> 2        </td></tr>\n",
       "\t<tr><td>nissan    </td><td>1999      </td><td>4         </td><td> 2        </td></tr>\n",
       "</tbody>\n",
       "</table>\n"
      ],
      "text/latex": [
       "\\begin{tabular}{r|llll}\n",
       " manufacturer & year & drv & total\\\\\n",
       "\\hline\n",
       "\t dodge      & 1999       & 4          & 10        \\\\\n",
       "\t ford       & 1999       & 4          &  9        \\\\\n",
       "\t toyota     & 1999       & 4          &  9        \\\\\n",
       "\t subaru     & 1999       & 4          &  6        \\\\\n",
       "\t audi       & 1999       & 4          &  5        \\\\\n",
       "\t chevrolet  & 1999       & 4          &  2        \\\\\n",
       "\t jeep       & 1999       & 4          &  2        \\\\\n",
       "\t land rover & 1999       & 4          &  2        \\\\\n",
       "\t mercury    & 1999       & 4          &  2        \\\\\n",
       "\t nissan     & 1999       & 4          &  2        \\\\\n",
       "\\end{tabular}\n"
      ],
      "text/markdown": [
       "\n",
       "manufacturer | year | drv | total | \n",
       "|---|---|---|---|---|---|---|---|---|---|\n",
       "| dodge      | 1999       | 4          | 10         | \n",
       "| ford       | 1999       | 4          |  9         | \n",
       "| toyota     | 1999       | 4          |  9         | \n",
       "| subaru     | 1999       | 4          |  6         | \n",
       "| audi       | 1999       | 4          |  5         | \n",
       "| chevrolet  | 1999       | 4          |  2         | \n",
       "| jeep       | 1999       | 4          |  2         | \n",
       "| land rover | 1999       | 4          |  2         | \n",
       "| mercury    | 1999       | 4          |  2         | \n",
       "| nissan     | 1999       | 4          |  2         | \n",
       "\n",
       "\n"
      ],
      "text/plain": [
       "   manufacturer year drv total\n",
       "1  dodge        1999 4   10   \n",
       "2  ford         1999 4    9   \n",
       "3  toyota       1999 4    9   \n",
       "4  subaru       1999 4    6   \n",
       "5  audi         1999 4    5   \n",
       "6  chevrolet    1999 4    2   \n",
       "7  jeep         1999 4    2   \n",
       "8  land rover   1999 4    2   \n",
       "9  mercury      1999 4    2   \n",
       "10 nissan       1999 4    2   "
      ]
     },
     "metadata": {},
     "output_type": "display_data"
    }
   ],
   "source": [
    "# Most 4WD problem\n",
    "mpg %>% filter(year==1999, drv=='4') %>% \n",
    "    group_by(manufacturer, year, drv) %>% summarize(total = n()) %>% \n",
    "    arrange(desc(total))"
   ]
  },
  {
   "cell_type": "code",
   "execution_count": 19,
   "metadata": {},
   "outputs": [
    {
     "data": {
      "text/html": [
       "<ol class=list-inline>\n",
       "\t<li>'Year'</li>\n",
       "\t<li>'Game'</li>\n",
       "\t<li>'Count'</li>\n",
       "\t<li>'Conf Game'</li>\n",
       "\t<li>'Week'</li>\n",
       "\t<li>'Winning'</li>\n",
       "\t<li>'Winning Conference'</li>\n",
       "\t<li>'Winning H/A/N'</li>\n",
       "\t<li>'Winning Points'</li>\n",
       "\t<li>'Winning F/U'</li>\n",
       "\t<li>'Winning Cover'</li>\n",
       "\t<li>'Winning Spread'</li>\n",
       "\t<li>'Winning O/U'</li>\n",
       "\t<li>'Winning Passes'</li>\n",
       "\t<li>'Winning Pass Yards'</li>\n",
       "\t<li>'Winning YPPA'</li>\n",
       "\t<li>'Winning Rushes'</li>\n",
       "\t<li>'Winning Rush Yards'</li>\n",
       "\t<li>'Winning YPRA'</li>\n",
       "\t<li>'Winning Plays'</li>\n",
       "\t<li>'Winning Total Yards'</li>\n",
       "\t<li>'Winning YPP'</li>\n",
       "\t<li>'Winning TO'</li>\n",
       "\t<li>'Winning Pen Yards'</li>\n",
       "\t<li>'Winning TOP'</li>\n",
       "\t<li>'Field25'</li>\n",
       "\t<li>'Losing'</li>\n",
       "\t<li>'Losing Conference'</li>\n",
       "\t<li>'Losing H/A/N'</li>\n",
       "\t<li>'Losing Points'</li>\n",
       "\t<li>'Losing F/U'</li>\n",
       "\t<li>'Losing Cover'</li>\n",
       "\t<li>'Losing Spread'</li>\n",
       "\t<li>'Losing O/U'</li>\n",
       "\t<li>'Losing Passes'</li>\n",
       "\t<li>'Losing Pass Yards'</li>\n",
       "\t<li>'Losing YPPA'</li>\n",
       "\t<li>'Losing Rush Attempts'</li>\n",
       "\t<li>'Losing Rush Yards'</li>\n",
       "\t<li>'Losing YPRA'</li>\n",
       "\t<li>'Losing Total Plays'</li>\n",
       "\t<li>'Losing Total Yards'</li>\n",
       "\t<li>'Losing YPP'</li>\n",
       "\t<li>'Losing TO'</li>\n",
       "\t<li>'Losing Pen Yards'</li>\n",
       "\t<li>'Losing TOP'</li>\n",
       "\t<li>'OT?'</li>\n",
       "\t<li>'Thursday?'</li>\n",
       "\t<li>'TOP VERIFICATION'</li>\n",
       "\t<li>'O/U Total'</li>\n",
       "\t<li>'Tot Yard Dif'</li>\n",
       "\t<li>'TO Margin'</li>\n",
       "</ol>\n"
      ],
      "text/latex": [
       "\\begin{enumerate*}\n",
       "\\item 'Year'\n",
       "\\item 'Game'\n",
       "\\item 'Count'\n",
       "\\item 'Conf Game'\n",
       "\\item 'Week'\n",
       "\\item 'Winning'\n",
       "\\item 'Winning Conference'\n",
       "\\item 'Winning H/A/N'\n",
       "\\item 'Winning Points'\n",
       "\\item 'Winning F/U'\n",
       "\\item 'Winning Cover'\n",
       "\\item 'Winning Spread'\n",
       "\\item 'Winning O/U'\n",
       "\\item 'Winning Passes'\n",
       "\\item 'Winning Pass Yards'\n",
       "\\item 'Winning YPPA'\n",
       "\\item 'Winning Rushes'\n",
       "\\item 'Winning Rush Yards'\n",
       "\\item 'Winning YPRA'\n",
       "\\item 'Winning Plays'\n",
       "\\item 'Winning Total Yards'\n",
       "\\item 'Winning YPP'\n",
       "\\item 'Winning TO'\n",
       "\\item 'Winning Pen Yards'\n",
       "\\item 'Winning TOP'\n",
       "\\item 'Field25'\n",
       "\\item 'Losing'\n",
       "\\item 'Losing Conference'\n",
       "\\item 'Losing H/A/N'\n",
       "\\item 'Losing Points'\n",
       "\\item 'Losing F/U'\n",
       "\\item 'Losing Cover'\n",
       "\\item 'Losing Spread'\n",
       "\\item 'Losing O/U'\n",
       "\\item 'Losing Passes'\n",
       "\\item 'Losing Pass Yards'\n",
       "\\item 'Losing YPPA'\n",
       "\\item 'Losing Rush Attempts'\n",
       "\\item 'Losing Rush Yards'\n",
       "\\item 'Losing YPRA'\n",
       "\\item 'Losing Total Plays'\n",
       "\\item 'Losing Total Yards'\n",
       "\\item 'Losing YPP'\n",
       "\\item 'Losing TO'\n",
       "\\item 'Losing Pen Yards'\n",
       "\\item 'Losing TOP'\n",
       "\\item 'OT?'\n",
       "\\item 'Thursday?'\n",
       "\\item 'TOP VERIFICATION'\n",
       "\\item 'O/U Total'\n",
       "\\item 'Tot Yard Dif'\n",
       "\\item 'TO Margin'\n",
       "\\end{enumerate*}\n"
      ],
      "text/markdown": [
       "1. 'Year'\n",
       "2. 'Game'\n",
       "3. 'Count'\n",
       "4. 'Conf Game'\n",
       "5. 'Week'\n",
       "6. 'Winning'\n",
       "7. 'Winning Conference'\n",
       "8. 'Winning H/A/N'\n",
       "9. 'Winning Points'\n",
       "10. 'Winning F/U'\n",
       "11. 'Winning Cover'\n",
       "12. 'Winning Spread'\n",
       "13. 'Winning O/U'\n",
       "14. 'Winning Passes'\n",
       "15. 'Winning Pass Yards'\n",
       "16. 'Winning YPPA'\n",
       "17. 'Winning Rushes'\n",
       "18. 'Winning Rush Yards'\n",
       "19. 'Winning YPRA'\n",
       "20. 'Winning Plays'\n",
       "21. 'Winning Total Yards'\n",
       "22. 'Winning YPP'\n",
       "23. 'Winning TO'\n",
       "24. 'Winning Pen Yards'\n",
       "25. 'Winning TOP'\n",
       "26. 'Field25'\n",
       "27. 'Losing'\n",
       "28. 'Losing Conference'\n",
       "29. 'Losing H/A/N'\n",
       "30. 'Losing Points'\n",
       "31. 'Losing F/U'\n",
       "32. 'Losing Cover'\n",
       "33. 'Losing Spread'\n",
       "34. 'Losing O/U'\n",
       "35. 'Losing Passes'\n",
       "36. 'Losing Pass Yards'\n",
       "37. 'Losing YPPA'\n",
       "38. 'Losing Rush Attempts'\n",
       "39. 'Losing Rush Yards'\n",
       "40. 'Losing YPRA'\n",
       "41. 'Losing Total Plays'\n",
       "42. 'Losing Total Yards'\n",
       "43. 'Losing YPP'\n",
       "44. 'Losing TO'\n",
       "45. 'Losing Pen Yards'\n",
       "46. 'Losing TOP'\n",
       "47. 'OT?'\n",
       "48. 'Thursday?'\n",
       "49. 'TOP VERIFICATION'\n",
       "50. 'O/U Total'\n",
       "51. 'Tot Yard Dif'\n",
       "52. 'TO Margin'\n",
       "\n",
       "\n"
      ],
      "text/plain": [
       " [1] \"Year\"                 \"Game\"                 \"Count\"               \n",
       " [4] \"Conf Game\"            \"Week\"                 \"Winning\"             \n",
       " [7] \"Winning Conference\"   \"Winning H/A/N\"        \"Winning Points\"      \n",
       "[10] \"Winning F/U\"          \"Winning Cover\"        \"Winning Spread\"      \n",
       "[13] \"Winning O/U\"          \"Winning Passes\"       \"Winning Pass Yards\"  \n",
       "[16] \"Winning YPPA\"         \"Winning Rushes\"       \"Winning Rush Yards\"  \n",
       "[19] \"Winning YPRA\"         \"Winning Plays\"        \"Winning Total Yards\" \n",
       "[22] \"Winning YPP\"          \"Winning TO\"           \"Winning Pen Yards\"   \n",
       "[25] \"Winning TOP\"          \"Field25\"              \"Losing\"              \n",
       "[28] \"Losing Conference\"    \"Losing H/A/N\"         \"Losing Points\"       \n",
       "[31] \"Losing F/U\"           \"Losing Cover\"         \"Losing Spread\"       \n",
       "[34] \"Losing O/U\"           \"Losing Passes\"        \"Losing Pass Yards\"   \n",
       "[37] \"Losing YPPA\"          \"Losing Rush Attempts\" \"Losing Rush Yards\"   \n",
       "[40] \"Losing YPRA\"          \"Losing Total Plays\"   \"Losing Total Yards\"  \n",
       "[43] \"Losing YPP\"           \"Losing TO\"            \"Losing Pen Yards\"    \n",
       "[46] \"Losing TOP\"           \"OT?\"                  \"Thursday?\"           \n",
       "[49] \"TOP VERIFICATION\"     \"O/U Total\"            \"Tot Yard Dif\"        \n",
       "[52] \"TO Margin\"           "
      ]
     },
     "metadata": {},
     "output_type": "display_data"
    }
   ],
   "source": [
    "colnames(cfb)"
   ]
  },
  {
   "cell_type": "code",
   "execution_count": 25,
   "metadata": {},
   "outputs": [
    {
     "name": "stdout",
     "output_type": "stream",
     "text": [
      "# A tibble: 14 x 2\n",
      "   Conference Team          \n",
      "   <chr>      <chr>         \n",
      " 1 Big 10     Minnesota     \n",
      " 2 Big 10     Northwestern  \n",
      " 3 Big 10     Wisconsin     \n",
      " 4 Big 10     Michigan State\n",
      " 5 Big 10     Ohio State    \n",
      " 6 Big 10     Penn State    \n",
      " 7 Big 10     Maryland      \n",
      " 8 Big 10     Illinois      \n",
      " 9 Big 10     Rutgers       \n",
      "10 Big 10     Iowa          \n",
      "11 Big 10     Indiana       \n",
      "12 Big 10     Michigan      \n",
      "13 Big 10     Purdue        \n",
      "14 Big 10     Nebraska      \n"
     ]
    }
   ],
   "source": [
    "# Finding Big 10 teams\n",
    "cfb %>% filter(Year==2018) %>% unite(wconf, `Winning Conference`, Winning, sep=\"_\") %>%\n",
    "        unite(lconf, `Losing Conference`, Losing, sep=\"_\") %>%\n",
    "        gather(wconf, lconf, key=\"wl\", value=\"conf_team\") %>%\n",
    "        separate(conf_team, into=c(\"Conference\", \"Team\"), sep=\"_\") %>%\n",
    "        filter(Conference == \"Big 10\") %>% distinct(Team, Conference) %>% print"
   ]
  },
  {
   "cell_type": "code",
   "execution_count": 28,
   "metadata": {},
   "outputs": [
    {
     "name": "stderr",
     "output_type": "stream",
     "text": [
      "Loading required package: nycflights13\n"
     ]
    }
   ],
   "source": [
    "require(nycflights13)"
   ]
  },
  {
   "cell_type": "code",
   "execution_count": 29,
   "metadata": {},
   "outputs": [
    {
     "name": "stderr",
     "output_type": "stream",
     "text": [
      "Joining, by = c(\"year\", \"month\", \"day\", \"origin\")\n"
     ]
    },
    {
     "data": {
      "text/html": [
       "90596"
      ],
      "text/latex": [
       "90596"
      ],
      "text/markdown": [
       "90596"
      ],
      "text/plain": [
       "[1] 90596"
      ]
     },
     "metadata": {},
     "output_type": "display_data"
    }
   ],
   "source": [
    "# Rainyday\n",
    "rainy_days <- group_by(weather, origin, year, month, day) %>% \n",
    "              summarize(t=min(temp, na.rm=T), p=max(precip, na.rm=T)) %>%\n",
    "              filter(p>0, t>32)\n",
    "semi_join(flights, rainy_days) %>% nrow"
   ]
  },
  {
   "cell_type": "markdown",
   "metadata": {},
   "source": [
    "## Which month had the most missing departure time? How many are missing?"
   ]
  },
  {
   "cell_type": "code",
   "execution_count": 27,
   "metadata": {},
   "outputs": [],
   "source": []
  },
  {
   "cell_type": "markdown",
   "metadata": {},
   "source": [
    "## In February, what percentage of flights with missing departure time were on snowy days? \n",
    "Let's define snowy days to be similar to rainy days. a) the min temp is less than or equal to freezing and b) precipitation occured during one or more hours in the day"
   ]
  },
  {
   "cell_type": "code",
   "execution_count": null,
   "metadata": {},
   "outputs": [],
   "source": []
  }
 ],
 "metadata": {
  "kernelspec": {
   "display_name": "R",
   "language": "R",
   "name": "ir"
  },
  "language_info": {
   "codemirror_mode": "r",
   "file_extension": ".r",
   "mimetype": "text/x-r-source",
   "name": "R",
   "pygments_lexer": "r",
   "version": "3.5.1"
  }
 },
 "nbformat": 4,
 "nbformat_minor": 2
}
