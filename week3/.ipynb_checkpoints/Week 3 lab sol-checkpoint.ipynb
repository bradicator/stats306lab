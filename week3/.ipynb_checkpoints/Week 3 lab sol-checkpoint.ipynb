{
 "cells": [
  {
   "cell_type": "markdown",
   "metadata": {},
   "source": [
    "### In today's lab, we practice using dplyr functions such as filter, arrange, select, mutate, summarize, group_by."
   ]
  },
  {
   "cell_type": "code",
   "execution_count": 5,
   "metadata": {},
   "outputs": [
    {
     "data": {
      "text/html": [
       "<table>\n",
       "<thead><tr><th scope=col>carat</th><th scope=col>cut</th><th scope=col>color</th><th scope=col>clarity</th><th scope=col>depth</th><th scope=col>table</th><th scope=col>price</th><th scope=col>x</th><th scope=col>y</th><th scope=col>z</th></tr></thead>\n",
       "<tbody>\n",
       "\t<tr><td>0.23     </td><td>Ideal    </td><td>E        </td><td>SI2      </td><td>61.5     </td><td>55       </td><td>326      </td><td>3.95     </td><td>3.98     </td><td>2.43     </td></tr>\n",
       "\t<tr><td>0.21     </td><td>Premium  </td><td>E        </td><td>SI1      </td><td>59.8     </td><td>61       </td><td>326      </td><td>3.89     </td><td>3.84     </td><td>2.31     </td></tr>\n",
       "\t<tr><td>0.23     </td><td>Good     </td><td>E        </td><td>VS1      </td><td>56.9     </td><td>65       </td><td>327      </td><td>4.05     </td><td>4.07     </td><td>2.31     </td></tr>\n",
       "\t<tr><td>0.29     </td><td>Premium  </td><td>I        </td><td>VS2      </td><td>62.4     </td><td>58       </td><td>334      </td><td>4.20     </td><td>4.23     </td><td>2.63     </td></tr>\n",
       "\t<tr><td>0.31     </td><td>Good     </td><td>J        </td><td>SI2      </td><td>63.3     </td><td>58       </td><td>335      </td><td>4.34     </td><td>4.35     </td><td>2.75     </td></tr>\n",
       "\t<tr><td>0.24     </td><td>Very Good</td><td>J        </td><td>VVS2     </td><td>62.8     </td><td>57       </td><td>336      </td><td>3.94     </td><td>3.96     </td><td>2.48     </td></tr>\n",
       "</tbody>\n",
       "</table>\n"
      ],
      "text/latex": [
       "\\begin{tabular}{r|llllllllll}\n",
       " carat & cut & color & clarity & depth & table & price & x & y & z\\\\\n",
       "\\hline\n",
       "\t 0.23      & Ideal     & E         & SI2       & 61.5      & 55        & 326       & 3.95      & 3.98      & 2.43     \\\\\n",
       "\t 0.21      & Premium   & E         & SI1       & 59.8      & 61        & 326       & 3.89      & 3.84      & 2.31     \\\\\n",
       "\t 0.23      & Good      & E         & VS1       & 56.9      & 65        & 327       & 4.05      & 4.07      & 2.31     \\\\\n",
       "\t 0.29      & Premium   & I         & VS2       & 62.4      & 58        & 334       & 4.20      & 4.23      & 2.63     \\\\\n",
       "\t 0.31      & Good      & J         & SI2       & 63.3      & 58        & 335       & 4.34      & 4.35      & 2.75     \\\\\n",
       "\t 0.24      & Very Good & J         & VVS2      & 62.8      & 57        & 336       & 3.94      & 3.96      & 2.48     \\\\\n",
       "\\end{tabular}\n"
      ],
      "text/markdown": [
       "\n",
       "carat | cut | color | clarity | depth | table | price | x | y | z | \n",
       "|---|---|---|---|---|---|\n",
       "| 0.23      | Ideal     | E         | SI2       | 61.5      | 55        | 326       | 3.95      | 3.98      | 2.43      | \n",
       "| 0.21      | Premium   | E         | SI1       | 59.8      | 61        | 326       | 3.89      | 3.84      | 2.31      | \n",
       "| 0.23      | Good      | E         | VS1       | 56.9      | 65        | 327       | 4.05      | 4.07      | 2.31      | \n",
       "| 0.29      | Premium   | I         | VS2       | 62.4      | 58        | 334       | 4.20      | 4.23      | 2.63      | \n",
       "| 0.31      | Good      | J         | SI2       | 63.3      | 58        | 335       | 4.34      | 4.35      | 2.75      | \n",
       "| 0.24      | Very Good | J         | VVS2      | 62.8      | 57        | 336       | 3.94      | 3.96      | 2.48      | \n",
       "\n",
       "\n"
      ],
      "text/plain": [
       "  carat cut       color clarity depth table price x    y    z   \n",
       "1 0.23  Ideal     E     SI2     61.5  55    326   3.95 3.98 2.43\n",
       "2 0.21  Premium   E     SI1     59.8  61    326   3.89 3.84 2.31\n",
       "3 0.23  Good      E     VS1     56.9  65    327   4.05 4.07 2.31\n",
       "4 0.29  Premium   I     VS2     62.4  58    334   4.20 4.23 2.63\n",
       "5 0.31  Good      J     SI2     63.3  58    335   4.34 4.35 2.75\n",
       "6 0.24  Very Good J     VVS2    62.8  57    336   3.94 3.96 2.48"
      ]
     },
     "metadata": {},
     "output_type": "display_data"
    }
   ],
   "source": [
    "require(tidyverse)\n",
    "dm = diamonds[1:2000,]\n",
    "head(dm)"
   ]
  },
  {
   "cell_type": "code",
   "execution_count": 2,
   "metadata": {},
   "outputs": [
    {
     "name": "stdout",
     "output_type": "stream",
     "text": [
      " Ord.factor w/ 5 levels \"Fair\"<\"Good\"<..: 5 4 2 4 2 3 3 3 1 3 ...\n"
     ]
    },
    {
     "data": {
      "text/html": [
       "<ol class=list-inline>\n",
       "\t<li>'Fair'</li>\n",
       "\t<li>'Good'</li>\n",
       "\t<li>'Very Good'</li>\n",
       "\t<li>'Premium'</li>\n",
       "\t<li>'Ideal'</li>\n",
       "</ol>\n"
      ],
      "text/latex": [
       "\\begin{enumerate*}\n",
       "\\item 'Fair'\n",
       "\\item 'Good'\n",
       "\\item 'Very Good'\n",
       "\\item 'Premium'\n",
       "\\item 'Ideal'\n",
       "\\end{enumerate*}\n"
      ],
      "text/markdown": [
       "1. 'Fair'\n",
       "2. 'Good'\n",
       "3. 'Very Good'\n",
       "4. 'Premium'\n",
       "5. 'Ideal'\n",
       "\n",
       "\n"
      ],
      "text/plain": [
       "[1] \"Fair\"      \"Good\"      \"Very Good\" \"Premium\"   \"Ideal\"    "
      ]
     },
     "metadata": {},
     "output_type": "display_data"
    }
   ],
   "source": [
    "str(dm$cut)\n",
    "levels(dm$cut)"
   ]
  },
  {
   "cell_type": "markdown",
   "metadata": {},
   "source": [
    "### Ex: In dm, filter for rows where:\n",
    "* cut is good and color is J.\n",
    "* cut is fair or color is J.\n",
    "* cut is premium or ideal.\n",
    "* cut is better than fair."
   ]
  },
  {
   "cell_type": "code",
   "execution_count": 13,
   "metadata": {},
   "outputs": [
    {
     "data": {
      "text/html": [
       "<table>\n",
       "<thead><tr><th scope=col>carat</th><th scope=col>cut</th><th scope=col>color</th><th scope=col>clarity</th><th scope=col>depth</th><th scope=col>table</th><th scope=col>price</th><th scope=col>x</th><th scope=col>y</th><th scope=col>z</th></tr></thead>\n",
       "<tbody>\n",
       "\t<tr><td>0.31</td><td>Good</td><td>J   </td><td>SI2 </td><td>63.3</td><td>58  </td><td> 335</td><td>4.34</td><td>4.35</td><td>2.75</td></tr>\n",
       "\t<tr><td>0.30</td><td>Good</td><td>J   </td><td>SI1 </td><td>64.0</td><td>55  </td><td> 339</td><td>4.25</td><td>4.28</td><td>2.73</td></tr>\n",
       "\t<tr><td>0.30</td><td>Good</td><td>J   </td><td>SI1 </td><td>63.4</td><td>54  </td><td> 351</td><td>4.23</td><td>4.29</td><td>2.70</td></tr>\n",
       "\t<tr><td>0.30</td><td>Good</td><td>J   </td><td>SI1 </td><td>63.8</td><td>56  </td><td> 351</td><td>4.23</td><td>4.26</td><td>2.71</td></tr>\n",
       "\t<tr><td>0.90</td><td>Good</td><td>J   </td><td>VS2 </td><td>64.0</td><td>61  </td><td>2822</td><td>6.04</td><td>6.03</td><td>3.86</td></tr>\n",
       "\t<tr><td>0.90</td><td>Good</td><td>J   </td><td>SI1 </td><td>64.3</td><td>63  </td><td>2832</td><td>6.05</td><td>6.01</td><td>3.88</td></tr>\n",
       "\t<tr><td>0.91</td><td>Good</td><td>J   </td><td>VS2 </td><td>64.2</td><td>58  </td><td>2854</td><td>6.12</td><td>6.09</td><td>3.92</td></tr>\n",
       "\t<tr><td>1.03</td><td>Good</td><td>J   </td><td>SI1 </td><td>63.6</td><td>57  </td><td>2855</td><td>6.38</td><td>6.29</td><td>4.03</td></tr>\n",
       "\t<tr><td>0.90</td><td>Good</td><td>J   </td><td>SI1 </td><td>64.0</td><td>61  </td><td>2873</td><td>6.00</td><td>5.96</td><td>3.83</td></tr>\n",
       "\t<tr><td>0.93</td><td>Good</td><td>J   </td><td>VS2 </td><td>63.6</td><td>61  </td><td>3000</td><td>6.16</td><td>6.08</td><td>3.89</td></tr>\n",
       "\t<tr><td>0.90</td><td>Good</td><td>J   </td><td>VS2 </td><td>63.9</td><td>58  </td><td>3024</td><td>6.15</td><td>6.08</td><td>3.91</td></tr>\n",
       "\t<tr><td>0.92</td><td>Good</td><td>J   </td><td>SI2 </td><td>59.0</td><td>63  </td><td>3070</td><td>6.30</td><td>6.35</td><td>3.73</td></tr>\n",
       "\t<tr><td>1.01</td><td>Good</td><td>J   </td><td>SI2 </td><td>63.7</td><td>60  </td><td>3088</td><td>6.40</td><td>6.29</td><td>4.05</td></tr>\n",
       "</tbody>\n",
       "</table>\n"
      ],
      "text/latex": [
       "\\begin{tabular}{r|llllllllll}\n",
       " carat & cut & color & clarity & depth & table & price & x & y & z\\\\\n",
       "\\hline\n",
       "\t 0.31 & Good & J    & SI2  & 63.3 & 58   &  335 & 4.34 & 4.35 & 2.75\\\\\n",
       "\t 0.30 & Good & J    & SI1  & 64.0 & 55   &  339 & 4.25 & 4.28 & 2.73\\\\\n",
       "\t 0.30 & Good & J    & SI1  & 63.4 & 54   &  351 & 4.23 & 4.29 & 2.70\\\\\n",
       "\t 0.30 & Good & J    & SI1  & 63.8 & 56   &  351 & 4.23 & 4.26 & 2.71\\\\\n",
       "\t 0.90 & Good & J    & VS2  & 64.0 & 61   & 2822 & 6.04 & 6.03 & 3.86\\\\\n",
       "\t 0.90 & Good & J    & SI1  & 64.3 & 63   & 2832 & 6.05 & 6.01 & 3.88\\\\\n",
       "\t 0.91 & Good & J    & VS2  & 64.2 & 58   & 2854 & 6.12 & 6.09 & 3.92\\\\\n",
       "\t 1.03 & Good & J    & SI1  & 63.6 & 57   & 2855 & 6.38 & 6.29 & 4.03\\\\\n",
       "\t 0.90 & Good & J    & SI1  & 64.0 & 61   & 2873 & 6.00 & 5.96 & 3.83\\\\\n",
       "\t 0.93 & Good & J    & VS2  & 63.6 & 61   & 3000 & 6.16 & 6.08 & 3.89\\\\\n",
       "\t 0.90 & Good & J    & VS2  & 63.9 & 58   & 3024 & 6.15 & 6.08 & 3.91\\\\\n",
       "\t 0.92 & Good & J    & SI2  & 59.0 & 63   & 3070 & 6.30 & 6.35 & 3.73\\\\\n",
       "\t 1.01 & Good & J    & SI2  & 63.7 & 60   & 3088 & 6.40 & 6.29 & 4.05\\\\\n",
       "\\end{tabular}\n"
      ],
      "text/markdown": [
       "\n",
       "carat | cut | color | clarity | depth | table | price | x | y | z | \n",
       "|---|---|---|---|---|---|---|---|---|---|---|---|---|\n",
       "| 0.31 | Good | J    | SI2  | 63.3 | 58   |  335 | 4.34 | 4.35 | 2.75 | \n",
       "| 0.30 | Good | J    | SI1  | 64.0 | 55   |  339 | 4.25 | 4.28 | 2.73 | \n",
       "| 0.30 | Good | J    | SI1  | 63.4 | 54   |  351 | 4.23 | 4.29 | 2.70 | \n",
       "| 0.30 | Good | J    | SI1  | 63.8 | 56   |  351 | 4.23 | 4.26 | 2.71 | \n",
       "| 0.90 | Good | J    | VS2  | 64.0 | 61   | 2822 | 6.04 | 6.03 | 3.86 | \n",
       "| 0.90 | Good | J    | SI1  | 64.3 | 63   | 2832 | 6.05 | 6.01 | 3.88 | \n",
       "| 0.91 | Good | J    | VS2  | 64.2 | 58   | 2854 | 6.12 | 6.09 | 3.92 | \n",
       "| 1.03 | Good | J    | SI1  | 63.6 | 57   | 2855 | 6.38 | 6.29 | 4.03 | \n",
       "| 0.90 | Good | J    | SI1  | 64.0 | 61   | 2873 | 6.00 | 5.96 | 3.83 | \n",
       "| 0.93 | Good | J    | VS2  | 63.6 | 61   | 3000 | 6.16 | 6.08 | 3.89 | \n",
       "| 0.90 | Good | J    | VS2  | 63.9 | 58   | 3024 | 6.15 | 6.08 | 3.91 | \n",
       "| 0.92 | Good | J    | SI2  | 59.0 | 63   | 3070 | 6.30 | 6.35 | 3.73 | \n",
       "| 1.01 | Good | J    | SI2  | 63.7 | 60   | 3088 | 6.40 | 6.29 | 4.05 | \n",
       "\n",
       "\n"
      ],
      "text/plain": [
       "   carat cut  color clarity depth table price x    y    z   \n",
       "1  0.31  Good J     SI2     63.3  58     335  4.34 4.35 2.75\n",
       "2  0.30  Good J     SI1     64.0  55     339  4.25 4.28 2.73\n",
       "3  0.30  Good J     SI1     63.4  54     351  4.23 4.29 2.70\n",
       "4  0.30  Good J     SI1     63.8  56     351  4.23 4.26 2.71\n",
       "5  0.90  Good J     VS2     64.0  61    2822  6.04 6.03 3.86\n",
       "6  0.90  Good J     SI1     64.3  63    2832  6.05 6.01 3.88\n",
       "7  0.91  Good J     VS2     64.2  58    2854  6.12 6.09 3.92\n",
       "8  1.03  Good J     SI1     63.6  57    2855  6.38 6.29 4.03\n",
       "9  0.90  Good J     SI1     64.0  61    2873  6.00 5.96 3.83\n",
       "10 0.93  Good J     VS2     63.6  61    3000  6.16 6.08 3.89\n",
       "11 0.90  Good J     VS2     63.9  58    3024  6.15 6.08 3.91\n",
       "12 0.92  Good J     SI2     59.0  63    3070  6.30 6.35 3.73\n",
       "13 1.01  Good J     SI2     63.7  60    3088  6.40 6.29 4.05"
      ]
     },
     "metadata": {},
     "output_type": "display_data"
    }
   ],
   "source": [
    "# cut is fair and color is J.\n",
    "filter(dm, cut == \"Good\", color == \"J\")"
   ]
  },
  {
   "cell_type": "code",
   "execution_count": 14,
   "metadata": {},
   "outputs": [
    {
     "data": {
      "text/html": [
       "<table>\n",
       "<thead><tr><th scope=col>carat</th><th scope=col>cut</th><th scope=col>color</th><th scope=col>clarity</th><th scope=col>depth</th><th scope=col>table</th><th scope=col>price</th><th scope=col>x</th><th scope=col>y</th><th scope=col>z</th></tr></thead>\n",
       "<tbody>\n",
       "\t<tr><td>0.31     </td><td>Good     </td><td>J        </td><td>SI2      </td><td>63.3     </td><td>58       </td><td>335      </td><td>4.34     </td><td>4.35     </td><td>2.75     </td></tr>\n",
       "\t<tr><td>0.24     </td><td>Very Good</td><td>J        </td><td>VVS2     </td><td>62.8     </td><td>57       </td><td>336      </td><td>3.94     </td><td>3.96     </td><td>2.48     </td></tr>\n",
       "\t<tr><td>0.30     </td><td>Good     </td><td>J        </td><td>SI1      </td><td>64.0     </td><td>55       </td><td>339      </td><td>4.25     </td><td>4.28     </td><td>2.73     </td></tr>\n",
       "\t<tr><td>0.23     </td><td>Ideal    </td><td>J        </td><td>VS1      </td><td>62.8     </td><td>56       </td><td>340      </td><td>3.93     </td><td>3.90     </td><td>2.46     </td></tr>\n",
       "\t<tr><td>0.31     </td><td>Ideal    </td><td>J        </td><td>SI2      </td><td>62.2     </td><td>54       </td><td>344      </td><td>4.35     </td><td>4.37     </td><td>2.71     </td></tr>\n",
       "\t<tr><td>0.30     </td><td>Good     </td><td>J        </td><td>SI1      </td><td>63.4     </td><td>54       </td><td>351      </td><td>4.23     </td><td>4.29     </td><td>2.70     </td></tr>\n",
       "</tbody>\n",
       "</table>\n"
      ],
      "text/latex": [
       "\\begin{tabular}{r|llllllllll}\n",
       " carat & cut & color & clarity & depth & table & price & x & y & z\\\\\n",
       "\\hline\n",
       "\t 0.31      & Good      & J         & SI2       & 63.3      & 58        & 335       & 4.34      & 4.35      & 2.75     \\\\\n",
       "\t 0.24      & Very Good & J         & VVS2      & 62.8      & 57        & 336       & 3.94      & 3.96      & 2.48     \\\\\n",
       "\t 0.30      & Good      & J         & SI1       & 64.0      & 55        & 339       & 4.25      & 4.28      & 2.73     \\\\\n",
       "\t 0.23      & Ideal     & J         & VS1       & 62.8      & 56        & 340       & 3.93      & 3.90      & 2.46     \\\\\n",
       "\t 0.31      & Ideal     & J         & SI2       & 62.2      & 54        & 344       & 4.35      & 4.37      & 2.71     \\\\\n",
       "\t 0.30      & Good      & J         & SI1       & 63.4      & 54        & 351       & 4.23      & 4.29      & 2.70     \\\\\n",
       "\\end{tabular}\n"
      ],
      "text/markdown": [
       "\n",
       "carat | cut | color | clarity | depth | table | price | x | y | z | \n",
       "|---|---|---|---|---|---|\n",
       "| 0.31      | Good      | J         | SI2       | 63.3      | 58        | 335       | 4.34      | 4.35      | 2.75      | \n",
       "| 0.24      | Very Good | J         | VVS2      | 62.8      | 57        | 336       | 3.94      | 3.96      | 2.48      | \n",
       "| 0.30      | Good      | J         | SI1       | 64.0      | 55        | 339       | 4.25      | 4.28      | 2.73      | \n",
       "| 0.23      | Ideal     | J         | VS1       | 62.8      | 56        | 340       | 3.93      | 3.90      | 2.46      | \n",
       "| 0.31      | Ideal     | J         | SI2       | 62.2      | 54        | 344       | 4.35      | 4.37      | 2.71      | \n",
       "| 0.30      | Good      | J         | SI1       | 63.4      | 54        | 351       | 4.23      | 4.29      | 2.70      | \n",
       "\n",
       "\n"
      ],
      "text/plain": [
       "  carat cut       color clarity depth table price x    y    z   \n",
       "1 0.31  Good      J     SI2     63.3  58    335   4.34 4.35 2.75\n",
       "2 0.24  Very Good J     VVS2    62.8  57    336   3.94 3.96 2.48\n",
       "3 0.30  Good      J     SI1     64.0  55    339   4.25 4.28 2.73\n",
       "4 0.23  Ideal     J     VS1     62.8  56    340   3.93 3.90 2.46\n",
       "5 0.31  Ideal     J     SI2     62.2  54    344   4.35 4.37 2.71\n",
       "6 0.30  Good      J     SI1     63.4  54    351   4.23 4.29 2.70"
      ]
     },
     "metadata": {},
     "output_type": "display_data"
    }
   ],
   "source": [
    "# cut is fair or color is J.\n",
    "filter(dm, cut == \"fair\"| color == \"J\") %>% head"
   ]
  },
  {
   "cell_type": "code",
   "execution_count": 16,
   "metadata": {},
   "outputs": [
    {
     "data": {
      "text/html": [
       "<table>\n",
       "<thead><tr><th scope=col>carat</th><th scope=col>cut</th><th scope=col>color</th><th scope=col>clarity</th><th scope=col>depth</th><th scope=col>table</th><th scope=col>price</th><th scope=col>x</th><th scope=col>y</th><th scope=col>z</th></tr></thead>\n",
       "<tbody>\n",
       "\t<tr><td>0.23   </td><td>Ideal  </td><td>E      </td><td>SI2    </td><td>61.5   </td><td>55     </td><td>326    </td><td>3.95   </td><td>3.98   </td><td>2.43   </td></tr>\n",
       "\t<tr><td>0.21   </td><td>Premium</td><td>E      </td><td>SI1    </td><td>59.8   </td><td>61     </td><td>326    </td><td>3.89   </td><td>3.84   </td><td>2.31   </td></tr>\n",
       "\t<tr><td>0.29   </td><td>Premium</td><td>I      </td><td>VS2    </td><td>62.4   </td><td>58     </td><td>334    </td><td>4.20   </td><td>4.23   </td><td>2.63   </td></tr>\n",
       "\t<tr><td>0.23   </td><td>Ideal  </td><td>J      </td><td>VS1    </td><td>62.8   </td><td>56     </td><td>340    </td><td>3.93   </td><td>3.90   </td><td>2.46   </td></tr>\n",
       "\t<tr><td>0.22   </td><td>Premium</td><td>F      </td><td>SI1    </td><td>60.4   </td><td>61     </td><td>342    </td><td>3.88   </td><td>3.84   </td><td>2.33   </td></tr>\n",
       "\t<tr><td>0.31   </td><td>Ideal  </td><td>J      </td><td>SI2    </td><td>62.2   </td><td>54     </td><td>344    </td><td>4.35   </td><td>4.37   </td><td>2.71   </td></tr>\n",
       "</tbody>\n",
       "</table>\n"
      ],
      "text/latex": [
       "\\begin{tabular}{r|llllllllll}\n",
       " carat & cut & color & clarity & depth & table & price & x & y & z\\\\\n",
       "\\hline\n",
       "\t 0.23    & Ideal   & E       & SI2     & 61.5    & 55      & 326     & 3.95    & 3.98    & 2.43   \\\\\n",
       "\t 0.21    & Premium & E       & SI1     & 59.8    & 61      & 326     & 3.89    & 3.84    & 2.31   \\\\\n",
       "\t 0.29    & Premium & I       & VS2     & 62.4    & 58      & 334     & 4.20    & 4.23    & 2.63   \\\\\n",
       "\t 0.23    & Ideal   & J       & VS1     & 62.8    & 56      & 340     & 3.93    & 3.90    & 2.46   \\\\\n",
       "\t 0.22    & Premium & F       & SI1     & 60.4    & 61      & 342     & 3.88    & 3.84    & 2.33   \\\\\n",
       "\t 0.31    & Ideal   & J       & SI2     & 62.2    & 54      & 344     & 4.35    & 4.37    & 2.71   \\\\\n",
       "\\end{tabular}\n"
      ],
      "text/markdown": [
       "\n",
       "carat | cut | color | clarity | depth | table | price | x | y | z | \n",
       "|---|---|---|---|---|---|\n",
       "| 0.23    | Ideal   | E       | SI2     | 61.5    | 55      | 326     | 3.95    | 3.98    | 2.43    | \n",
       "| 0.21    | Premium | E       | SI1     | 59.8    | 61      | 326     | 3.89    | 3.84    | 2.31    | \n",
       "| 0.29    | Premium | I       | VS2     | 62.4    | 58      | 334     | 4.20    | 4.23    | 2.63    | \n",
       "| 0.23    | Ideal   | J       | VS1     | 62.8    | 56      | 340     | 3.93    | 3.90    | 2.46    | \n",
       "| 0.22    | Premium | F       | SI1     | 60.4    | 61      | 342     | 3.88    | 3.84    | 2.33    | \n",
       "| 0.31    | Ideal   | J       | SI2     | 62.2    | 54      | 344     | 4.35    | 4.37    | 2.71    | \n",
       "\n",
       "\n"
      ],
      "text/plain": [
       "  carat cut     color clarity depth table price x    y    z   \n",
       "1 0.23  Ideal   E     SI2     61.5  55    326   3.95 3.98 2.43\n",
       "2 0.21  Premium E     SI1     59.8  61    326   3.89 3.84 2.31\n",
       "3 0.29  Premium I     VS2     62.4  58    334   4.20 4.23 2.63\n",
       "4 0.23  Ideal   J     VS1     62.8  56    340   3.93 3.90 2.46\n",
       "5 0.22  Premium F     SI1     60.4  61    342   3.88 3.84 2.33\n",
       "6 0.31  Ideal   J     SI2     62.2  54    344   4.35 4.37 2.71"
      ]
     },
     "metadata": {},
     "output_type": "display_data"
    }
   ],
   "source": [
    "# cut is premium or ideal.\n",
    "filter(dm, cut %in% c(\"Premium\", \"Ideal\")) %>% head"
   ]
  },
  {
   "cell_type": "code",
   "execution_count": 18,
   "metadata": {},
   "outputs": [
    {
     "data": {
      "text/html": [
       "<table>\n",
       "<thead><tr><th scope=col>carat</th><th scope=col>cut</th><th scope=col>color</th><th scope=col>clarity</th><th scope=col>depth</th><th scope=col>table</th><th scope=col>price</th><th scope=col>x</th><th scope=col>y</th><th scope=col>z</th></tr></thead>\n",
       "<tbody>\n",
       "\t<tr><td>0.23     </td><td>Ideal    </td><td>E        </td><td>SI2      </td><td>61.5     </td><td>55       </td><td>326      </td><td>3.95     </td><td>3.98     </td><td>2.43     </td></tr>\n",
       "\t<tr><td>0.21     </td><td>Premium  </td><td>E        </td><td>SI1      </td><td>59.8     </td><td>61       </td><td>326      </td><td>3.89     </td><td>3.84     </td><td>2.31     </td></tr>\n",
       "\t<tr><td>0.23     </td><td>Good     </td><td>E        </td><td>VS1      </td><td>56.9     </td><td>65       </td><td>327      </td><td>4.05     </td><td>4.07     </td><td>2.31     </td></tr>\n",
       "\t<tr><td>0.29     </td><td>Premium  </td><td>I        </td><td>VS2      </td><td>62.4     </td><td>58       </td><td>334      </td><td>4.20     </td><td>4.23     </td><td>2.63     </td></tr>\n",
       "\t<tr><td>0.31     </td><td>Good     </td><td>J        </td><td>SI2      </td><td>63.3     </td><td>58       </td><td>335      </td><td>4.34     </td><td>4.35     </td><td>2.75     </td></tr>\n",
       "\t<tr><td>0.24     </td><td>Very Good</td><td>J        </td><td>VVS2     </td><td>62.8     </td><td>57       </td><td>336      </td><td>3.94     </td><td>3.96     </td><td>2.48     </td></tr>\n",
       "</tbody>\n",
       "</table>\n"
      ],
      "text/latex": [
       "\\begin{tabular}{r|llllllllll}\n",
       " carat & cut & color & clarity & depth & table & price & x & y & z\\\\\n",
       "\\hline\n",
       "\t 0.23      & Ideal     & E         & SI2       & 61.5      & 55        & 326       & 3.95      & 3.98      & 2.43     \\\\\n",
       "\t 0.21      & Premium   & E         & SI1       & 59.8      & 61        & 326       & 3.89      & 3.84      & 2.31     \\\\\n",
       "\t 0.23      & Good      & E         & VS1       & 56.9      & 65        & 327       & 4.05      & 4.07      & 2.31     \\\\\n",
       "\t 0.29      & Premium   & I         & VS2       & 62.4      & 58        & 334       & 4.20      & 4.23      & 2.63     \\\\\n",
       "\t 0.31      & Good      & J         & SI2       & 63.3      & 58        & 335       & 4.34      & 4.35      & 2.75     \\\\\n",
       "\t 0.24      & Very Good & J         & VVS2      & 62.8      & 57        & 336       & 3.94      & 3.96      & 2.48     \\\\\n",
       "\\end{tabular}\n"
      ],
      "text/markdown": [
       "\n",
       "carat | cut | color | clarity | depth | table | price | x | y | z | \n",
       "|---|---|---|---|---|---|\n",
       "| 0.23      | Ideal     | E         | SI2       | 61.5      | 55        | 326       | 3.95      | 3.98      | 2.43      | \n",
       "| 0.21      | Premium   | E         | SI1       | 59.8      | 61        | 326       | 3.89      | 3.84      | 2.31      | \n",
       "| 0.23      | Good      | E         | VS1       | 56.9      | 65        | 327       | 4.05      | 4.07      | 2.31      | \n",
       "| 0.29      | Premium   | I         | VS2       | 62.4      | 58        | 334       | 4.20      | 4.23      | 2.63      | \n",
       "| 0.31      | Good      | J         | SI2       | 63.3      | 58        | 335       | 4.34      | 4.35      | 2.75      | \n",
       "| 0.24      | Very Good | J         | VVS2      | 62.8      | 57        | 336       | 3.94      | 3.96      | 2.48      | \n",
       "\n",
       "\n"
      ],
      "text/plain": [
       "  carat cut       color clarity depth table price x    y    z   \n",
       "1 0.23  Ideal     E     SI2     61.5  55    326   3.95 3.98 2.43\n",
       "2 0.21  Premium   E     SI1     59.8  61    326   3.89 3.84 2.31\n",
       "3 0.23  Good      E     VS1     56.9  65    327   4.05 4.07 2.31\n",
       "4 0.29  Premium   I     VS2     62.4  58    334   4.20 4.23 2.63\n",
       "5 0.31  Good      J     SI2     63.3  58    335   4.34 4.35 2.75\n",
       "6 0.24  Very Good J     VVS2    62.8  57    336   3.94 3.96 2.48"
      ]
     },
     "metadata": {},
     "output_type": "display_data"
    }
   ],
   "source": [
    "# cut is better than fair.\n",
    "filter(dm, cut > \"Fair\") %>% head"
   ]
  },
  {
   "cell_type": "markdown",
   "metadata": {},
   "source": [
    "### Ex: In dm, arrange the rows:\n",
    "* by carat.\n",
    "* by cut and then color.\n",
    "* by cut (increasing order) and then color (decreasing order)"
   ]
  },
  {
   "cell_type": "code",
   "execution_count": 21,
   "metadata": {},
   "outputs": [
    {
     "data": {
      "text/html": [
       "<table>\n",
       "<thead><tr><th scope=col>carat</th><th scope=col>cut</th><th scope=col>color</th><th scope=col>clarity</th><th scope=col>depth</th><th scope=col>table</th><th scope=col>price</th><th scope=col>x</th><th scope=col>y</th><th scope=col>z</th></tr></thead>\n",
       "<tbody>\n",
       "\t<tr><td>0.20   </td><td>Premium</td><td>E      </td><td>SI2    </td><td>60.2   </td><td>62     </td><td>345    </td><td>3.79   </td><td>3.75   </td><td>2.27   </td></tr>\n",
       "\t<tr><td>0.21   </td><td>Premium</td><td>E      </td><td>SI1    </td><td>59.8   </td><td>61     </td><td>326    </td><td>3.89   </td><td>3.84   </td><td>2.31   </td></tr>\n",
       "\t<tr><td>0.22   </td><td>Fair   </td><td>E      </td><td>VS2    </td><td>65.1   </td><td>61     </td><td>337    </td><td>3.87   </td><td>3.78   </td><td>2.49   </td></tr>\n",
       "\t<tr><td>0.22   </td><td>Premium</td><td>F      </td><td>SI1    </td><td>60.4   </td><td>61     </td><td>342    </td><td>3.88   </td><td>3.84   </td><td>2.33   </td></tr>\n",
       "\t<tr><td>0.22   </td><td>Premium</td><td>E      </td><td>VS2    </td><td>61.6   </td><td>58     </td><td>404    </td><td>3.93   </td><td>3.89   </td><td>2.41   </td></tr>\n",
       "\t<tr><td>0.22   </td><td>Premium</td><td>D      </td><td>VS2    </td><td>59.3   </td><td>62     </td><td>404    </td><td>3.91   </td><td>3.88   </td><td>2.31   </td></tr>\n",
       "</tbody>\n",
       "</table>\n"
      ],
      "text/latex": [
       "\\begin{tabular}{r|llllllllll}\n",
       " carat & cut & color & clarity & depth & table & price & x & y & z\\\\\n",
       "\\hline\n",
       "\t 0.20    & Premium & E       & SI2     & 60.2    & 62      & 345     & 3.79    & 3.75    & 2.27   \\\\\n",
       "\t 0.21    & Premium & E       & SI1     & 59.8    & 61      & 326     & 3.89    & 3.84    & 2.31   \\\\\n",
       "\t 0.22    & Fair    & E       & VS2     & 65.1    & 61      & 337     & 3.87    & 3.78    & 2.49   \\\\\n",
       "\t 0.22    & Premium & F       & SI1     & 60.4    & 61      & 342     & 3.88    & 3.84    & 2.33   \\\\\n",
       "\t 0.22    & Premium & E       & VS2     & 61.6    & 58      & 404     & 3.93    & 3.89    & 2.41   \\\\\n",
       "\t 0.22    & Premium & D       & VS2     & 59.3    & 62      & 404     & 3.91    & 3.88    & 2.31   \\\\\n",
       "\\end{tabular}\n"
      ],
      "text/markdown": [
       "\n",
       "carat | cut | color | clarity | depth | table | price | x | y | z | \n",
       "|---|---|---|---|---|---|\n",
       "| 0.20    | Premium | E       | SI2     | 60.2    | 62      | 345     | 3.79    | 3.75    | 2.27    | \n",
       "| 0.21    | Premium | E       | SI1     | 59.8    | 61      | 326     | 3.89    | 3.84    | 2.31    | \n",
       "| 0.22    | Fair    | E       | VS2     | 65.1    | 61      | 337     | 3.87    | 3.78    | 2.49    | \n",
       "| 0.22    | Premium | F       | SI1     | 60.4    | 61      | 342     | 3.88    | 3.84    | 2.33    | \n",
       "| 0.22    | Premium | E       | VS2     | 61.6    | 58      | 404     | 3.93    | 3.89    | 2.41    | \n",
       "| 0.22    | Premium | D       | VS2     | 59.3    | 62      | 404     | 3.91    | 3.88    | 2.31    | \n",
       "\n",
       "\n"
      ],
      "text/plain": [
       "  carat cut     color clarity depth table price x    y    z   \n",
       "1 0.20  Premium E     SI2     60.2  62    345   3.79 3.75 2.27\n",
       "2 0.21  Premium E     SI1     59.8  61    326   3.89 3.84 2.31\n",
       "3 0.22  Fair    E     VS2     65.1  61    337   3.87 3.78 2.49\n",
       "4 0.22  Premium F     SI1     60.4  61    342   3.88 3.84 2.33\n",
       "5 0.22  Premium E     VS2     61.6  58    404   3.93 3.89 2.41\n",
       "6 0.22  Premium D     VS2     59.3  62    404   3.91 3.88 2.31"
      ]
     },
     "metadata": {},
     "output_type": "display_data"
    }
   ],
   "source": [
    "# by carat.\n",
    "arrange(dm, carat) %>% head"
   ]
  },
  {
   "cell_type": "code",
   "execution_count": 22,
   "metadata": {},
   "outputs": [
    {
     "data": {
      "text/html": [
       "<table>\n",
       "<thead><tr><th scope=col>carat</th><th scope=col>cut</th><th scope=col>color</th><th scope=col>clarity</th><th scope=col>depth</th><th scope=col>table</th><th scope=col>price</th><th scope=col>x</th><th scope=col>y</th><th scope=col>z</th></tr></thead>\n",
       "<tbody>\n",
       "\t<tr><td>0.75</td><td>Fair</td><td>D   </td><td>SI2 </td><td>64.6</td><td>57  </td><td>2848</td><td>5.74</td><td>5.72</td><td>3.70</td></tr>\n",
       "\t<tr><td>0.71</td><td>Fair</td><td>D   </td><td>VS2 </td><td>56.9</td><td>65  </td><td>2858</td><td>5.89</td><td>5.84</td><td>3.34</td></tr>\n",
       "\t<tr><td>0.90</td><td>Fair</td><td>D   </td><td>SI2 </td><td>66.9</td><td>57  </td><td>2885</td><td>6.02</td><td>5.90</td><td>3.99</td></tr>\n",
       "\t<tr><td>1.00</td><td>Fair</td><td>D   </td><td>SI2 </td><td>69.3</td><td>58  </td><td>2974</td><td>5.96</td><td>5.87</td><td>4.10</td></tr>\n",
       "\t<tr><td>1.01</td><td>Fair</td><td>D   </td><td>SI2 </td><td>64.6</td><td>56  </td><td>3003</td><td>6.31</td><td>6.24</td><td>4.05</td></tr>\n",
       "\t<tr><td>0.73</td><td>Fair</td><td>D   </td><td>VS1 </td><td>66.0</td><td>54  </td><td>3047</td><td>5.56</td><td>5.66</td><td>3.70</td></tr>\n",
       "</tbody>\n",
       "</table>\n"
      ],
      "text/latex": [
       "\\begin{tabular}{r|llllllllll}\n",
       " carat & cut & color & clarity & depth & table & price & x & y & z\\\\\n",
       "\\hline\n",
       "\t 0.75 & Fair & D    & SI2  & 64.6 & 57   & 2848 & 5.74 & 5.72 & 3.70\\\\\n",
       "\t 0.71 & Fair & D    & VS2  & 56.9 & 65   & 2858 & 5.89 & 5.84 & 3.34\\\\\n",
       "\t 0.90 & Fair & D    & SI2  & 66.9 & 57   & 2885 & 6.02 & 5.90 & 3.99\\\\\n",
       "\t 1.00 & Fair & D    & SI2  & 69.3 & 58   & 2974 & 5.96 & 5.87 & 4.10\\\\\n",
       "\t 1.01 & Fair & D    & SI2  & 64.6 & 56   & 3003 & 6.31 & 6.24 & 4.05\\\\\n",
       "\t 0.73 & Fair & D    & VS1  & 66.0 & 54   & 3047 & 5.56 & 5.66 & 3.70\\\\\n",
       "\\end{tabular}\n"
      ],
      "text/markdown": [
       "\n",
       "carat | cut | color | clarity | depth | table | price | x | y | z | \n",
       "|---|---|---|---|---|---|\n",
       "| 0.75 | Fair | D    | SI2  | 64.6 | 57   | 2848 | 5.74 | 5.72 | 3.70 | \n",
       "| 0.71 | Fair | D    | VS2  | 56.9 | 65   | 2858 | 5.89 | 5.84 | 3.34 | \n",
       "| 0.90 | Fair | D    | SI2  | 66.9 | 57   | 2885 | 6.02 | 5.90 | 3.99 | \n",
       "| 1.00 | Fair | D    | SI2  | 69.3 | 58   | 2974 | 5.96 | 5.87 | 4.10 | \n",
       "| 1.01 | Fair | D    | SI2  | 64.6 | 56   | 3003 | 6.31 | 6.24 | 4.05 | \n",
       "| 0.73 | Fair | D    | VS1  | 66.0 | 54   | 3047 | 5.56 | 5.66 | 3.70 | \n",
       "\n",
       "\n"
      ],
      "text/plain": [
       "  carat cut  color clarity depth table price x    y    z   \n",
       "1 0.75  Fair D     SI2     64.6  57    2848  5.74 5.72 3.70\n",
       "2 0.71  Fair D     VS2     56.9  65    2858  5.89 5.84 3.34\n",
       "3 0.90  Fair D     SI2     66.9  57    2885  6.02 5.90 3.99\n",
       "4 1.00  Fair D     SI2     69.3  58    2974  5.96 5.87 4.10\n",
       "5 1.01  Fair D     SI2     64.6  56    3003  6.31 6.24 4.05\n",
       "6 0.73  Fair D     VS1     66.0  54    3047  5.56 5.66 3.70"
      ]
     },
     "metadata": {},
     "output_type": "display_data"
    }
   ],
   "source": [
    "# by cut and then color.\n",
    "arrange(dm, cut, color) %>% head"
   ]
  },
  {
   "cell_type": "code",
   "execution_count": 23,
   "metadata": {},
   "outputs": [
    {
     "data": {
      "text/html": [
       "<table>\n",
       "<thead><tr><th scope=col>carat</th><th scope=col>cut</th><th scope=col>color</th><th scope=col>clarity</th><th scope=col>depth</th><th scope=col>table</th><th scope=col>price</th><th scope=col>x</th><th scope=col>y</th><th scope=col>z</th></tr></thead>\n",
       "<tbody>\n",
       "\t<tr><td>1.05</td><td>Fair</td><td>J   </td><td>SI2 </td><td>65.8</td><td>59  </td><td>2789</td><td>6.41</td><td>6.27</td><td>4.18</td></tr>\n",
       "\t<tr><td>1.00</td><td>Fair</td><td>J   </td><td>VS2 </td><td>65.7</td><td>59  </td><td>2811</td><td>6.14</td><td>6.07</td><td>4.01</td></tr>\n",
       "\t<tr><td>0.99</td><td>Fair</td><td>J   </td><td>SI1 </td><td>55.0</td><td>61  </td><td>2812</td><td>6.72</td><td>6.67</td><td>3.68</td></tr>\n",
       "\t<tr><td>0.90</td><td>Fair</td><td>J   </td><td>VS2 </td><td>65.0</td><td>56  </td><td>2815</td><td>6.08</td><td>6.04</td><td>3.94</td></tr>\n",
       "\t<tr><td>0.91</td><td>Fair</td><td>J   </td><td>VS2 </td><td>64.4</td><td>62  </td><td>2854</td><td>6.06</td><td>6.03</td><td>3.89</td></tr>\n",
       "\t<tr><td>0.91</td><td>Fair</td><td>J   </td><td>VS2 </td><td>65.4</td><td>60  </td><td>2854</td><td>6.04</td><td>6.00</td><td>3.94</td></tr>\n",
       "</tbody>\n",
       "</table>\n"
      ],
      "text/latex": [
       "\\begin{tabular}{r|llllllllll}\n",
       " carat & cut & color & clarity & depth & table & price & x & y & z\\\\\n",
       "\\hline\n",
       "\t 1.05 & Fair & J    & SI2  & 65.8 & 59   & 2789 & 6.41 & 6.27 & 4.18\\\\\n",
       "\t 1.00 & Fair & J    & VS2  & 65.7 & 59   & 2811 & 6.14 & 6.07 & 4.01\\\\\n",
       "\t 0.99 & Fair & J    & SI1  & 55.0 & 61   & 2812 & 6.72 & 6.67 & 3.68\\\\\n",
       "\t 0.90 & Fair & J    & VS2  & 65.0 & 56   & 2815 & 6.08 & 6.04 & 3.94\\\\\n",
       "\t 0.91 & Fair & J    & VS2  & 64.4 & 62   & 2854 & 6.06 & 6.03 & 3.89\\\\\n",
       "\t 0.91 & Fair & J    & VS2  & 65.4 & 60   & 2854 & 6.04 & 6.00 & 3.94\\\\\n",
       "\\end{tabular}\n"
      ],
      "text/markdown": [
       "\n",
       "carat | cut | color | clarity | depth | table | price | x | y | z | \n",
       "|---|---|---|---|---|---|\n",
       "| 1.05 | Fair | J    | SI2  | 65.8 | 59   | 2789 | 6.41 | 6.27 | 4.18 | \n",
       "| 1.00 | Fair | J    | VS2  | 65.7 | 59   | 2811 | 6.14 | 6.07 | 4.01 | \n",
       "| 0.99 | Fair | J    | SI1  | 55.0 | 61   | 2812 | 6.72 | 6.67 | 3.68 | \n",
       "| 0.90 | Fair | J    | VS2  | 65.0 | 56   | 2815 | 6.08 | 6.04 | 3.94 | \n",
       "| 0.91 | Fair | J    | VS2  | 64.4 | 62   | 2854 | 6.06 | 6.03 | 3.89 | \n",
       "| 0.91 | Fair | J    | VS2  | 65.4 | 60   | 2854 | 6.04 | 6.00 | 3.94 | \n",
       "\n",
       "\n"
      ],
      "text/plain": [
       "  carat cut  color clarity depth table price x    y    z   \n",
       "1 1.05  Fair J     SI2     65.8  59    2789  6.41 6.27 4.18\n",
       "2 1.00  Fair J     VS2     65.7  59    2811  6.14 6.07 4.01\n",
       "3 0.99  Fair J     SI1     55.0  61    2812  6.72 6.67 3.68\n",
       "4 0.90  Fair J     VS2     65.0  56    2815  6.08 6.04 3.94\n",
       "5 0.91  Fair J     VS2     64.4  62    2854  6.06 6.03 3.89\n",
       "6 0.91  Fair J     VS2     65.4  60    2854  6.04 6.00 3.94"
      ]
     },
     "metadata": {},
     "output_type": "display_data"
    }
   ],
   "source": [
    "# by by cut (increasing order) and then color (decreasing order)\n",
    "arrange(dm, cut, desc(color)) %>% head()"
   ]
  },
  {
   "cell_type": "markdown",
   "metadata": {},
   "source": [
    "### Ex: In dm, select:\n",
    "* carat, color, and depth column.\n",
    "* all columns but carat, color, and depth.\n",
    "* all columns from color to price\n",
    "* only color column but with the name of colour instead of color\n",
    "* all columns but with x,y,z being the first 3 columns and the rest follows. (check everything())."
   ]
  },
  {
   "cell_type": "code",
   "execution_count": 25,
   "metadata": {},
   "outputs": [
    {
     "data": {
      "text/html": [
       "<table>\n",
       "<thead><tr><th scope=col>carat</th><th scope=col>color</th><th scope=col>depth</th></tr></thead>\n",
       "<tbody>\n",
       "\t<tr><td>0.23</td><td>E   </td><td>61.5</td></tr>\n",
       "\t<tr><td>0.21</td><td>E   </td><td>59.8</td></tr>\n",
       "\t<tr><td>0.23</td><td>E   </td><td>56.9</td></tr>\n",
       "\t<tr><td>0.29</td><td>I   </td><td>62.4</td></tr>\n",
       "\t<tr><td>0.31</td><td>J   </td><td>63.3</td></tr>\n",
       "\t<tr><td>0.24</td><td>J   </td><td>62.8</td></tr>\n",
       "</tbody>\n",
       "</table>\n"
      ],
      "text/latex": [
       "\\begin{tabular}{r|lll}\n",
       " carat & color & depth\\\\\n",
       "\\hline\n",
       "\t 0.23 & E    & 61.5\\\\\n",
       "\t 0.21 & E    & 59.8\\\\\n",
       "\t 0.23 & E    & 56.9\\\\\n",
       "\t 0.29 & I    & 62.4\\\\\n",
       "\t 0.31 & J    & 63.3\\\\\n",
       "\t 0.24 & J    & 62.8\\\\\n",
       "\\end{tabular}\n"
      ],
      "text/markdown": [
       "\n",
       "carat | color | depth | \n",
       "|---|---|---|---|---|---|\n",
       "| 0.23 | E    | 61.5 | \n",
       "| 0.21 | E    | 59.8 | \n",
       "| 0.23 | E    | 56.9 | \n",
       "| 0.29 | I    | 62.4 | \n",
       "| 0.31 | J    | 63.3 | \n",
       "| 0.24 | J    | 62.8 | \n",
       "\n",
       "\n"
      ],
      "text/plain": [
       "  carat color depth\n",
       "1 0.23  E     61.5 \n",
       "2 0.21  E     59.8 \n",
       "3 0.23  E     56.9 \n",
       "4 0.29  I     62.4 \n",
       "5 0.31  J     63.3 \n",
       "6 0.24  J     62.8 "
      ]
     },
     "metadata": {},
     "output_type": "display_data"
    }
   ],
   "source": [
    "# carat, color, and depth column.\n",
    "select(dm, carat, color, depth) %>% head"
   ]
  },
  {
   "cell_type": "code",
   "execution_count": 27,
   "metadata": {},
   "outputs": [
    {
     "data": {
      "text/html": [
       "<table>\n",
       "<thead><tr><th scope=col>cut</th><th scope=col>clarity</th><th scope=col>table</th><th scope=col>price</th><th scope=col>x</th><th scope=col>y</th><th scope=col>z</th></tr></thead>\n",
       "<tbody>\n",
       "\t<tr><td>Ideal    </td><td>SI2      </td><td>55       </td><td>326      </td><td>3.95     </td><td>3.98     </td><td>2.43     </td></tr>\n",
       "\t<tr><td>Premium  </td><td>SI1      </td><td>61       </td><td>326      </td><td>3.89     </td><td>3.84     </td><td>2.31     </td></tr>\n",
       "\t<tr><td>Good     </td><td>VS1      </td><td>65       </td><td>327      </td><td>4.05     </td><td>4.07     </td><td>2.31     </td></tr>\n",
       "\t<tr><td>Premium  </td><td>VS2      </td><td>58       </td><td>334      </td><td>4.20     </td><td>4.23     </td><td>2.63     </td></tr>\n",
       "\t<tr><td>Good     </td><td>SI2      </td><td>58       </td><td>335      </td><td>4.34     </td><td>4.35     </td><td>2.75     </td></tr>\n",
       "\t<tr><td>Very Good</td><td>VVS2     </td><td>57       </td><td>336      </td><td>3.94     </td><td>3.96     </td><td>2.48     </td></tr>\n",
       "</tbody>\n",
       "</table>\n"
      ],
      "text/latex": [
       "\\begin{tabular}{r|lllllll}\n",
       " cut & clarity & table & price & x & y & z\\\\\n",
       "\\hline\n",
       "\t Ideal     & SI2       & 55        & 326       & 3.95      & 3.98      & 2.43     \\\\\n",
       "\t Premium   & SI1       & 61        & 326       & 3.89      & 3.84      & 2.31     \\\\\n",
       "\t Good      & VS1       & 65        & 327       & 4.05      & 4.07      & 2.31     \\\\\n",
       "\t Premium   & VS2       & 58        & 334       & 4.20      & 4.23      & 2.63     \\\\\n",
       "\t Good      & SI2       & 58        & 335       & 4.34      & 4.35      & 2.75     \\\\\n",
       "\t Very Good & VVS2      & 57        & 336       & 3.94      & 3.96      & 2.48     \\\\\n",
       "\\end{tabular}\n"
      ],
      "text/markdown": [
       "\n",
       "cut | clarity | table | price | x | y | z | \n",
       "|---|---|---|---|---|---|\n",
       "| Ideal     | SI2       | 55        | 326       | 3.95      | 3.98      | 2.43      | \n",
       "| Premium   | SI1       | 61        | 326       | 3.89      | 3.84      | 2.31      | \n",
       "| Good      | VS1       | 65        | 327       | 4.05      | 4.07      | 2.31      | \n",
       "| Premium   | VS2       | 58        | 334       | 4.20      | 4.23      | 2.63      | \n",
       "| Good      | SI2       | 58        | 335       | 4.34      | 4.35      | 2.75      | \n",
       "| Very Good | VVS2      | 57        | 336       | 3.94      | 3.96      | 2.48      | \n",
       "\n",
       "\n"
      ],
      "text/plain": [
       "  cut       clarity table price x    y    z   \n",
       "1 Ideal     SI2     55    326   3.95 3.98 2.43\n",
       "2 Premium   SI1     61    326   3.89 3.84 2.31\n",
       "3 Good      VS1     65    327   4.05 4.07 2.31\n",
       "4 Premium   VS2     58    334   4.20 4.23 2.63\n",
       "5 Good      SI2     58    335   4.34 4.35 2.75\n",
       "6 Very Good VVS2    57    336   3.94 3.96 2.48"
      ]
     },
     "metadata": {},
     "output_type": "display_data"
    }
   ],
   "source": [
    "# all columns but carat, color, and depth.\n",
    "select(dm, -c(carat, color, depth)) %>% head"
   ]
  },
  {
   "cell_type": "code",
   "execution_count": 28,
   "metadata": {},
   "outputs": [
    {
     "data": {
      "text/html": [
       "<table>\n",
       "<thead><tr><th scope=col>color</th><th scope=col>clarity</th><th scope=col>depth</th><th scope=col>table</th><th scope=col>price</th></tr></thead>\n",
       "<tbody>\n",
       "\t<tr><td>E   </td><td>SI2 </td><td>61.5</td><td>55  </td><td>326 </td></tr>\n",
       "\t<tr><td>E   </td><td>SI1 </td><td>59.8</td><td>61  </td><td>326 </td></tr>\n",
       "\t<tr><td>E   </td><td>VS1 </td><td>56.9</td><td>65  </td><td>327 </td></tr>\n",
       "\t<tr><td>I   </td><td>VS2 </td><td>62.4</td><td>58  </td><td>334 </td></tr>\n",
       "\t<tr><td>J   </td><td>SI2 </td><td>63.3</td><td>58  </td><td>335 </td></tr>\n",
       "\t<tr><td>J   </td><td>VVS2</td><td>62.8</td><td>57  </td><td>336 </td></tr>\n",
       "</tbody>\n",
       "</table>\n"
      ],
      "text/latex": [
       "\\begin{tabular}{r|lllll}\n",
       " color & clarity & depth & table & price\\\\\n",
       "\\hline\n",
       "\t E    & SI2  & 61.5 & 55   & 326 \\\\\n",
       "\t E    & SI1  & 59.8 & 61   & 326 \\\\\n",
       "\t E    & VS1  & 56.9 & 65   & 327 \\\\\n",
       "\t I    & VS2  & 62.4 & 58   & 334 \\\\\n",
       "\t J    & SI2  & 63.3 & 58   & 335 \\\\\n",
       "\t J    & VVS2 & 62.8 & 57   & 336 \\\\\n",
       "\\end{tabular}\n"
      ],
      "text/markdown": [
       "\n",
       "color | clarity | depth | table | price | \n",
       "|---|---|---|---|---|---|\n",
       "| E    | SI2  | 61.5 | 55   | 326  | \n",
       "| E    | SI1  | 59.8 | 61   | 326  | \n",
       "| E    | VS1  | 56.9 | 65   | 327  | \n",
       "| I    | VS2  | 62.4 | 58   | 334  | \n",
       "| J    | SI2  | 63.3 | 58   | 335  | \n",
       "| J    | VVS2 | 62.8 | 57   | 336  | \n",
       "\n",
       "\n"
      ],
      "text/plain": [
       "  color clarity depth table price\n",
       "1 E     SI2     61.5  55    326  \n",
       "2 E     SI1     59.8  61    326  \n",
       "3 E     VS1     56.9  65    327  \n",
       "4 I     VS2     62.4  58    334  \n",
       "5 J     SI2     63.3  58    335  \n",
       "6 J     VVS2    62.8  57    336  "
      ]
     },
     "metadata": {},
     "output_type": "display_data"
    }
   ],
   "source": [
    "# all columns from color to price\n",
    "select(dm, color:price) %>% head"
   ]
  },
  {
   "cell_type": "code",
   "execution_count": 30,
   "metadata": {},
   "outputs": [
    {
     "data": {
      "text/html": [
       "<table>\n",
       "<thead><tr><th scope=col>colour</th></tr></thead>\n",
       "<tbody>\n",
       "\t<tr><td>E</td></tr>\n",
       "\t<tr><td>E</td></tr>\n",
       "\t<tr><td>E</td></tr>\n",
       "\t<tr><td>I</td></tr>\n",
       "\t<tr><td>J</td></tr>\n",
       "\t<tr><td>J</td></tr>\n",
       "</tbody>\n",
       "</table>\n"
      ],
      "text/latex": [
       "\\begin{tabular}{r|l}\n",
       " colour\\\\\n",
       "\\hline\n",
       "\t E\\\\\n",
       "\t E\\\\\n",
       "\t E\\\\\n",
       "\t I\\\\\n",
       "\t J\\\\\n",
       "\t J\\\\\n",
       "\\end{tabular}\n"
      ],
      "text/markdown": [
       "\n",
       "colour | \n",
       "|---|---|---|---|---|---|\n",
       "| E | \n",
       "| E | \n",
       "| E | \n",
       "| I | \n",
       "| J | \n",
       "| J | \n",
       "\n",
       "\n"
      ],
      "text/plain": [
       "  colour\n",
       "1 E     \n",
       "2 E     \n",
       "3 E     \n",
       "4 I     \n",
       "5 J     \n",
       "6 J     "
      ]
     },
     "metadata": {},
     "output_type": "display_data"
    }
   ],
   "source": [
    "# only color column but with the name of colour instead of color\n",
    "select(dm, colour = color) %>% head"
   ]
  },
  {
   "cell_type": "code",
   "execution_count": 32,
   "metadata": {},
   "outputs": [
    {
     "data": {
      "text/html": [
       "<table>\n",
       "<thead><tr><th scope=col>x</th><th scope=col>y</th><th scope=col>z</th><th scope=col>carat</th><th scope=col>cut</th><th scope=col>color</th><th scope=col>clarity</th><th scope=col>depth</th><th scope=col>table</th><th scope=col>price</th></tr></thead>\n",
       "<tbody>\n",
       "\t<tr><td>3.95     </td><td>3.98     </td><td>2.43     </td><td>0.23     </td><td>Ideal    </td><td>E        </td><td>SI2      </td><td>61.5     </td><td>55       </td><td>326      </td></tr>\n",
       "\t<tr><td>3.89     </td><td>3.84     </td><td>2.31     </td><td>0.21     </td><td>Premium  </td><td>E        </td><td>SI1      </td><td>59.8     </td><td>61       </td><td>326      </td></tr>\n",
       "\t<tr><td>4.05     </td><td>4.07     </td><td>2.31     </td><td>0.23     </td><td>Good     </td><td>E        </td><td>VS1      </td><td>56.9     </td><td>65       </td><td>327      </td></tr>\n",
       "\t<tr><td>4.20     </td><td>4.23     </td><td>2.63     </td><td>0.29     </td><td>Premium  </td><td>I        </td><td>VS2      </td><td>62.4     </td><td>58       </td><td>334      </td></tr>\n",
       "\t<tr><td>4.34     </td><td>4.35     </td><td>2.75     </td><td>0.31     </td><td>Good     </td><td>J        </td><td>SI2      </td><td>63.3     </td><td>58       </td><td>335      </td></tr>\n",
       "\t<tr><td>3.94     </td><td>3.96     </td><td>2.48     </td><td>0.24     </td><td>Very Good</td><td>J        </td><td>VVS2     </td><td>62.8     </td><td>57       </td><td>336      </td></tr>\n",
       "</tbody>\n",
       "</table>\n"
      ],
      "text/latex": [
       "\\begin{tabular}{r|llllllllll}\n",
       " x & y & z & carat & cut & color & clarity & depth & table & price\\\\\n",
       "\\hline\n",
       "\t 3.95      & 3.98      & 2.43      & 0.23      & Ideal     & E         & SI2       & 61.5      & 55        & 326      \\\\\n",
       "\t 3.89      & 3.84      & 2.31      & 0.21      & Premium   & E         & SI1       & 59.8      & 61        & 326      \\\\\n",
       "\t 4.05      & 4.07      & 2.31      & 0.23      & Good      & E         & VS1       & 56.9      & 65        & 327      \\\\\n",
       "\t 4.20      & 4.23      & 2.63      & 0.29      & Premium   & I         & VS2       & 62.4      & 58        & 334      \\\\\n",
       "\t 4.34      & 4.35      & 2.75      & 0.31      & Good      & J         & SI2       & 63.3      & 58        & 335      \\\\\n",
       "\t 3.94      & 3.96      & 2.48      & 0.24      & Very Good & J         & VVS2      & 62.8      & 57        & 336      \\\\\n",
       "\\end{tabular}\n"
      ],
      "text/markdown": [
       "\n",
       "x | y | z | carat | cut | color | clarity | depth | table | price | \n",
       "|---|---|---|---|---|---|\n",
       "| 3.95      | 3.98      | 2.43      | 0.23      | Ideal     | E         | SI2       | 61.5      | 55        | 326       | \n",
       "| 3.89      | 3.84      | 2.31      | 0.21      | Premium   | E         | SI1       | 59.8      | 61        | 326       | \n",
       "| 4.05      | 4.07      | 2.31      | 0.23      | Good      | E         | VS1       | 56.9      | 65        | 327       | \n",
       "| 4.20      | 4.23      | 2.63      | 0.29      | Premium   | I         | VS2       | 62.4      | 58        | 334       | \n",
       "| 4.34      | 4.35      | 2.75      | 0.31      | Good      | J         | SI2       | 63.3      | 58        | 335       | \n",
       "| 3.94      | 3.96      | 2.48      | 0.24      | Very Good | J         | VVS2      | 62.8      | 57        | 336       | \n",
       "\n",
       "\n"
      ],
      "text/plain": [
       "  x    y    z    carat cut       color clarity depth table price\n",
       "1 3.95 3.98 2.43 0.23  Ideal     E     SI2     61.5  55    326  \n",
       "2 3.89 3.84 2.31 0.21  Premium   E     SI1     59.8  61    326  \n",
       "3 4.05 4.07 2.31 0.23  Good      E     VS1     56.9  65    327  \n",
       "4 4.20 4.23 2.63 0.29  Premium   I     VS2     62.4  58    334  \n",
       "5 4.34 4.35 2.75 0.31  Good      J     SI2     63.3  58    335  \n",
       "6 3.94 3.96 2.48 0.24  Very Good J     VVS2    62.8  57    336  "
      ]
     },
     "metadata": {},
     "output_type": "display_data"
    }
   ],
   "source": [
    "# all columns but with x,y,z being the first 3 columns and the rest follows.\n",
    "select(dm, x,y,z,everything()) %>% head"
   ]
  },
  {
   "cell_type": "markdown",
   "metadata": {},
   "source": [
    "### Ex: In dm, we want to append a column for the volume of the diamond using x*y*z"
   ]
  },
  {
   "cell_type": "code",
   "execution_count": 34,
   "metadata": {},
   "outputs": [
    {
     "data": {
      "text/html": [
       "<table>\n",
       "<thead><tr><th scope=col>carat</th><th scope=col>cut</th><th scope=col>color</th><th scope=col>clarity</th><th scope=col>depth</th><th scope=col>table</th><th scope=col>price</th><th scope=col>x</th><th scope=col>y</th><th scope=col>z</th><th scope=col>volume</th></tr></thead>\n",
       "<tbody>\n",
       "\t<tr><td>0.23     </td><td>Ideal    </td><td>E        </td><td>SI2      </td><td>61.5     </td><td>55       </td><td>326      </td><td>3.95     </td><td>3.98     </td><td>2.43     </td><td>38.20203 </td></tr>\n",
       "\t<tr><td>0.21     </td><td>Premium  </td><td>E        </td><td>SI1      </td><td>59.8     </td><td>61       </td><td>326      </td><td>3.89     </td><td>3.84     </td><td>2.31     </td><td>34.50586 </td></tr>\n",
       "\t<tr><td>0.23     </td><td>Good     </td><td>E        </td><td>VS1      </td><td>56.9     </td><td>65       </td><td>327      </td><td>4.05     </td><td>4.07     </td><td>2.31     </td><td>38.07688 </td></tr>\n",
       "\t<tr><td>0.29     </td><td>Premium  </td><td>I        </td><td>VS2      </td><td>62.4     </td><td>58       </td><td>334      </td><td>4.20     </td><td>4.23     </td><td>2.63     </td><td>46.72458 </td></tr>\n",
       "\t<tr><td>0.31     </td><td>Good     </td><td>J        </td><td>SI2      </td><td>63.3     </td><td>58       </td><td>335      </td><td>4.34     </td><td>4.35     </td><td>2.75     </td><td>51.91725 </td></tr>\n",
       "\t<tr><td>0.24     </td><td>Very Good</td><td>J        </td><td>VVS2     </td><td>62.8     </td><td>57       </td><td>336      </td><td>3.94     </td><td>3.96     </td><td>2.48     </td><td>38.69395 </td></tr>\n",
       "</tbody>\n",
       "</table>\n"
      ],
      "text/latex": [
       "\\begin{tabular}{r|lllllllllll}\n",
       " carat & cut & color & clarity & depth & table & price & x & y & z & volume\\\\\n",
       "\\hline\n",
       "\t 0.23      & Ideal     & E         & SI2       & 61.5      & 55        & 326       & 3.95      & 3.98      & 2.43      & 38.20203 \\\\\n",
       "\t 0.21      & Premium   & E         & SI1       & 59.8      & 61        & 326       & 3.89      & 3.84      & 2.31      & 34.50586 \\\\\n",
       "\t 0.23      & Good      & E         & VS1       & 56.9      & 65        & 327       & 4.05      & 4.07      & 2.31      & 38.07688 \\\\\n",
       "\t 0.29      & Premium   & I         & VS2       & 62.4      & 58        & 334       & 4.20      & 4.23      & 2.63      & 46.72458 \\\\\n",
       "\t 0.31      & Good      & J         & SI2       & 63.3      & 58        & 335       & 4.34      & 4.35      & 2.75      & 51.91725 \\\\\n",
       "\t 0.24      & Very Good & J         & VVS2      & 62.8      & 57        & 336       & 3.94      & 3.96      & 2.48      & 38.69395 \\\\\n",
       "\\end{tabular}\n"
      ],
      "text/markdown": [
       "\n",
       "carat | cut | color | clarity | depth | table | price | x | y | z | volume | \n",
       "|---|---|---|---|---|---|\n",
       "| 0.23      | Ideal     | E         | SI2       | 61.5      | 55        | 326       | 3.95      | 3.98      | 2.43      | 38.20203  | \n",
       "| 0.21      | Premium   | E         | SI1       | 59.8      | 61        | 326       | 3.89      | 3.84      | 2.31      | 34.50586  | \n",
       "| 0.23      | Good      | E         | VS1       | 56.9      | 65        | 327       | 4.05      | 4.07      | 2.31      | 38.07688  | \n",
       "| 0.29      | Premium   | I         | VS2       | 62.4      | 58        | 334       | 4.20      | 4.23      | 2.63      | 46.72458  | \n",
       "| 0.31      | Good      | J         | SI2       | 63.3      | 58        | 335       | 4.34      | 4.35      | 2.75      | 51.91725  | \n",
       "| 0.24      | Very Good | J         | VVS2      | 62.8      | 57        | 336       | 3.94      | 3.96      | 2.48      | 38.69395  | \n",
       "\n",
       "\n"
      ],
      "text/plain": [
       "  carat cut       color clarity depth table price x    y    z    volume  \n",
       "1 0.23  Ideal     E     SI2     61.5  55    326   3.95 3.98 2.43 38.20203\n",
       "2 0.21  Premium   E     SI1     59.8  61    326   3.89 3.84 2.31 34.50586\n",
       "3 0.23  Good      E     VS1     56.9  65    327   4.05 4.07 2.31 38.07688\n",
       "4 0.29  Premium   I     VS2     62.4  58    334   4.20 4.23 2.63 46.72458\n",
       "5 0.31  Good      J     SI2     63.3  58    335   4.34 4.35 2.75 51.91725\n",
       "6 0.24  Very Good J     VVS2    62.8  57    336   3.94 3.96 2.48 38.69395"
      ]
     },
     "metadata": {},
     "output_type": "display_data"
    }
   ],
   "source": [
    "dm_vol <- dm %>% mutate(volume = x*y*z)\n",
    "head(dm_vol)"
   ]
  },
  {
   "cell_type": "markdown",
   "metadata": {},
   "source": [
    "### Ex: let's plot our \"volume\" on the x-axis and carat on the y-axis to see how good our approximation is."
   ]
  },
  {
   "cell_type": "code",
   "execution_count": 35,
   "metadata": {},
   "outputs": [
    {
     "data": {},
     "metadata": {},
     "output_type": "display_data"
    },
    {
     "data": {
      "image/png": "[encoded data removed]",
      "text/plain": [
       "plot without title"
      ]
     },
     "metadata": {},
     "output_type": "display_data"
    }
   ],
   "source": [
    "ggplot(dm_vol) +\n",
    "geom_point(aes(x=volume, y=carat))"
   ]
  },
  {
   "cell_type": "markdown",
   "metadata": {},
   "source": [
    "### Ex: what is the mean price of diamonds of the same color for each color? (use group by and summarize)"
   ]
  },
  {
   "cell_type": "code",
   "execution_count": 36,
   "metadata": {},
   "outputs": [
    {
     "data": {
      "text/html": [
       "<table>\n",
       "<thead><tr><th scope=col>color</th><th scope=col>mp</th></tr></thead>\n",
       "<tbody>\n",
       "\t<tr><td>D       </td><td>2799.802</td></tr>\n",
       "\t<tr><td>E       </td><td>2694.577</td></tr>\n",
       "\t<tr><td>F       </td><td>2789.253</td></tr>\n",
       "\t<tr><td>G       </td><td>2563.904</td></tr>\n",
       "\t<tr><td>H       </td><td>2453.917</td></tr>\n",
       "\t<tr><td>I       </td><td>2304.634</td></tr>\n",
       "\t<tr><td>J       </td><td>2385.293</td></tr>\n",
       "</tbody>\n",
       "</table>\n"
      ],
      "text/latex": [
       "\\begin{tabular}{r|ll}\n",
       " color & mp\\\\\n",
       "\\hline\n",
       "\t D        & 2799.802\\\\\n",
       "\t E        & 2694.577\\\\\n",
       "\t F        & 2789.253\\\\\n",
       "\t G        & 2563.904\\\\\n",
       "\t H        & 2453.917\\\\\n",
       "\t I        & 2304.634\\\\\n",
       "\t J        & 2385.293\\\\\n",
       "\\end{tabular}\n"
      ],
      "text/markdown": [
       "\n",
       "color | mp | \n",
       "|---|---|---|---|---|---|---|\n",
       "| D        | 2799.802 | \n",
       "| E        | 2694.577 | \n",
       "| F        | 2789.253 | \n",
       "| G        | 2563.904 | \n",
       "| H        | 2453.917 | \n",
       "| I        | 2304.634 | \n",
       "| J        | 2385.293 | \n",
       "\n",
       "\n"
      ],
      "text/plain": [
       "  color mp      \n",
       "1 D     2799.802\n",
       "2 E     2694.577\n",
       "3 F     2789.253\n",
       "4 G     2563.904\n",
       "5 H     2453.917\n",
       "6 I     2304.634\n",
       "7 J     2385.293"
      ]
     },
     "metadata": {},
     "output_type": "display_data"
    }
   ],
   "source": [
    "dm %>% group_by(color) %>% summarize(mp = mean(price))"
   ]
  },
  {
   "cell_type": "markdown",
   "metadata": {},
   "source": [
    "### Ex: For each cut and color combination, what is the highest price in that combination?"
   ]
  },
  {
   "cell_type": "code",
   "execution_count": 38,
   "metadata": {},
   "outputs": [
    {
     "data": {
      "text/html": [
       "<table>\n",
       "<thead><tr><th scope=col>color</th><th scope=col>hp</th></tr></thead>\n",
       "<tbody>\n",
       "\t<tr><td>D   </td><td>3099</td></tr>\n",
       "\t<tr><td>E   </td><td>3097</td></tr>\n",
       "\t<tr><td>F   </td><td>3097</td></tr>\n",
       "\t<tr><td>G   </td><td>3095</td></tr>\n",
       "\t<tr><td>H   </td><td>3096</td></tr>\n",
       "\t<tr><td>I   </td><td>3099</td></tr>\n",
       "\t<tr><td>J   </td><td>3091</td></tr>\n",
       "</tbody>\n",
       "</table>\n"
      ],
      "text/latex": [
       "\\begin{tabular}{r|ll}\n",
       " color & hp\\\\\n",
       "\\hline\n",
       "\t D    & 3099\\\\\n",
       "\t E    & 3097\\\\\n",
       "\t F    & 3097\\\\\n",
       "\t G    & 3095\\\\\n",
       "\t H    & 3096\\\\\n",
       "\t I    & 3099\\\\\n",
       "\t J    & 3091\\\\\n",
       "\\end{tabular}\n"
      ],
      "text/markdown": [
       "\n",
       "color | hp | \n",
       "|---|---|---|---|---|---|---|\n",
       "| D    | 3099 | \n",
       "| E    | 3097 | \n",
       "| F    | 3097 | \n",
       "| G    | 3095 | \n",
       "| H    | 3096 | \n",
       "| I    | 3099 | \n",
       "| J    | 3091 | \n",
       "\n",
       "\n"
      ],
      "text/plain": [
       "  color hp  \n",
       "1 D     3099\n",
       "2 E     3097\n",
       "3 F     3097\n",
       "4 G     3095\n",
       "5 H     3096\n",
       "6 I     3099\n",
       "7 J     3091"
      ]
     },
     "metadata": {},
     "output_type": "display_data"
    }
   ],
   "source": [
    "dm %>% group_by(color) %>% summarize(hp = max(price))"
   ]
  },
  {
   "cell_type": "markdown",
   "metadata": {},
   "source": [
    "### Ex: In the mpg dataset, create a column of T,F indicating if the vehicle has manual transmission. Can you do it in one line?"
   ]
  },
  {
   "cell_type": "code",
   "execution_count": 39,
   "metadata": {},
   "outputs": [
    {
     "data": {
      "text/html": [
       "<table>\n",
       "<thead><tr><th scope=col>manufacturer</th><th scope=col>model</th><th scope=col>displ</th><th scope=col>year</th><th scope=col>cyl</th><th scope=col>trans</th><th scope=col>drv</th><th scope=col>cty</th><th scope=col>hwy</th><th scope=col>fl</th><th scope=col>class</th></tr></thead>\n",
       "<tbody>\n",
       "\t<tr><td>audi      </td><td>a4        </td><td>1.8       </td><td>1999      </td><td>4         </td><td>auto(l5)  </td><td>f         </td><td>18        </td><td>29        </td><td>p         </td><td>compact   </td></tr>\n",
       "\t<tr><td>audi      </td><td>a4        </td><td>1.8       </td><td>1999      </td><td>4         </td><td>manual(m5)</td><td>f         </td><td>21        </td><td>29        </td><td>p         </td><td>compact   </td></tr>\n",
       "\t<tr><td>audi      </td><td>a4        </td><td>2.0       </td><td>2008      </td><td>4         </td><td>manual(m6)</td><td>f         </td><td>20        </td><td>31        </td><td>p         </td><td>compact   </td></tr>\n",
       "\t<tr><td>audi      </td><td>a4        </td><td>2.0       </td><td>2008      </td><td>4         </td><td>auto(av)  </td><td>f         </td><td>21        </td><td>30        </td><td>p         </td><td>compact   </td></tr>\n",
       "\t<tr><td>audi      </td><td>a4        </td><td>2.8       </td><td>1999      </td><td>6         </td><td>auto(l5)  </td><td>f         </td><td>16        </td><td>26        </td><td>p         </td><td>compact   </td></tr>\n",
       "\t<tr><td>audi      </td><td>a4        </td><td>2.8       </td><td>1999      </td><td>6         </td><td>manual(m5)</td><td>f         </td><td>18        </td><td>26        </td><td>p         </td><td>compact   </td></tr>\n",
       "</tbody>\n",
       "</table>\n"
      ],
      "text/latex": [
       "\\begin{tabular}{r|lllllllllll}\n",
       " manufacturer & model & displ & year & cyl & trans & drv & cty & hwy & fl & class\\\\\n",
       "\\hline\n",
       "\t audi       & a4         & 1.8        & 1999       & 4          & auto(l5)   & f          & 18         & 29         & p          & compact   \\\\\n",
       "\t audi       & a4         & 1.8        & 1999       & 4          & manual(m5) & f          & 21         & 29         & p          & compact   \\\\\n",
       "\t audi       & a4         & 2.0        & 2008       & 4          & manual(m6) & f          & 20         & 31         & p          & compact   \\\\\n",
       "\t audi       & a4         & 2.0        & 2008       & 4          & auto(av)   & f          & 21         & 30         & p          & compact   \\\\\n",
       "\t audi       & a4         & 2.8        & 1999       & 6          & auto(l5)   & f          & 16         & 26         & p          & compact   \\\\\n",
       "\t audi       & a4         & 2.8        & 1999       & 6          & manual(m5) & f          & 18         & 26         & p          & compact   \\\\\n",
       "\\end{tabular}\n"
      ],
      "text/markdown": [
       "\n",
       "manufacturer | model | displ | year | cyl | trans | drv | cty | hwy | fl | class | \n",
       "|---|---|---|---|---|---|\n",
       "| audi       | a4         | 1.8        | 1999       | 4          | auto(l5)   | f          | 18         | 29         | p          | compact    | \n",
       "| audi       | a4         | 1.8        | 1999       | 4          | manual(m5) | f          | 21         | 29         | p          | compact    | \n",
       "| audi       | a4         | 2.0        | 2008       | 4          | manual(m6) | f          | 20         | 31         | p          | compact    | \n",
       "| audi       | a4         | 2.0        | 2008       | 4          | auto(av)   | f          | 21         | 30         | p          | compact    | \n",
       "| audi       | a4         | 2.8        | 1999       | 6          | auto(l5)   | f          | 16         | 26         | p          | compact    | \n",
       "| audi       | a4         | 2.8        | 1999       | 6          | manual(m5) | f          | 18         | 26         | p          | compact    | \n",
       "\n",
       "\n"
      ],
      "text/plain": [
       "  manufacturer model displ year cyl trans      drv cty hwy fl class  \n",
       "1 audi         a4    1.8   1999 4   auto(l5)   f   18  29  p  compact\n",
       "2 audi         a4    1.8   1999 4   manual(m5) f   21  29  p  compact\n",
       "3 audi         a4    2.0   2008 4   manual(m6) f   20  31  p  compact\n",
       "4 audi         a4    2.0   2008 4   auto(av)   f   21  30  p  compact\n",
       "5 audi         a4    2.8   1999 6   auto(l5)   f   16  26  p  compact\n",
       "6 audi         a4    2.8   1999 6   manual(m5) f   18  26  p  compact"
      ]
     },
     "metadata": {},
     "output_type": "display_data"
    }
   ],
   "source": [
    "head(mpg)"
   ]
  },
  {
   "cell_type": "code",
   "execution_count": 40,
   "metadata": {},
   "outputs": [
    {
     "data": {
      "text/html": [
       "<table>\n",
       "<thead><tr><th scope=col>manufacturer</th><th scope=col>model</th><th scope=col>displ</th><th scope=col>year</th><th scope=col>cyl</th><th scope=col>trans</th><th scope=col>drv</th><th scope=col>cty</th><th scope=col>hwy</th><th scope=col>fl</th><th scope=col>class</th><th scope=col>if_manual</th></tr></thead>\n",
       "<tbody>\n",
       "\t<tr><td>audi      </td><td>a4        </td><td>1.8       </td><td>1999      </td><td>4         </td><td>auto(l5)  </td><td>f         </td><td>18        </td><td>29        </td><td>p         </td><td>compact   </td><td>FALSE     </td></tr>\n",
       "\t<tr><td>audi      </td><td>a4        </td><td>1.8       </td><td>1999      </td><td>4         </td><td>manual(m5)</td><td>f         </td><td>21        </td><td>29        </td><td>p         </td><td>compact   </td><td> TRUE     </td></tr>\n",
       "\t<tr><td>audi      </td><td>a4        </td><td>2.0       </td><td>2008      </td><td>4         </td><td>manual(m6)</td><td>f         </td><td>20        </td><td>31        </td><td>p         </td><td>compact   </td><td> TRUE     </td></tr>\n",
       "\t<tr><td>audi      </td><td>a4        </td><td>2.0       </td><td>2008      </td><td>4         </td><td>auto(av)  </td><td>f         </td><td>21        </td><td>30        </td><td>p         </td><td>compact   </td><td>FALSE     </td></tr>\n",
       "\t<tr><td>audi      </td><td>a4        </td><td>2.8       </td><td>1999      </td><td>6         </td><td>auto(l5)  </td><td>f         </td><td>16        </td><td>26        </td><td>p         </td><td>compact   </td><td>FALSE     </td></tr>\n",
       "\t<tr><td>audi      </td><td>a4        </td><td>2.8       </td><td>1999      </td><td>6         </td><td>manual(m5)</td><td>f         </td><td>18        </td><td>26        </td><td>p         </td><td>compact   </td><td> TRUE     </td></tr>\n",
       "</tbody>\n",
       "</table>\n"
      ],
      "text/latex": [
       "\\begin{tabular}{r|llllllllllll}\n",
       " manufacturer & model & displ & year & cyl & trans & drv & cty & hwy & fl & class & if\\_manual\\\\\n",
       "\\hline\n",
       "\t audi       & a4         & 1.8        & 1999       & 4          & auto(l5)   & f          & 18         & 29         & p          & compact    & FALSE     \\\\\n",
       "\t audi       & a4         & 1.8        & 1999       & 4          & manual(m5) & f          & 21         & 29         & p          & compact    &  TRUE     \\\\\n",
       "\t audi       & a4         & 2.0        & 2008       & 4          & manual(m6) & f          & 20         & 31         & p          & compact    &  TRUE     \\\\\n",
       "\t audi       & a4         & 2.0        & 2008       & 4          & auto(av)   & f          & 21         & 30         & p          & compact    & FALSE     \\\\\n",
       "\t audi       & a4         & 2.8        & 1999       & 6          & auto(l5)   & f          & 16         & 26         & p          & compact    & FALSE     \\\\\n",
       "\t audi       & a4         & 2.8        & 1999       & 6          & manual(m5) & f          & 18         & 26         & p          & compact    &  TRUE     \\\\\n",
       "\\end{tabular}\n"
      ],
      "text/markdown": [
       "\n",
       "manufacturer | model | displ | year | cyl | trans | drv | cty | hwy | fl | class | if_manual | \n",
       "|---|---|---|---|---|---|\n",
       "| audi       | a4         | 1.8        | 1999       | 4          | auto(l5)   | f          | 18         | 29         | p          | compact    | FALSE      | \n",
       "| audi       | a4         | 1.8        | 1999       | 4          | manual(m5) | f          | 21         | 29         | p          | compact    |  TRUE      | \n",
       "| audi       | a4         | 2.0        | 2008       | 4          | manual(m6) | f          | 20         | 31         | p          | compact    |  TRUE      | \n",
       "| audi       | a4         | 2.0        | 2008       | 4          | auto(av)   | f          | 21         | 30         | p          | compact    | FALSE      | \n",
       "| audi       | a4         | 2.8        | 1999       | 6          | auto(l5)   | f          | 16         | 26         | p          | compact    | FALSE      | \n",
       "| audi       | a4         | 2.8        | 1999       | 6          | manual(m5) | f          | 18         | 26         | p          | compact    |  TRUE      | \n",
       "\n",
       "\n"
      ],
      "text/plain": [
       "  manufacturer model displ year cyl trans      drv cty hwy fl class   if_manual\n",
       "1 audi         a4    1.8   1999 4   auto(l5)   f   18  29  p  compact FALSE    \n",
       "2 audi         a4    1.8   1999 4   manual(m5) f   21  29  p  compact  TRUE    \n",
       "3 audi         a4    2.0   2008 4   manual(m6) f   20  31  p  compact  TRUE    \n",
       "4 audi         a4    2.0   2008 4   auto(av)   f   21  30  p  compact FALSE    \n",
       "5 audi         a4    2.8   1999 6   auto(l5)   f   16  26  p  compact FALSE    \n",
       "6 audi         a4    2.8   1999 6   manual(m5) f   18  26  p  compact  TRUE    "
      ]
     },
     "metadata": {},
     "output_type": "display_data"
    }
   ],
   "source": [
    "mpg %>% mutate(if_manual = grepl(\"manual\", trans)) %>% head"
   ]
  },
  {
   "cell_type": "code",
   "execution_count": null,
   "metadata": {},
   "outputs": [],
   "source": []
  }
 ],
 "metadata": {
  "kernelspec": {
   "display_name": "R",
   "language": "R",
   "name": "ir"
  },
  "language_info": {
   "codemirror_mode": "r",
   "file_extension": ".r",
   "mimetype": "text/x-r-source",
   "name": "R",
   "pygments_lexer": "r",
   "version": "3.5.1"
  }
 },
 "nbformat": 4,
 "nbformat_minor": 2
}
