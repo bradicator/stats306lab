{
 "cells": [
  {
   "cell_type": "markdown",
   "metadata": {},
   "source": [
    "## Regex Review (credits to Roger Fan)"
   ]
  },
  {
   "cell_type": "code",
   "execution_count": 155,
   "metadata": {
    "collapsed": true
   },
   "outputs": [],
   "source": [
    "options(repr.plot.width=6, repr.plot.height=4)\n",
    "\n",
    "require(tidyverse)\n",
    "require(stringr)\n",
    "require(lubridate)"
   ]
  },
  {
   "cell_type": "markdown",
   "metadata": {},
   "source": [
    "## Regular Expressions Review\n",
    "\n",
    "Regular expressions (regex) are a way to describe patterns in text and are used to search for and match certain patterns in strings.\n",
    "\n",
    "`Some people, when confronted with a problem, think \"I know, I'll use regular expressions.\" Now they have two problems.` - Jamie Zawinski\n",
    "\n",
    "For instance, say that you want to find and extract all the email addresses in a document automatically. How might we do that?"
   ]
  },
  {
   "cell_type": "markdown",
   "metadata": {},
   "source": [
    "### Special characters\n",
    "\n",
    "Regex takes advantage of several reserved characters that are used for special functions. \n",
    "\n",
    "`. \\ | ( ) [ ] ^ $ { } * + ?`"
   ]
  },
  {
   "cell_type": "markdown",
   "metadata": {},
   "source": [
    "### Character classes\n",
    "\n",
    "* `.` matches anything (wildcard)\n",
    "* `[aeiou]` matches a single character in the set provided\n",
    "* `[^aeiou]` matches a single character NOT in the set\n",
    "* `[a-e]` matches a range, equivalent to `[abcde]`\n",
    "\n",
    "#### Shorthand\n",
    "\n",
    "* `\\w` matches a \"word\" character, equivalent to `[a-zA-Z0-9_]`\n",
    "* `\\s` matches any whitespace, including tabs and newlines\n",
    "* `\\d` matches digits, equivalent to `[0-9]`\n",
    "* `\\W`, `\\S`, and `\\D` match the opposite of the lower-case versions\n",
    "\n",
    "#### Special characters\n",
    "\n",
    "* Note that `\\t` and `\\n` match the tab and newline characters. \n",
    "* If you want the \"literal\" versions of any of the reserved characters, you will need to escape them with a backslash `\\`, e.g. `[\\.\\\\\\|]`\n",
    "\n",
    "\n",
    "### Grouping\n",
    "\n",
    "* `()` are used to group patterns together. This can be used with any of the below operators. This can also be used to extract portions of a regex out individually, which we will later learn.\n",
    "* `\\1`, `\\2`, etc. refers to the first, second, etc. group in the match.\n",
    "\n",
    "### Operators\n",
    "\n",
    "* `|` is the OR operator and allows matches of either side\n",
    "* `{}` describes how many times the preceeding character of group must occur:\n",
    "  * `{m}` must occur exactly `m` times\n",
    "  * `{m,n}` must occur between `m` and `n` times, inclusive\n",
    "  * `{m,}` Must occur at least `m` times\n",
    "* `*` means the preceeding character can appear zero or more times, equivalent to `{0,}`\n",
    "* `+` means the preceeding character must appear one or more times, equivalent to `{1,}`\n",
    "* `?` means the preceeding character can appear zero or one time, equivalent to `{0,1}`\n",
    "\n",
    "### Anchors\n",
    "\n",
    "* `^` matches the start of a string (or line)\n",
    "* `$` matches the end of a string (or line)\n",
    "* `\\b` matches a word \"boundary\"\n",
    "* `\\B` matches not word boundary"
   ]
  },
  {
   "cell_type": "markdown",
   "metadata": {},
   "source": [
    "### String Functions\n",
    "\n",
    "See `https://stringr.tidyverse.org/reference/index.html` for a more complete list of string functions and their documentation.\n",
    "\n",
    "Recall that any functions that use the argument `pattern` in the documentation will by default assume the pattern provided is a regular expression. These include functions like `str_detect`, `str_replace`, `str_count`, etc.\n"
   ]
  },
  {
   "cell_type": "code",
   "execution_count": 129,
   "metadata": {
    "scrolled": true
   },
   "outputs": [
    {
     "data": {
      "text/html": [
       "<ol class=list-inline>\n",
       "\t<li>11</li>\n",
       "\t<li>5</li>\n",
       "\t<li>13</li>\n",
       "\t<li>7</li>\n",
       "\t<li>13</li>\n",
       "\t<li>12</li>\n",
       "</ol>\n"
      ],
      "text/latex": [
       "\\begin{enumerate*}\n",
       "\\item 11\n",
       "\\item 5\n",
       "\\item 13\n",
       "\\item 7\n",
       "\\item 13\n",
       "\\item 12\n",
       "\\end{enumerate*}\n"
      ],
      "text/markdown": [
       "1. 11\n",
       "2. 5\n",
       "3. 13\n",
       "4. 7\n",
       "5. 13\n",
       "6. 12\n",
       "\n",
       "\n"
      ],
      "text/plain": [
       "[1] 11  5 13  7 13 12"
      ]
     },
     "metadata": {},
     "output_type": "display_data"
    }
   ],
   "source": [
    "ne_states = c('Connecticut', 'Maine', 'Massachusetts', 'Vermont', 'New Hampshire', 'Rhode Island')\n",
    "\n",
    "str_length(ne_states)"
   ]
  },
  {
   "cell_type": "code",
   "execution_count": 130,
   "metadata": {},
   "outputs": [
    {
     "data": {
      "text/html": [
       "'Seoul, Korea'"
      ],
      "text/latex": [
       "'Seoul, Korea'"
      ],
      "text/markdown": [
       "'Seoul, Korea'"
      ],
      "text/plain": [
       "[1] \"Seoul, Korea\""
      ]
     },
     "metadata": {},
     "output_type": "display_data"
    }
   ],
   "source": [
    "str_c('Seoul', 'Korea', sep=', ')\n",
    "# paste('Seoul', 'Korea', sep=', ')"
   ]
  },
  {
   "cell_type": "code",
   "execution_count": 132,
   "metadata": {},
   "outputs": [
    {
     "data": {
      "text/html": [
       "<ol class=list-inline>\n",
       "\t<li>'|-abc-|'</li>\n",
       "\t<li>'|-123-|'</li>\n",
       "\t<li>NA</li>\n",
       "</ol>\n"
      ],
      "text/latex": [
       "\\begin{enumerate*}\n",
       "\\item '\\textbar{}-abc-\\textbar{}'\n",
       "\\item '\\textbar{}-123-\\textbar{}'\n",
       "\\item NA\n",
       "\\end{enumerate*}\n"
      ],
      "text/markdown": [
       "1. '|-abc-|'\n",
       "2. '|-123-|'\n",
       "3. NA\n",
       "\n",
       "\n"
      ],
      "text/plain": [
       "[1] \"|-abc-|\" \"|-123-|\" NA       "
      ]
     },
     "metadata": {},
     "output_type": "display_data"
    }
   ],
   "source": [
    "x = c('abc', '123', NA)\n",
    "\n",
    "str_c('|-', x, '-|')"
   ]
  },
  {
   "cell_type": "code",
   "execution_count": 133,
   "metadata": {},
   "outputs": [
    {
     "data": {
      "text/html": [
       "<ol class=list-inline>\n",
       "\t<li>'|-abc-|'</li>\n",
       "\t<li>'|-123-|'</li>\n",
       "\t<li>'|-NA-|'</li>\n",
       "</ol>\n"
      ],
      "text/latex": [
       "\\begin{enumerate*}\n",
       "\\item '\\textbar{}-abc-\\textbar{}'\n",
       "\\item '\\textbar{}-123-\\textbar{}'\n",
       "\\item '\\textbar{}-NA-\\textbar{}'\n",
       "\\end{enumerate*}\n"
      ],
      "text/markdown": [
       "1. '|-abc-|'\n",
       "2. '|-123-|'\n",
       "3. '|-NA-|'\n",
       "\n",
       "\n"
      ],
      "text/plain": [
       "[1] \"|-abc-|\" \"|-123-|\" \"|-NA-|\" "
      ]
     },
     "metadata": {},
     "output_type": "display_data"
    }
   ],
   "source": [
    "str_c('|-', str_replace_na(x), '-|')"
   ]
  },
  {
   "cell_type": "markdown",
   "metadata": {},
   "source": [
    "To collapse a vector of strings, use the `collapse` argument to `str_c`:"
   ]
  },
  {
   "cell_type": "code",
   "execution_count": 134,
   "metadata": {
    "scrolled": true
   },
   "outputs": [
    {
     "data": {
      "text/html": [
       "'Connecticut, Maine, Massachusetts, Vermont, New Hampshire, Rhode Island'"
      ],
      "text/latex": [
       "'Connecticut, Maine, Massachusetts, Vermont, New Hampshire, Rhode Island'"
      ],
      "text/markdown": [
       "'Connecticut, Maine, Massachusetts, Vermont, New Hampshire, Rhode Island'"
      ],
      "text/plain": [
       "[1] \"Connecticut, Maine, Massachusetts, Vermont, New Hampshire, Rhode Island\""
      ]
     },
     "metadata": {},
     "output_type": "display_data"
    }
   ],
   "source": [
    "str_c(ne_states, collapse=\", \")"
   ]
  },
  {
   "cell_type": "markdown",
   "metadata": {},
   "source": [
    "### Subsetting Strings"
   ]
  },
  {
   "cell_type": "code",
   "execution_count": 136,
   "metadata": {},
   "outputs": [
    {
     "data": {
      "text/html": [
       "<ol class=list-inline>\n",
       "\t<li>'Con'</li>\n",
       "\t<li>'Mai'</li>\n",
       "\t<li>'Mas'</li>\n",
       "\t<li>'Ver'</li>\n",
       "\t<li>'New'</li>\n",
       "\t<li>'Rho'</li>\n",
       "</ol>\n"
      ],
      "text/latex": [
       "\\begin{enumerate*}\n",
       "\\item 'Con'\n",
       "\\item 'Mai'\n",
       "\\item 'Mas'\n",
       "\\item 'Ver'\n",
       "\\item 'New'\n",
       "\\item 'Rho'\n",
       "\\end{enumerate*}\n"
      ],
      "text/markdown": [
       "1. 'Con'\n",
       "2. 'Mai'\n",
       "3. 'Mas'\n",
       "4. 'Ver'\n",
       "5. 'New'\n",
       "6. 'Rho'\n",
       "\n",
       "\n"
      ],
      "text/plain": [
       "[1] \"Con\" \"Mai\" \"Mas\" \"Ver\" \"New\" \"Rho\""
      ]
     },
     "metadata": {},
     "output_type": "display_data"
    }
   ],
   "source": [
    "ne_states = c(\"Connecticut\", \"Maine\", \"Massachusetts\", \"Vermont\", \"New Hampshire\", \"Rhode Island\")\n",
    "\n",
    "str_sub(ne_states, 1, 3)"
   ]
  },
  {
   "cell_type": "code",
   "execution_count": 71,
   "metadata": {},
   "outputs": [
    {
     "data": {
      "text/html": [
       "<ol class=list-inline>\n",
       "\t<li>'cut'</li>\n",
       "\t<li>'ine'</li>\n",
       "\t<li>'tts'</li>\n",
       "\t<li>'ont'</li>\n",
       "\t<li>'ire'</li>\n",
       "\t<li>'and'</li>\n",
       "</ol>\n"
      ],
      "text/latex": [
       "\\begin{enumerate*}\n",
       "\\item 'cut'\n",
       "\\item 'ine'\n",
       "\\item 'tts'\n",
       "\\item 'ont'\n",
       "\\item 'ire'\n",
       "\\item 'and'\n",
       "\\end{enumerate*}\n"
      ],
      "text/markdown": [
       "1. 'cut'\n",
       "2. 'ine'\n",
       "3. 'tts'\n",
       "4. 'ont'\n",
       "5. 'ire'\n",
       "6. 'and'\n",
       "\n",
       "\n"
      ],
      "text/plain": [
       "[1] \"cut\" \"ine\" \"tts\" \"ont\" \"ire\" \"and\""
      ]
     },
     "metadata": {},
     "output_type": "display_data"
    }
   ],
   "source": [
    "str_sub(ne_states, -3, -1)"
   ]
  },
  {
   "cell_type": "code",
   "execution_count": 137,
   "metadata": {},
   "outputs": [
    {
     "data": {
      "text/html": [
       "<ol class=list-inline>\n",
       "\t<li>'Connect'</li>\n",
       "\t<li>'Maine'</li>\n",
       "\t<li>'Massach'</li>\n",
       "\t<li>'Vermont'</li>\n",
       "\t<li>'New Ham'</li>\n",
       "\t<li>'Rhode I'</li>\n",
       "</ol>\n"
      ],
      "text/latex": [
       "\\begin{enumerate*}\n",
       "\\item 'Connect'\n",
       "\\item 'Maine'\n",
       "\\item 'Massach'\n",
       "\\item 'Vermont'\n",
       "\\item 'New Ham'\n",
       "\\item 'Rhode I'\n",
       "\\end{enumerate*}\n"
      ],
      "text/markdown": [
       "1. 'Connect'\n",
       "2. 'Maine'\n",
       "3. 'Massach'\n",
       "4. 'Vermont'\n",
       "5. 'New Ham'\n",
       "6. 'Rhode I'\n",
       "\n",
       "\n"
      ],
      "text/plain": [
       "[1] \"Connect\" \"Maine\"   \"Massach\" \"Vermont\" \"New Ham\" \"Rhode I\""
      ]
     },
     "metadata": {},
     "output_type": "display_data"
    }
   ],
   "source": [
    "str_sub(ne_states, 1, 7)  # notice that this still works for Maine"
   ]
  },
  {
   "cell_type": "code",
   "execution_count": 73,
   "metadata": {},
   "outputs": [
    {
     "data": {
      "text/html": [
       "<ol class=list-inline>\n",
       "\t<li>'connecticut'</li>\n",
       "\t<li>'maine'</li>\n",
       "\t<li>'massachusetts'</li>\n",
       "\t<li>'vermont'</li>\n",
       "\t<li>'new Hampshire'</li>\n",
       "\t<li>'rhode Island'</li>\n",
       "</ol>\n"
      ],
      "text/latex": [
       "\\begin{enumerate*}\n",
       "\\item 'connecticut'\n",
       "\\item 'maine'\n",
       "\\item 'massachusetts'\n",
       "\\item 'vermont'\n",
       "\\item 'new Hampshire'\n",
       "\\item 'rhode Island'\n",
       "\\end{enumerate*}\n"
      ],
      "text/markdown": [
       "1. 'connecticut'\n",
       "2. 'maine'\n",
       "3. 'massachusetts'\n",
       "4. 'vermont'\n",
       "5. 'new Hampshire'\n",
       "6. 'rhode Island'\n",
       "\n",
       "\n"
      ],
      "text/plain": [
       "[1] \"connecticut\"   \"maine\"         \"massachusetts\" \"vermont\"      \n",
       "[5] \"new Hampshire\" \"rhode Island\" "
      ]
     },
     "metadata": {},
     "output_type": "display_data"
    }
   ],
   "source": [
    "str_sub(ne_states, 1, 1) = str_to_lower(str_sub(ne_states, 1, 1))\n",
    "ne_states"
   ]
  },
  {
   "cell_type": "code",
   "execution_count": 74,
   "metadata": {},
   "outputs": [
    {
     "data": {
      "text/html": [
       "<ol class=list-inline>\n",
       "\t<li>'connectiCUT'</li>\n",
       "\t<li>'maINE'</li>\n",
       "\t<li>'massachuseTTS'</li>\n",
       "\t<li>'vermONT'</li>\n",
       "\t<li>'new HampshIRE'</li>\n",
       "\t<li>'rhode IslAND'</li>\n",
       "</ol>\n"
      ],
      "text/latex": [
       "\\begin{enumerate*}\n",
       "\\item 'connectiCUT'\n",
       "\\item 'maINE'\n",
       "\\item 'massachuseTTS'\n",
       "\\item 'vermONT'\n",
       "\\item 'new HampshIRE'\n",
       "\\item 'rhode IslAND'\n",
       "\\end{enumerate*}\n"
      ],
      "text/markdown": [
       "1. 'connectiCUT'\n",
       "2. 'maINE'\n",
       "3. 'massachuseTTS'\n",
       "4. 'vermONT'\n",
       "5. 'new HampshIRE'\n",
       "6. 'rhode IslAND'\n",
       "\n",
       "\n"
      ],
      "text/plain": [
       "[1] \"connectiCUT\"   \"maINE\"         \"massachuseTTS\" \"vermONT\"      \n",
       "[5] \"new HampshIRE\" \"rhode IslAND\" "
      ]
     },
     "metadata": {},
     "output_type": "display_data"
    }
   ],
   "source": [
    "str_sub(ne_states, -3, -1) = str_to_upper(str_sub(ne_states, -3, -1))\n",
    "ne_states"
   ]
  },
  {
   "cell_type": "code",
   "execution_count": 156,
   "metadata": {},
   "outputs": [
    {
     "data": {
      "text/html": [
       "'Thiiis iiis aaa seeenteeenceee.'"
      ],
      "text/latex": [
       "'Thiiis iiis aaa seeenteeenceee.'"
      ],
      "text/markdown": [
       "'Thiiis iiis aaa seeenteeenceee.'"
      ],
      "text/plain": [
       "[1] \"Thiiis iiis aaa seeenteeenceee.\""
      ]
     },
     "metadata": {},
     "output_type": "display_data"
    }
   ],
   "source": [
    "str_replace_all('This is a sentence.', '([aeiouAEIOU])', '\\\\1\\\\1\\\\1')"
   ]
  },
  {
   "cell_type": "code",
   "execution_count": 157,
   "metadata": {},
   "outputs": [
    {
     "data": {
      "text/html": [
       "'buaety obvuois prevuois qeiut seruois varuois'"
      ],
      "text/latex": [
       "'buaety obvuois prevuois qeiut seruois varuois'"
      ],
      "text/markdown": [
       "'buaety obvuois prevuois qeiut seruois varuois'"
      ],
      "text/plain": [
       "[1] \"buaety obvuois prevuois qeiut seruois varuois\""
      ]
     },
     "metadata": {},
     "output_type": "display_data"
    }
   ],
   "source": [
    "str_replace_all('beauty obvious previous quiet serious various', '([aeiou])([aeiou])([aeiou])', '\\\\3\\\\2\\\\1')"
   ]
  }
 ],
 "metadata": {
  "kernelspec": {
   "display_name": "R",
   "language": "R",
   "name": "ir"
  },
  "language_info": {
   "codemirror_mode": "r",
   "file_extension": ".r",
   "mimetype": "text/x-r-source",
   "name": "R",
   "pygments_lexer": "r",
   "version": "3.5.1"
  }
 },
 "nbformat": 4,
 "nbformat_minor": 2
}
