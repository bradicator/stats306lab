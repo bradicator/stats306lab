{
 "cells": [
  {
   "cell_type": "markdown",
   "metadata": {},
   "source": [
    "# Lab 4: EDA on Chipotle Orders"
   ]
  },
  {
   "cell_type": "markdown",
   "metadata": {},
   "source": [
    "Today, we look at what people order at Chipotle. Some example questions we are interested in are:\n",
    "- How much do people spend on average at Chipotle?\n",
    "- Do people prefer bowls or burritos?\n",
    "- What percentage of people order drinks?\n",
    "- ..."
   ]
  },
  {
   "cell_type": "code",
   "execution_count": 2,
   "metadata": {},
   "outputs": [],
   "source": [
    "# read in necessary packages and data\n",
    "library(dplyr)\n",
    "library(ggplot2)\n",
    "library(stringr)\n",
    "# change the path\n",
    "df <- read.csv(\"~/Documents/stats306/labs/week4/chipotle.csv\", stringsAsFactors = F)\n",
    "df$X <- NULL"
   ]
  },
  {
   "cell_type": "code",
   "execution_count": 3,
   "metadata": {},
   "outputs": [
    {
     "data": {
      "text/html": [
       "<table>\n",
       "<thead><tr><th scope=col>order_id</th><th scope=col>quantity</th><th scope=col>item_name</th><th scope=col>choice_description</th><th scope=col>item_price</th></tr></thead>\n",
       "<tbody>\n",
       "\t<tr><td>1                                                                          </td><td>1                                                                          </td><td>Chips and Fresh Tomato Salsa                                               </td><td>                                                                           </td><td>$2.39                                                                      </td></tr>\n",
       "\t<tr><td>1                                                                          </td><td>1                                                                          </td><td>Izze                                                                       </td><td>[Clementine]                                                               </td><td>$3.39                                                                      </td></tr>\n",
       "\t<tr><td>1                                                                          </td><td>1                                                                          </td><td>Nantucket Nectar                                                           </td><td>[Apple]                                                                    </td><td>$3.39                                                                      </td></tr>\n",
       "\t<tr><td>1                                                                          </td><td>1                                                                          </td><td>Chips and Tomatillo-Green Chili Salsa                                      </td><td>                                                                           </td><td>$2.39                                                                      </td></tr>\n",
       "\t<tr><td>2                                                                          </td><td>2                                                                          </td><td>Chicken Bowl                                                               </td><td>[Tomatillo-Red Chili Salsa (Hot), [Black Beans, Rice, Cheese, Sour Cream]] </td><td>$16.98                                                                     </td></tr>\n",
       "\t<tr><td>3                                                                          </td><td>1                                                                          </td><td>Chicken Bowl                                                               </td><td>[Fresh Tomato Salsa (Mild), [Rice, Cheese, Sour Cream, Guacamole, Lettuce]]</td><td>$10.98                                                                     </td></tr>\n",
       "</tbody>\n",
       "</table>\n"
      ],
      "text/latex": [
       "\\begin{tabular}{r|lllll}\n",
       " order\\_id & quantity & item\\_name & choice\\_description & item\\_price\\\\\n",
       "\\hline\n",
       "\t 1                                                                           & 1                                                                           & Chips and Fresh Tomato Salsa                                                &                                                                             & \\$2.39                                                                    \\\\\n",
       "\t 1                                                                               & 1                                                                               & Izze                                                                            & {[}Clementine{]}                                                                & \\$3.39                                                                        \\\\\n",
       "\t 1                                                                               & 1                                                                               & Nantucket Nectar                                                                & {[}Apple{]}                                                                     & \\$3.39                                                                        \\\\\n",
       "\t 1                                                                           & 1                                                                           & Chips and Tomatillo-Green Chili Salsa                                       &                                                                             & \\$2.39                                                                    \\\\\n",
       "\t 2                                                                                   & 2                                                                                   & Chicken Bowl                                                                        & {[}Tomatillo-Red Chili Salsa (Hot), {[}Black Beans, Rice, Cheese, Sour Cream{]}{]}  & \\$16.98                                                                           \\\\\n",
       "\t 3                                                                                   & 1                                                                                   & Chicken Bowl                                                                        & {[}Fresh Tomato Salsa (Mild), {[}Rice, Cheese, Sour Cream, Guacamole, Lettuce{]}{]} & \\$10.98                                                                           \\\\\n",
       "\\end{tabular}\n"
      ],
      "text/markdown": [
       "\n",
       "order_id | quantity | item_name | choice_description | item_price | \n",
       "|---|---|---|---|---|---|\n",
       "| 1                                                                           | 1                                                                           | Chips and Fresh Tomato Salsa                                                |                                                                             | $2.39                                                                       | \n",
       "| 1                                                                           | 1                                                                           | Izze                                                                        | [Clementine]                                                                | $3.39                                                                       | \n",
       "| 1                                                                           | 1                                                                           | Nantucket Nectar                                                            | [Apple]                                                                     | $3.39                                                                       | \n",
       "| 1                                                                           | 1                                                                           | Chips and Tomatillo-Green Chili Salsa                                       |                                                                             | $2.39                                                                       | \n",
       "| 2                                                                           | 2                                                                           | Chicken Bowl                                                                | [Tomatillo-Red Chili Salsa (Hot), [Black Beans, Rice, Cheese, Sour Cream]]  | $16.98                                                                      | \n",
       "| 3                                                                           | 1                                                                           | Chicken Bowl                                                                | [Fresh Tomato Salsa (Mild), [Rice, Cheese, Sour Cream, Guacamole, Lettuce]] | $10.98                                                                      | \n",
       "\n",
       "\n"
      ],
      "text/plain": [
       "  order_id quantity item_name                            \n",
       "1 1        1        Chips and Fresh Tomato Salsa         \n",
       "2 1        1        Izze                                 \n",
       "3 1        1        Nantucket Nectar                     \n",
       "4 1        1        Chips and Tomatillo-Green Chili Salsa\n",
       "5 2        2        Chicken Bowl                         \n",
       "6 3        1        Chicken Bowl                         \n",
       "  choice_description                                                         \n",
       "1                                                                            \n",
       "2 [Clementine]                                                               \n",
       "3 [Apple]                                                                    \n",
       "4                                                                            \n",
       "5 [Tomatillo-Red Chili Salsa (Hot), [Black Beans, Rice, Cheese, Sour Cream]] \n",
       "6 [Fresh Tomato Salsa (Mild), [Rice, Cheese, Sour Cream, Guacamole, Lettuce]]\n",
       "  item_price\n",
       "1 $2.39     \n",
       "2 $3.39     \n",
       "3 $3.39     \n",
       "4 $2.39     \n",
       "5 $16.98    \n",
       "6 $10.98    "
      ]
     },
     "metadata": {},
     "output_type": "display_data"
    }
   ],
   "source": [
    "# take a look at data\n",
    "head(df)"
   ]
  },
  {
   "cell_type": "markdown",
   "metadata": {},
   "source": [
    "### Q1: what are the top 5 most popular items? (let's assume item_name are well-maintained, i.e., chicken bowl won't be listed as both Chicken Bowl and chicken bowl)"
   ]
  },
  {
   "cell_type": "code",
   "execution_count": 7,
   "metadata": {},
   "outputs": [
    {
     "name": "stderr",
     "output_type": "stream",
     "text": [
      "Selecting by itemsold\n"
     ]
    },
    {
     "data": {
      "text/html": [
       "<table>\n",
       "<thead><tr><th scope=col>item_name</th><th scope=col>itemsold</th></tr></thead>\n",
       "<tbody>\n",
       "\t<tr><td>Chicken Bowl                </td><td>761                         </td></tr>\n",
       "\t<tr><td>Chicken Burrito             </td><td>591                         </td></tr>\n",
       "\t<tr><td>Chips and Guacamole         </td><td>506                         </td></tr>\n",
       "\t<tr><td>Steak Burrito               </td><td>386                         </td></tr>\n",
       "\t<tr><td>Canned Soft Drink           </td><td>351                         </td></tr>\n",
       "\t<tr><td>Chips                       </td><td>230                         </td></tr>\n",
       "\t<tr><td>Steak Bowl                  </td><td>221                         </td></tr>\n",
       "\t<tr><td>Bottled Water               </td><td>211                         </td></tr>\n",
       "\t<tr><td>Chips and Fresh Tomato Salsa</td><td>130                         </td></tr>\n",
       "\t<tr><td>Canned Soda                 </td><td>126                         </td></tr>\n",
       "\t<tr><td>Chicken Salad Bowl          </td><td>123                         </td></tr>\n",
       "\t<tr><td>Chicken Soft Tacos          </td><td>120                         </td></tr>\n",
       "\t<tr><td>Side of Chips               </td><td>110                         </td></tr>\n",
       "\t<tr><td>Veggie Burrito              </td><td> 97                         </td></tr>\n",
       "\t<tr><td>Barbacoa Burrito            </td><td> 91                         </td></tr>\n",
       "\t<tr><td>Veggie Bowl                 </td><td> 87                         </td></tr>\n",
       "\t<tr><td>Carnitas Bowl               </td><td> 71                         </td></tr>\n",
       "\t<tr><td>Barbacoa Bowl               </td><td> 66                         </td></tr>\n",
       "\t<tr><td>Carnitas Burrito            </td><td> 60                         </td></tr>\n",
       "\t<tr><td>Steak Soft Tacos            </td><td> 56                         </td></tr>\n",
       "</tbody>\n",
       "</table>\n"
      ],
      "text/latex": [
       "\\begin{tabular}{r|ll}\n",
       " item\\_name & itemsold\\\\\n",
       "\\hline\n",
       "\t Chicken Bowl                 & 761                         \\\\\n",
       "\t Chicken Burrito              & 591                         \\\\\n",
       "\t Chips and Guacamole          & 506                         \\\\\n",
       "\t Steak Burrito                & 386                         \\\\\n",
       "\t Canned Soft Drink            & 351                         \\\\\n",
       "\t Chips                        & 230                         \\\\\n",
       "\t Steak Bowl                   & 221                         \\\\\n",
       "\t Bottled Water                & 211                         \\\\\n",
       "\t Chips and Fresh Tomato Salsa & 130                         \\\\\n",
       "\t Canned Soda                  & 126                         \\\\\n",
       "\t Chicken Salad Bowl           & 123                         \\\\\n",
       "\t Chicken Soft Tacos           & 120                         \\\\\n",
       "\t Side of Chips                & 110                         \\\\\n",
       "\t Veggie Burrito               &  97                         \\\\\n",
       "\t Barbacoa Burrito             &  91                         \\\\\n",
       "\t Veggie Bowl                  &  87                         \\\\\n",
       "\t Carnitas Bowl                &  71                         \\\\\n",
       "\t Barbacoa Bowl                &  66                         \\\\\n",
       "\t Carnitas Burrito             &  60                         \\\\\n",
       "\t Steak Soft Tacos             &  56                         \\\\\n",
       "\\end{tabular}\n"
      ],
      "text/markdown": [
       "\n",
       "item_name | itemsold | \n",
       "|---|---|---|---|---|---|---|---|---|---|---|---|---|---|---|---|---|---|---|---|\n",
       "| Chicken Bowl                 | 761                          | \n",
       "| Chicken Burrito              | 591                          | \n",
       "| Chips and Guacamole          | 506                          | \n",
       "| Steak Burrito                | 386                          | \n",
       "| Canned Soft Drink            | 351                          | \n",
       "| Chips                        | 230                          | \n",
       "| Steak Bowl                   | 221                          | \n",
       "| Bottled Water                | 211                          | \n",
       "| Chips and Fresh Tomato Salsa | 130                          | \n",
       "| Canned Soda                  | 126                          | \n",
       "| Chicken Salad Bowl           | 123                          | \n",
       "| Chicken Soft Tacos           | 120                          | \n",
       "| Side of Chips                | 110                          | \n",
       "| Veggie Burrito               |  97                          | \n",
       "| Barbacoa Burrito             |  91                          | \n",
       "| Veggie Bowl                  |  87                          | \n",
       "| Carnitas Bowl                |  71                          | \n",
       "| Barbacoa Bowl                |  66                          | \n",
       "| Carnitas Burrito             |  60                          | \n",
       "| Steak Soft Tacos             |  56                          | \n",
       "\n",
       "\n"
      ],
      "text/plain": [
       "   item_name                    itemsold\n",
       "1  Chicken Bowl                 761     \n",
       "2  Chicken Burrito              591     \n",
       "3  Chips and Guacamole          506     \n",
       "4  Steak Burrito                386     \n",
       "5  Canned Soft Drink            351     \n",
       "6  Chips                        230     \n",
       "7  Steak Bowl                   221     \n",
       "8  Bottled Water                211     \n",
       "9  Chips and Fresh Tomato Salsa 130     \n",
       "10 Canned Soda                  126     \n",
       "11 Chicken Salad Bowl           123     \n",
       "12 Chicken Soft Tacos           120     \n",
       "13 Side of Chips                110     \n",
       "14 Veggie Burrito                97     \n",
       "15 Barbacoa Burrito              91     \n",
       "16 Veggie Bowl                   87     \n",
       "17 Carnitas Bowl                 71     \n",
       "18 Barbacoa Bowl                 66     \n",
       "19 Carnitas Burrito              60     \n",
       "20 Steak Soft Tacos              56     "
      ]
     },
     "metadata": {},
     "output_type": "display_data"
    }
   ],
   "source": [
    "df %>% group_by(item_name) %>% summarise(itemsold = sum(quantity)) %>% arrange(desc(itemsold)) %>% top_n(20)"
   ]
  },
  {
   "cell_type": "code",
   "execution_count": 8,
   "metadata": {},
   "outputs": [
    {
     "name": "stdout",
     "output_type": "stream",
     "text": [
      "'data.frame':\t4622 obs. of  5 variables:\n",
      " $ order_id          : int  1 1 1 1 2 3 3 4 4 5 ...\n",
      " $ quantity          : int  1 1 1 1 2 1 1 1 1 1 ...\n",
      " $ item_name         : chr  \"Chips and Fresh Tomato Salsa\" \"Izze\" \"Nantucket Nectar\" \"Chips and Tomatillo-Green Chili Salsa\" ...\n",
      " $ choice_description: chr  \"\" \"[Clementine]\" \"[Apple]\" \"\" ...\n",
      " $ item_price        : num  2.39 3.39 3.39 2.39 16.98 ...\n"
     ]
    }
   ],
   "source": [
    "str(df)"
   ]
  },
  {
   "cell_type": "markdown",
   "metadata": {},
   "source": [
    "### Q2: item_price is strings right now. Can we remove the dollar sign and convert it to numerical?"
   ]
  },
  {
   "cell_type": "code",
   "execution_count": 6,
   "metadata": {},
   "outputs": [
    {
     "data": {
      "text/html": [
       "<table>\n",
       "<thead><tr><th scope=col>order_id</th><th scope=col>quantity</th><th scope=col>item_name</th><th scope=col>choice_description</th><th scope=col>item_price</th></tr></thead>\n",
       "<tbody>\n",
       "\t<tr><td>1                                                                          </td><td>1                                                                          </td><td>Chips and Fresh Tomato Salsa                                               </td><td>                                                                           </td><td> 2.39                                                                      </td></tr>\n",
       "\t<tr><td>1                                                                          </td><td>1                                                                          </td><td>Izze                                                                       </td><td>[Clementine]                                                               </td><td> 3.39                                                                      </td></tr>\n",
       "\t<tr><td>1                                                                          </td><td>1                                                                          </td><td>Nantucket Nectar                                                           </td><td>[Apple]                                                                    </td><td> 3.39                                                                      </td></tr>\n",
       "\t<tr><td>1                                                                          </td><td>1                                                                          </td><td>Chips and Tomatillo-Green Chili Salsa                                      </td><td>                                                                           </td><td> 2.39                                                                      </td></tr>\n",
       "\t<tr><td>2                                                                          </td><td>2                                                                          </td><td>Chicken Bowl                                                               </td><td>[Tomatillo-Red Chili Salsa (Hot), [Black Beans, Rice, Cheese, Sour Cream]] </td><td>16.98                                                                      </td></tr>\n",
       "\t<tr><td>3                                                                          </td><td>1                                                                          </td><td>Chicken Bowl                                                               </td><td>[Fresh Tomato Salsa (Mild), [Rice, Cheese, Sour Cream, Guacamole, Lettuce]]</td><td>10.98                                                                      </td></tr>\n",
       "</tbody>\n",
       "</table>\n"
      ],
      "text/latex": [
       "\\begin{tabular}{r|lllll}\n",
       " order\\_id & quantity & item\\_name & choice\\_description & item\\_price\\\\\n",
       "\\hline\n",
       "\t 1                                                                           & 1                                                                           & Chips and Fresh Tomato Salsa                                                &                                                                             &  2.39                                                                      \\\\\n",
       "\t 1                                                                               & 1                                                                               & Izze                                                                            & {[}Clementine{]}                                                                &  3.39                                                                          \\\\\n",
       "\t 1                                                                               & 1                                                                               & Nantucket Nectar                                                                & {[}Apple{]}                                                                     &  3.39                                                                          \\\\\n",
       "\t 1                                                                           & 1                                                                           & Chips and Tomatillo-Green Chili Salsa                                       &                                                                             &  2.39                                                                      \\\\\n",
       "\t 2                                                                                   & 2                                                                                   & Chicken Bowl                                                                        & {[}Tomatillo-Red Chili Salsa (Hot), {[}Black Beans, Rice, Cheese, Sour Cream{]}{]}  & 16.98                                                                              \\\\\n",
       "\t 3                                                                                   & 1                                                                                   & Chicken Bowl                                                                        & {[}Fresh Tomato Salsa (Mild), {[}Rice, Cheese, Sour Cream, Guacamole, Lettuce{]}{]} & 10.98                                                                              \\\\\n",
       "\\end{tabular}\n"
      ],
      "text/markdown": [
       "\n",
       "order_id | quantity | item_name | choice_description | item_price | \n",
       "|---|---|---|---|---|---|\n",
       "| 1                                                                           | 1                                                                           | Chips and Fresh Tomato Salsa                                                |                                                                             |  2.39                                                                       | \n",
       "| 1                                                                           | 1                                                                           | Izze                                                                        | [Clementine]                                                                |  3.39                                                                       | \n",
       "| 1                                                                           | 1                                                                           | Nantucket Nectar                                                            | [Apple]                                                                     |  3.39                                                                       | \n",
       "| 1                                                                           | 1                                                                           | Chips and Tomatillo-Green Chili Salsa                                       |                                                                             |  2.39                                                                       | \n",
       "| 2                                                                           | 2                                                                           | Chicken Bowl                                                                | [Tomatillo-Red Chili Salsa (Hot), [Black Beans, Rice, Cheese, Sour Cream]]  | 16.98                                                                       | \n",
       "| 3                                                                           | 1                                                                           | Chicken Bowl                                                                | [Fresh Tomato Salsa (Mild), [Rice, Cheese, Sour Cream, Guacamole, Lettuce]] | 10.98                                                                       | \n",
       "\n",
       "\n"
      ],
      "text/plain": [
       "  order_id quantity item_name                            \n",
       "1 1        1        Chips and Fresh Tomato Salsa         \n",
       "2 1        1        Izze                                 \n",
       "3 1        1        Nantucket Nectar                     \n",
       "4 1        1        Chips and Tomatillo-Green Chili Salsa\n",
       "5 2        2        Chicken Bowl                         \n",
       "6 3        1        Chicken Bowl                         \n",
       "  choice_description                                                         \n",
       "1                                                                            \n",
       "2 [Clementine]                                                               \n",
       "3 [Apple]                                                                    \n",
       "4                                                                            \n",
       "5 [Tomatillo-Red Chili Salsa (Hot), [Black Beans, Rice, Cheese, Sour Cream]] \n",
       "6 [Fresh Tomato Salsa (Mild), [Rice, Cheese, Sour Cream, Guacamole, Lettuce]]\n",
       "  item_price\n",
       "1  2.39     \n",
       "2  3.39     \n",
       "3  3.39     \n",
       "4  2.39     \n",
       "5 16.98     \n",
       "6 10.98     "
      ]
     },
     "metadata": {},
     "output_type": "display_data"
    }
   ],
   "source": [
    "df <- df %>% mutate(item_price = as.numeric(str_replace(item_price, \"\\\\$\", \"\")))\n",
    "df %>% head()"
   ]
  },
  {
   "cell_type": "markdown",
   "metadata": {},
   "source": [
    "### Q3: Construct a table where for each item, we have amount sold, total revenue, max price sold, min price sold, mean price sold; arrange in decreasing order of amount sold.\n",
    "\n",
    "I have done this for you, and my solution is:"
   ]
  },
  {
   "cell_type": "code",
   "execution_count": 11,
   "metadata": {},
   "outputs": [
    {
     "data": {
      "text/html": [
       "<table>\n",
       "<thead><tr><th scope=col>item_name</th><th scope=col>revenue</th><th scope=col>itemsold</th><th scope=col>meanprice</th><th scope=col>maxprice</th><th scope=col>minprice</th></tr></thead>\n",
       "<tbody>\n",
       "\t<tr><td>Chicken Bowl       </td><td>7342.73            </td><td>761                </td><td>9.648791           </td><td>11.25              </td><td>8.19               </td></tr>\n",
       "\t<tr><td>Chicken Burrito    </td><td>5575.82            </td><td>591                </td><td>9.434552           </td><td>11.25              </td><td>8.19               </td></tr>\n",
       "\t<tr><td>Chips and Guacamole</td><td>2201.04            </td><td>506                </td><td>4.349881           </td><td> 4.45              </td><td>3.89               </td></tr>\n",
       "\t<tr><td>Steak Burrito      </td><td>3851.43            </td><td>386                </td><td>9.977798           </td><td>11.75              </td><td>8.69               </td></tr>\n",
       "\t<tr><td>Canned Soft Drink  </td><td> 438.75            </td><td>351                </td><td>1.250000           </td><td> 1.25              </td><td>1.25               </td></tr>\n",
       "\t<tr><td>Chips              </td><td> 494.34            </td><td>230                </td><td>2.149304           </td><td> 2.15              </td><td>1.99               </td></tr>\n",
       "</tbody>\n",
       "</table>\n"
      ],
      "text/latex": [
       "\\begin{tabular}{r|llllll}\n",
       " item\\_name & revenue & itemsold & meanprice & maxprice & minprice\\\\\n",
       "\\hline\n",
       "\t Chicken Bowl        & 7342.73             & 761                 & 9.648791            & 11.25               & 8.19               \\\\\n",
       "\t Chicken Burrito     & 5575.82             & 591                 & 9.434552            & 11.25               & 8.19               \\\\\n",
       "\t Chips and Guacamole & 2201.04             & 506                 & 4.349881            &  4.45               & 3.89               \\\\\n",
       "\t Steak Burrito       & 3851.43             & 386                 & 9.977798            & 11.75               & 8.69               \\\\\n",
       "\t Canned Soft Drink   &  438.75             & 351                 & 1.250000            &  1.25               & 1.25               \\\\\n",
       "\t Chips               &  494.34             & 230                 & 2.149304            &  2.15               & 1.99               \\\\\n",
       "\\end{tabular}\n"
      ],
      "text/markdown": [
       "\n",
       "item_name | revenue | itemsold | meanprice | maxprice | minprice | \n",
       "|---|---|---|---|---|---|\n",
       "| Chicken Bowl        | 7342.73             | 761                 | 9.648791            | 11.25               | 8.19                | \n",
       "| Chicken Burrito     | 5575.82             | 591                 | 9.434552            | 11.25               | 8.19                | \n",
       "| Chips and Guacamole | 2201.04             | 506                 | 4.349881            |  4.45               | 3.89                | \n",
       "| Steak Burrito       | 3851.43             | 386                 | 9.977798            | 11.75               | 8.69                | \n",
       "| Canned Soft Drink   |  438.75             | 351                 | 1.250000            |  1.25               | 1.25                | \n",
       "| Chips               |  494.34             | 230                 | 2.149304            |  2.15               | 1.99                | \n",
       "\n",
       "\n"
      ],
      "text/plain": [
       "  item_name           revenue itemsold meanprice maxprice minprice\n",
       "1 Chicken Bowl        7342.73 761      9.648791  11.25    8.19    \n",
       "2 Chicken Burrito     5575.82 591      9.434552  11.25    8.19    \n",
       "3 Chips and Guacamole 2201.04 506      4.349881   4.45    3.89    \n",
       "4 Steak Burrito       3851.43 386      9.977798  11.75    8.69    \n",
       "5 Canned Soft Drink    438.75 351      1.250000   1.25    1.25    \n",
       "6 Chips                494.34 230      2.149304   2.15    1.99    "
      ]
     },
     "metadata": {},
     "output_type": "display_data"
    }
   ],
   "source": [
    "pricetable <- df %>% group_by(item_name) %>% \n",
    "    summarise(revenue = sum(item_price), \n",
    "              itemsold = sum(quantity),\n",
    "              meanprice = revenue / itemsold,\n",
    "              maxprice = max(item_price/quantity),                       \n",
    "              minprice = min(item_price/quantity)) %>% \n",
    "    arrange(desc(itemsold))\n",
    "head(pricetable)"
   ]
  },
  {
   "cell_type": "markdown",
   "metadata": {},
   "source": [
    "Wait! how can a chicken bowl be 32.94? Double chicken chicken bowl is only 10 bucks! What happened?"
   ]
  },
  {
   "cell_type": "code",
   "execution_count": 10,
   "metadata": {},
   "outputs": [
    {
     "data": {
      "text/html": [
       "<table>\n",
       "<thead><tr><th scope=col>order_id</th><th scope=col>quantity</th><th scope=col>item_name</th><th scope=col>choice_description</th><th scope=col>item_price</th></tr></thead>\n",
       "<tbody>\n",
       "\t<tr><td>178                                                                                                                                                                    </td><td>3                                                                                                                                                                      </td><td>Chicken Bowl                                                                                                                                                           </td><td>[[Fresh Tomato Salsa (Mild), Tomatillo-Green Chili Salsa (Medium), Roasted Chili Corn Salsa (Medium)], [Black Beans, Rice, Fajita Veggies, Cheese, Guacamole, Lettuce]]</td><td>32.94                                                                                                                                                                  </td></tr>\n",
       "</tbody>\n",
       "</table>\n"
      ],
      "text/latex": [
       "\\begin{tabular}{r|lllll}\n",
       " order\\_id & quantity & item\\_name & choice\\_description & item\\_price\\\\\n",
       "\\hline\n",
       "\t 178                                                                                                                                                                                 & 3                                                                                                                                                                                   & Chicken Bowl                                                                                                                                                                        & {[}{[}Fresh Tomato Salsa (Mild), Tomatillo-Green Chili Salsa (Medium), Roasted Chili Corn Salsa (Medium){]}, {[}Black Beans, Rice, Fajita Veggies, Cheese, Guacamole, Lettuce{]}{]} & 32.94                                                                                                                                                                              \\\\\n",
       "\\end{tabular}\n"
      ],
      "text/markdown": [
       "\n",
       "order_id | quantity | item_name | choice_description | item_price | \n",
       "|---|\n",
       "| 178                                                                                                                                                                     | 3                                                                                                                                                                       | Chicken Bowl                                                                                                                                                            | [[Fresh Tomato Salsa (Mild), Tomatillo-Green Chili Salsa (Medium), Roasted Chili Corn Salsa (Medium)], [Black Beans, Rice, Fajita Veggies, Cheese, Guacamole, Lettuce]] | 32.94                                                                                                                                                                   | \n",
       "\n",
       "\n"
      ],
      "text/plain": [
       "  order_id quantity item_name   \n",
       "1 178      3        Chicken Bowl\n",
       "  choice_description                                                                                                                                                     \n",
       "1 [[Fresh Tomato Salsa (Mild), Tomatillo-Green Chili Salsa (Medium), Roasted Chili Corn Salsa (Medium)], [Black Beans, Rice, Fajita Veggies, Cheese, Guacamole, Lettuce]]\n",
       "  item_price\n",
       "1 32.94     "
      ]
     },
     "metadata": {},
     "output_type": "display_data"
    }
   ],
   "source": [
    "df %>% filter(item_name == \"Chicken Bowl\", item_price > 32)"
   ]
  },
  {
   "cell_type": "markdown",
   "metadata": {},
   "source": [
    "### Take a look at the row in df where chicken bowl costed 32.94. Is my code for Q3 correct? If not, what's the correct one. Also check if your code for Q1 is correct."
   ]
  },
  {
   "cell_type": "code",
   "execution_count": null,
   "metadata": {},
   "outputs": [],
   "source": [
    "# select the row where chicken bowl costs 32.94"
   ]
  },
  {
   "cell_type": "code",
   "execution_count": null,
   "metadata": {},
   "outputs": [],
   "source": [
    "# correct the code in Q3."
   ]
  },
  {
   "cell_type": "markdown",
   "metadata": {},
   "source": [
    "### Q4: What's the total price for each order? Plot a histogram of how much each order spends?"
   ]
  },
  {
   "cell_type": "code",
   "execution_count": 13,
   "metadata": {},
   "outputs": [],
   "source": [
    "# table for the total price of each order \n",
    "tprice <- df %>% group_by(order_id) %>% summarise(tprice = sum(item_price))"
   ]
  },
  {
   "cell_type": "code",
   "execution_count": 15,
   "metadata": {},
   "outputs": [
    {
     "name": "stderr",
     "output_type": "stream",
     "text": [
      "`stat_bin()` using `bins = 30`. Pick better value with `binwidth`.\n"
     ]
    },
    {
     "data": {},
     "metadata": {},
     "output_type": "display_data"
    },
    {
     "data": {
      "image/png": "[encoded data removed]",
      "text/plain": [
       "plot without title"
      ]
     },
     "metadata": {},
     "output_type": "display_data"
    }
   ],
   "source": [
    "# Plot that\n",
    "ggplot(tprice, aes(tprice)) + geom_histogram()"
   ]
  },
  {
   "cell_type": "markdown",
   "metadata": {},
   "source": [
    "Can you locate your order habit in the plot above? I think the plot will be more informative if we look at only order below 20 bucks and select a smaller binwidth."
   ]
  },
  {
   "cell_type": "markdown",
   "metadata": {},
   "source": [
    "### Q5: Change the plot in Q4 such that we look only at orders below 20 and use a smaller binwidth."
   ]
  },
  {
   "cell_type": "code",
   "execution_count": 16,
   "metadata": {},
   "outputs": [
    {
     "data": {},
     "metadata": {},
     "output_type": "display_data"
    },
    {
     "data": {
      "image/png": "[encoded data removed]",
      "text/plain": [
       "plot without title"
      ]
     },
     "metadata": {},
     "output_type": "display_data"
    }
   ],
   "source": [
    "tprice <- df %>% group_by(order_id) %>% summarise(tprice = sum(item_price)) %>% filter(tprice <= 20)\n",
    "ggplot(tprice, aes(tprice)) + geom_histogram(binwidth = 1)"
   ]
  },
  {
   "cell_type": "markdown",
   "metadata": {},
   "source": [
    "How does your spending habits at Chipotle compare to those who are in the dataset?"
   ]
  },
  {
   "cell_type": "markdown",
   "metadata": {},
   "source": [
    "### Q6: Are bowls more popular or burritos more popular? Create a bar plot where the y axis is the amount sold, and the x axis contains one bar for bowl, one bar for burrito."
   ]
  },
  {
   "cell_type": "code",
   "execution_count": 18,
   "metadata": {},
   "outputs": [
    {
     "data": {
      "text/html": [
       "<ol class=list-inline>\n",
       "\t<li>'Chips and Fresh Tomato Salsa'</li>\n",
       "\t<li>'Izze'</li>\n",
       "\t<li>'Nantucket Nectar'</li>\n",
       "\t<li>'Chips and Tomatillo-Green Chili Salsa'</li>\n",
       "\t<li>'Chicken Bowl'</li>\n",
       "\t<li>'Side of Chips'</li>\n",
       "\t<li>'Steak Burrito'</li>\n",
       "\t<li>'Steak Soft Tacos'</li>\n",
       "\t<li>'Chips and Guacamole'</li>\n",
       "\t<li>'Chicken Crispy Tacos'</li>\n",
       "\t<li>'Chicken Soft Tacos'</li>\n",
       "\t<li>'Chicken Burrito'</li>\n",
       "\t<li>'Canned Soda'</li>\n",
       "\t<li>'Barbacoa Burrito'</li>\n",
       "\t<li>'Carnitas Burrito'</li>\n",
       "\t<li>'Carnitas Bowl'</li>\n",
       "\t<li>'Bottled Water'</li>\n",
       "\t<li>'Chips and Tomatillo Green Chili Salsa'</li>\n",
       "\t<li>'Barbacoa Bowl'</li>\n",
       "\t<li>'Chips'</li>\n",
       "\t<li>'Chicken Salad Bowl'</li>\n",
       "\t<li>'Steak Bowl'</li>\n",
       "\t<li>'Barbacoa Soft Tacos'</li>\n",
       "\t<li>'Veggie Burrito'</li>\n",
       "\t<li>'Veggie Bowl'</li>\n",
       "\t<li>'Steak Crispy Tacos'</li>\n",
       "\t<li>'Chips and Tomatillo Red Chili Salsa'</li>\n",
       "\t<li>'Barbacoa Crispy Tacos'</li>\n",
       "\t<li>'Veggie Salad Bowl'</li>\n",
       "\t<li>'Chips and Roasted Chili-Corn Salsa'</li>\n",
       "\t<li>'Chips and Roasted Chili Corn Salsa'</li>\n",
       "\t<li>'Carnitas Soft Tacos'</li>\n",
       "\t<li>'Chicken Salad'</li>\n",
       "\t<li>'Canned Soft Drink'</li>\n",
       "\t<li>'Steak Salad Bowl'</li>\n",
       "\t<li>'6 Pack Soft Drink'</li>\n",
       "\t<li>'Chips and Tomatillo-Red Chili Salsa'</li>\n",
       "\t<li>'Bowl'</li>\n",
       "\t<li>'Burrito'</li>\n",
       "\t<li>'Crispy Tacos'</li>\n",
       "\t<li>'Carnitas Crispy Tacos'</li>\n",
       "\t<li>'Steak Salad'</li>\n",
       "\t<li>'Chips and Mild Fresh Tomato Salsa'</li>\n",
       "\t<li>'Veggie Soft Tacos'</li>\n",
       "\t<li>'Carnitas Salad Bowl'</li>\n",
       "\t<li>'Barbacoa Salad Bowl'</li>\n",
       "\t<li>'Salad'</li>\n",
       "\t<li>'Veggie Crispy Tacos'</li>\n",
       "\t<li>'Veggie Salad'</li>\n",
       "\t<li>'Carnitas Salad'</li>\n",
       "</ol>\n"
      ],
      "text/latex": [
       "\\begin{enumerate*}\n",
       "\\item 'Chips and Fresh Tomato Salsa'\n",
       "\\item 'Izze'\n",
       "\\item 'Nantucket Nectar'\n",
       "\\item 'Chips and Tomatillo-Green Chili Salsa'\n",
       "\\item 'Chicken Bowl'\n",
       "\\item 'Side of Chips'\n",
       "\\item 'Steak Burrito'\n",
       "\\item 'Steak Soft Tacos'\n",
       "\\item 'Chips and Guacamole'\n",
       "\\item 'Chicken Crispy Tacos'\n",
       "\\item 'Chicken Soft Tacos'\n",
       "\\item 'Chicken Burrito'\n",
       "\\item 'Canned Soda'\n",
       "\\item 'Barbacoa Burrito'\n",
       "\\item 'Carnitas Burrito'\n",
       "\\item 'Carnitas Bowl'\n",
       "\\item 'Bottled Water'\n",
       "\\item 'Chips and Tomatillo Green Chili Salsa'\n",
       "\\item 'Barbacoa Bowl'\n",
       "\\item 'Chips'\n",
       "\\item 'Chicken Salad Bowl'\n",
       "\\item 'Steak Bowl'\n",
       "\\item 'Barbacoa Soft Tacos'\n",
       "\\item 'Veggie Burrito'\n",
       "\\item 'Veggie Bowl'\n",
       "\\item 'Steak Crispy Tacos'\n",
       "\\item 'Chips and Tomatillo Red Chili Salsa'\n",
       "\\item 'Barbacoa Crispy Tacos'\n",
       "\\item 'Veggie Salad Bowl'\n",
       "\\item 'Chips and Roasted Chili-Corn Salsa'\n",
       "\\item 'Chips and Roasted Chili Corn Salsa'\n",
       "\\item 'Carnitas Soft Tacos'\n",
       "\\item 'Chicken Salad'\n",
       "\\item 'Canned Soft Drink'\n",
       "\\item 'Steak Salad Bowl'\n",
       "\\item '6 Pack Soft Drink'\n",
       "\\item 'Chips and Tomatillo-Red Chili Salsa'\n",
       "\\item 'Bowl'\n",
       "\\item 'Burrito'\n",
       "\\item 'Crispy Tacos'\n",
       "\\item 'Carnitas Crispy Tacos'\n",
       "\\item 'Steak Salad'\n",
       "\\item 'Chips and Mild Fresh Tomato Salsa'\n",
       "\\item 'Veggie Soft Tacos'\n",
       "\\item 'Carnitas Salad Bowl'\n",
       "\\item 'Barbacoa Salad Bowl'\n",
       "\\item 'Salad'\n",
       "\\item 'Veggie Crispy Tacos'\n",
       "\\item 'Veggie Salad'\n",
       "\\item 'Carnitas Salad'\n",
       "\\end{enumerate*}\n"
      ],
      "text/markdown": [
       "1. 'Chips and Fresh Tomato Salsa'\n",
       "2. 'Izze'\n",
       "3. 'Nantucket Nectar'\n",
       "4. 'Chips and Tomatillo-Green Chili Salsa'\n",
       "5. 'Chicken Bowl'\n",
       "6. 'Side of Chips'\n",
       "7. 'Steak Burrito'\n",
       "8. 'Steak Soft Tacos'\n",
       "9. 'Chips and Guacamole'\n",
       "10. 'Chicken Crispy Tacos'\n",
       "11. 'Chicken Soft Tacos'\n",
       "12. 'Chicken Burrito'\n",
       "13. 'Canned Soda'\n",
       "14. 'Barbacoa Burrito'\n",
       "15. 'Carnitas Burrito'\n",
       "16. 'Carnitas Bowl'\n",
       "17. 'Bottled Water'\n",
       "18. 'Chips and Tomatillo Green Chili Salsa'\n",
       "19. 'Barbacoa Bowl'\n",
       "20. 'Chips'\n",
       "21. 'Chicken Salad Bowl'\n",
       "22. 'Steak Bowl'\n",
       "23. 'Barbacoa Soft Tacos'\n",
       "24. 'Veggie Burrito'\n",
       "25. 'Veggie Bowl'\n",
       "26. 'Steak Crispy Tacos'\n",
       "27. 'Chips and Tomatillo Red Chili Salsa'\n",
       "28. 'Barbacoa Crispy Tacos'\n",
       "29. 'Veggie Salad Bowl'\n",
       "30. 'Chips and Roasted Chili-Corn Salsa'\n",
       "31. 'Chips and Roasted Chili Corn Salsa'\n",
       "32. 'Carnitas Soft Tacos'\n",
       "33. 'Chicken Salad'\n",
       "34. 'Canned Soft Drink'\n",
       "35. 'Steak Salad Bowl'\n",
       "36. '6 Pack Soft Drink'\n",
       "37. 'Chips and Tomatillo-Red Chili Salsa'\n",
       "38. 'Bowl'\n",
       "39. 'Burrito'\n",
       "40. 'Crispy Tacos'\n",
       "41. 'Carnitas Crispy Tacos'\n",
       "42. 'Steak Salad'\n",
       "43. 'Chips and Mild Fresh Tomato Salsa'\n",
       "44. 'Veggie Soft Tacos'\n",
       "45. 'Carnitas Salad Bowl'\n",
       "46. 'Barbacoa Salad Bowl'\n",
       "47. 'Salad'\n",
       "48. 'Veggie Crispy Tacos'\n",
       "49. 'Veggie Salad'\n",
       "50. 'Carnitas Salad'\n",
       "\n",
       "\n"
      ],
      "text/plain": [
       " [1] \"Chips and Fresh Tomato Salsa\"         \n",
       " [2] \"Izze\"                                 \n",
       " [3] \"Nantucket Nectar\"                     \n",
       " [4] \"Chips and Tomatillo-Green Chili Salsa\"\n",
       " [5] \"Chicken Bowl\"                         \n",
       " [6] \"Side of Chips\"                        \n",
       " [7] \"Steak Burrito\"                        \n",
       " [8] \"Steak Soft Tacos\"                     \n",
       " [9] \"Chips and Guacamole\"                  \n",
       "[10] \"Chicken Crispy Tacos\"                 \n",
       "[11] \"Chicken Soft Tacos\"                   \n",
       "[12] \"Chicken Burrito\"                      \n",
       "[13] \"Canned Soda\"                          \n",
       "[14] \"Barbacoa Burrito\"                     \n",
       "[15] \"Carnitas Burrito\"                     \n",
       "[16] \"Carnitas Bowl\"                        \n",
       "[17] \"Bottled Water\"                        \n",
       "[18] \"Chips and Tomatillo Green Chili Salsa\"\n",
       "[19] \"Barbacoa Bowl\"                        \n",
       "[20] \"Chips\"                                \n",
       "[21] \"Chicken Salad Bowl\"                   \n",
       "[22] \"Steak Bowl\"                           \n",
       "[23] \"Barbacoa Soft Tacos\"                  \n",
       "[24] \"Veggie Burrito\"                       \n",
       "[25] \"Veggie Bowl\"                          \n",
       "[26] \"Steak Crispy Tacos\"                   \n",
       "[27] \"Chips and Tomatillo Red Chili Salsa\"  \n",
       "[28] \"Barbacoa Crispy Tacos\"                \n",
       "[29] \"Veggie Salad Bowl\"                    \n",
       "[30] \"Chips and Roasted Chili-Corn Salsa\"   \n",
       "[31] \"Chips and Roasted Chili Corn Salsa\"   \n",
       "[32] \"Carnitas Soft Tacos\"                  \n",
       "[33] \"Chicken Salad\"                        \n",
       "[34] \"Canned Soft Drink\"                    \n",
       "[35] \"Steak Salad Bowl\"                     \n",
       "[36] \"6 Pack Soft Drink\"                    \n",
       "[37] \"Chips and Tomatillo-Red Chili Salsa\"  \n",
       "[38] \"Bowl\"                                 \n",
       "[39] \"Burrito\"                              \n",
       "[40] \"Crispy Tacos\"                         \n",
       "[41] \"Carnitas Crispy Tacos\"                \n",
       "[42] \"Steak Salad\"                          \n",
       "[43] \"Chips and Mild Fresh Tomato Salsa\"    \n",
       "[44] \"Veggie Soft Tacos\"                    \n",
       "[45] \"Carnitas Salad Bowl\"                  \n",
       "[46] \"Barbacoa Salad Bowl\"                  \n",
       "[47] \"Salad\"                                \n",
       "[48] \"Veggie Crispy Tacos\"                  \n",
       "[49] \"Veggie Salad\"                         \n",
       "[50] \"Carnitas Salad\"                       "
      ]
     },
     "metadata": {},
     "output_type": "display_data"
    },
    {
     "data": {
      "text/html": [
       "TRUE"
      ],
      "text/latex": [
       "TRUE"
      ],
      "text/markdown": [
       "TRUE"
      ],
      "text/plain": [
       "[1] TRUE"
      ]
     },
     "metadata": {},
     "output_type": "display_data"
    }
   ],
   "source": [
    "unique(df$item_name)\n",
    "grepl(\"Bowl\", \"SDJksfj Bowl\")"
   ]
  },
  {
   "cell_type": "code",
   "execution_count": 21,
   "metadata": {},
   "outputs": [],
   "source": [
    "df <- df %>% mutate(category = case_when(grepl(\"Bowl\",item_name) ~ \"Bowl\",\n",
    "                                         grepl(\"Burrito\",item_name) ~ \"Burrito\",\n",
    "                                         TRUE ~ \"neither\"))\n",
    "bowburtable <- df %>% filter(category != \"neither\")"
   ]
  },
  {
   "cell_type": "code",
   "execution_count": 22,
   "metadata": {},
   "outputs": [
    {
     "data": {},
     "metadata": {},
     "output_type": "display_data"
    },
    {
     "data": {
      "image/png": "[encoded data removed]",
      "text/plain": [
       "plot without title"
      ]
     },
     "metadata": {},
     "output_type": "display_data"
    }
   ],
   "source": [
    "ggplot(bowburtable) + geom_bar(aes(x = category))"
   ]
  },
  {
   "cell_type": "markdown",
   "metadata": {},
   "source": [
    "### Q7: What percentage of orders contain at least one drink of any kind?"
   ]
  },
  {
   "cell_type": "code",
   "execution_count": 20,
   "metadata": {},
   "outputs": [
    {
     "data": {
      "text/html": [
       "<table>\n",
       "<thead><tr><th scope=col>order_id</th><th scope=col>quantity</th><th scope=col>item_name</th><th scope=col>choice_description</th><th scope=col>item_price</th><th scope=col>category</th></tr></thead>\n",
       "<tbody>\n",
       "\t<tr><td> 1                                                                                                                </td><td>1                                                                                                                 </td><td>Chips and Fresh Tomato Salsa                                                                                      </td><td>                                                                                                                  </td><td> 2.39                                                                                                             </td><td>neither                                                                                                           </td></tr>\n",
       "\t<tr><td> 1                                                                                                                </td><td>1                                                                                                                 </td><td>Izze                                                                                                              </td><td>[Clementine]                                                                                                      </td><td> 3.39                                                                                                             </td><td>neither                                                                                                           </td></tr>\n",
       "\t<tr><td> 1                                                                                                                </td><td>1                                                                                                                 </td><td>Nantucket Nectar                                                                                                  </td><td>[Apple]                                                                                                           </td><td> 3.39                                                                                                             </td><td>neither                                                                                                           </td></tr>\n",
       "\t<tr><td> 1                                                                                                                </td><td>1                                                                                                                 </td><td>Chips and Tomatillo-Green Chili Salsa                                                                             </td><td>                                                                                                                  </td><td> 2.39                                                                                                             </td><td>neither                                                                                                           </td></tr>\n",
       "\t<tr><td> 2                                                                                                                </td><td>2                                                                                                                 </td><td>Chicken Bowl                                                                                                      </td><td>[Tomatillo-Red Chili Salsa (Hot), [Black Beans, Rice, Cheese, Sour Cream]]                                        </td><td>16.98                                                                                                             </td><td>Bowl                                                                                                              </td></tr>\n",
       "\t<tr><td> 3                                                                                                                </td><td>1                                                                                                                 </td><td>Chicken Bowl                                                                                                      </td><td>[Fresh Tomato Salsa (Mild), [Rice, Cheese, Sour Cream, Guacamole, Lettuce]]                                       </td><td>10.98                                                                                                             </td><td>Bowl                                                                                                              </td></tr>\n",
       "\t<tr><td> 3                                                                                                                </td><td>1                                                                                                                 </td><td>Side of Chips                                                                                                     </td><td>                                                                                                                  </td><td> 1.69                                                                                                             </td><td>neither                                                                                                           </td></tr>\n",
       "\t<tr><td> 4                                                                                                                </td><td>1                                                                                                                 </td><td>Steak Burrito                                                                                                     </td><td>[Tomatillo Red Chili Salsa, [Fajita Vegetables, Black Beans, Pinto Beans, Cheese, Sour Cream, Guacamole, Lettuce]]</td><td>11.75                                                                                                             </td><td>Burrito                                                                                                           </td></tr>\n",
       "\t<tr><td> 4                                                                                                                </td><td>1                                                                                                                 </td><td>Steak Soft Tacos                                                                                                  </td><td>[Tomatillo Green Chili Salsa, [Pinto Beans, Cheese, Sour Cream, Lettuce]]                                         </td><td> 9.25                                                                                                             </td><td>neither                                                                                                           </td></tr>\n",
       "\t<tr><td> 5                                                                                                                </td><td>1                                                                                                                 </td><td>Steak Burrito                                                                                                     </td><td>[Fresh Tomato Salsa, [Rice, Black Beans, Pinto Beans, Cheese, Sour Cream, Lettuce]]                               </td><td> 9.25                                                                                                             </td><td>Burrito                                                                                                           </td></tr>\n",
       "\t<tr><td> 5                                                                                                                </td><td>1                                                                                                                 </td><td>Chips and Guacamole                                                                                               </td><td>                                                                                                                  </td><td> 4.45                                                                                                             </td><td>neither                                                                                                           </td></tr>\n",
       "\t<tr><td> 6                                                                                                                </td><td>1                                                                                                                 </td><td>Chicken Crispy Tacos                                                                                              </td><td>[Roasted Chili Corn Salsa, [Fajita Vegetables, Rice, Black Beans, Cheese, Sour Cream]]                            </td><td> 8.75                                                                                                             </td><td>neither                                                                                                           </td></tr>\n",
       "\t<tr><td> 6                                                                                                                </td><td>1                                                                                                                 </td><td>Chicken Soft Tacos                                                                                                </td><td>[Roasted Chili Corn Salsa, [Rice, Black Beans, Cheese, Sour Cream]]                                               </td><td> 8.75                                                                                                             </td><td>neither                                                                                                           </td></tr>\n",
       "\t<tr><td> 7                                                                                                                </td><td>1                                                                                                                 </td><td>Chicken Bowl                                                                                                      </td><td>[Fresh Tomato Salsa, [Fajita Vegetables, Rice, Cheese, Sour Cream, Guacamole]]                                    </td><td>11.25                                                                                                             </td><td>Bowl                                                                                                              </td></tr>\n",
       "\t<tr><td> 7                                                                                                                </td><td>1                                                                                                                 </td><td>Chips and Guacamole                                                                                               </td><td>                                                                                                                  </td><td> 4.45                                                                                                             </td><td>neither                                                                                                           </td></tr>\n",
       "\t<tr><td> 8                                                                                                                </td><td>1                                                                                                                 </td><td>Chips and Tomatillo-Green Chili Salsa                                                                             </td><td>                                                                                                                  </td><td> 2.39                                                                                                             </td><td>neither                                                                                                           </td></tr>\n",
       "\t<tr><td> 8                                                                                                                </td><td>1                                                                                                                 </td><td>Chicken Burrito                                                                                                   </td><td>[Tomatillo-Green Chili Salsa (Medium), [Pinto Beans, Cheese, Sour Cream]]                                         </td><td> 8.49                                                                                                             </td><td>Burrito                                                                                                           </td></tr>\n",
       "\t<tr><td> 9                                                                                                                </td><td>1                                                                                                                 </td><td>Chicken Burrito                                                                                                   </td><td>[Fresh Tomato Salsa (Mild), [Black Beans, Rice, Cheese, Sour Cream, Lettuce]]                                     </td><td> 8.49                                                                                                             </td><td>Burrito                                                                                                           </td></tr>\n",
       "\t<tr><td> 9                                                                                                                </td><td>2                                                                                                                 </td><td>Canned Soda                                                                                                       </td><td>[Sprite]                                                                                                          </td><td> 2.18                                                                                                             </td><td>neither                                                                                                           </td></tr>\n",
       "\t<tr><td>10                                                                                                                </td><td>1                                                                                                                 </td><td>Chicken Bowl                                                                                                      </td><td>[Tomatillo Red Chili Salsa, [Fajita Vegetables, Black Beans, Sour Cream, Cheese, Lettuce]]                        </td><td> 8.75                                                                                                             </td><td>Bowl                                                                                                              </td></tr>\n",
       "</tbody>\n",
       "</table>\n"
      ],
      "text/latex": [
       "\\begin{tabular}{r|llllll}\n",
       " order\\_id & quantity & item\\_name & choice\\_description & item\\_price & category\\\\\n",
       "\\hline\n",
       "\t  1                                                                                                                 & 1                                                                                                                  & Chips and Fresh Tomato Salsa                                                                                       &                                                                                                                    &  2.39                                                                                                              & neither                                                                                                           \\\\\n",
       "\t  1                                                                                                                     & 1                                                                                                                      & Izze                                                                                                                   & {[}Clementine{]}                                                                                                       &  3.39                                                                                                                  & neither                                                                                                               \\\\\n",
       "\t  1                                                                                                                     & 1                                                                                                                      & Nantucket Nectar                                                                                                       & {[}Apple{]}                                                                                                            &  3.39                                                                                                                  & neither                                                                                                               \\\\\n",
       "\t  1                                                                                                                 & 1                                                                                                                  & Chips and Tomatillo-Green Chili Salsa                                                                              &                                                                                                                    &  2.39                                                                                                              & neither                                                                                                           \\\\\n",
       "\t  2                                                                                                                         & 2                                                                                                                          & Chicken Bowl                                                                                                               & {[}Tomatillo-Red Chili Salsa (Hot), {[}Black Beans, Rice, Cheese, Sour Cream{]}{]}                                         & 16.98                                                                                                                      & Bowl                                                                                                                      \\\\\n",
       "\t  3                                                                                                                         & 1                                                                                                                          & Chicken Bowl                                                                                                               & {[}Fresh Tomato Salsa (Mild), {[}Rice, Cheese, Sour Cream, Guacamole, Lettuce{]}{]}                                        & 10.98                                                                                                                      & Bowl                                                                                                                      \\\\\n",
       "\t  3                                                                                                                 & 1                                                                                                                  & Side of Chips                                                                                                      &                                                                                                                    &  1.69                                                                                                              & neither                                                                                                           \\\\\n",
       "\t  4                                                                                                                         & 1                                                                                                                          & Steak Burrito                                                                                                              & {[}Tomatillo Red Chili Salsa, {[}Fajita Vegetables, Black Beans, Pinto Beans, Cheese, Sour Cream, Guacamole, Lettuce{]}{]} & 11.75                                                                                                                      & Burrito                                                                                                                   \\\\\n",
       "\t  4                                                                                                                         & 1                                                                                                                          & Steak Soft Tacos                                                                                                           & {[}Tomatillo Green Chili Salsa, {[}Pinto Beans, Cheese, Sour Cream, Lettuce{]}{]}                                          &  9.25                                                                                                                      & neither                                                                                                                   \\\\\n",
       "\t  5                                                                                                                         & 1                                                                                                                          & Steak Burrito                                                                                                              & {[}Fresh Tomato Salsa, {[}Rice, Black Beans, Pinto Beans, Cheese, Sour Cream, Lettuce{]}{]}                                &  9.25                                                                                                                      & Burrito                                                                                                                   \\\\\n",
       "\t  5                                                                                                                 & 1                                                                                                                  & Chips and Guacamole                                                                                                &                                                                                                                    &  4.45                                                                                                              & neither                                                                                                           \\\\\n",
       "\t  6                                                                                                                         & 1                                                                                                                          & Chicken Crispy Tacos                                                                                                       & {[}Roasted Chili Corn Salsa, {[}Fajita Vegetables, Rice, Black Beans, Cheese, Sour Cream{]}{]}                             &  8.75                                                                                                                      & neither                                                                                                                   \\\\\n",
       "\t  6                                                                                                                         & 1                                                                                                                          & Chicken Soft Tacos                                                                                                         & {[}Roasted Chili Corn Salsa, {[}Rice, Black Beans, Cheese, Sour Cream{]}{]}                                                &  8.75                                                                                                                      & neither                                                                                                                   \\\\\n",
       "\t  7                                                                                                                         & 1                                                                                                                          & Chicken Bowl                                                                                                               & {[}Fresh Tomato Salsa, {[}Fajita Vegetables, Rice, Cheese, Sour Cream, Guacamole{]}{]}                                     & 11.25                                                                                                                      & Bowl                                                                                                                      \\\\\n",
       "\t  7                                                                                                                 & 1                                                                                                                  & Chips and Guacamole                                                                                                &                                                                                                                    &  4.45                                                                                                              & neither                                                                                                           \\\\\n",
       "\t  8                                                                                                                 & 1                                                                                                                  & Chips and Tomatillo-Green Chili Salsa                                                                              &                                                                                                                    &  2.39                                                                                                              & neither                                                                                                           \\\\\n",
       "\t  8                                                                                                                         & 1                                                                                                                          & Chicken Burrito                                                                                                            & {[}Tomatillo-Green Chili Salsa (Medium), {[}Pinto Beans, Cheese, Sour Cream{]}{]}                                          &  8.49                                                                                                                      & Burrito                                                                                                                   \\\\\n",
       "\t  9                                                                                                                         & 1                                                                                                                          & Chicken Burrito                                                                                                            & {[}Fresh Tomato Salsa (Mild), {[}Black Beans, Rice, Cheese, Sour Cream, Lettuce{]}{]}                                      &  8.49                                                                                                                      & Burrito                                                                                                                   \\\\\n",
       "\t  9                                                                                                                     & 2                                                                                                                      & Canned Soda                                                                                                            & {[}Sprite{]}                                                                                                           &  2.18                                                                                                                  & neither                                                                                                               \\\\\n",
       "\t 10                                                                                                                         & 1                                                                                                                          & Chicken Bowl                                                                                                               & {[}Tomatillo Red Chili Salsa, {[}Fajita Vegetables, Black Beans, Sour Cream, Cheese, Lettuce{]}{]}                         &  8.75                                                                                                                      & Bowl                                                                                                                      \\\\\n",
       "\\end{tabular}\n"
      ],
      "text/markdown": [
       "\n",
       "order_id | quantity | item_name | choice_description | item_price | category | \n",
       "|---|---|---|---|---|---|---|---|---|---|---|---|---|---|---|---|---|---|---|---|\n",
       "|  1                                                                                                                 | 1                                                                                                                  | Chips and Fresh Tomato Salsa                                                                                       |                                                                                                                    |  2.39                                                                                                              | neither                                                                                                            | \n",
       "|  1                                                                                                                 | 1                                                                                                                  | Izze                                                                                                               | [Clementine]                                                                                                       |  3.39                                                                                                              | neither                                                                                                            | \n",
       "|  1                                                                                                                 | 1                                                                                                                  | Nantucket Nectar                                                                                                   | [Apple]                                                                                                            |  3.39                                                                                                              | neither                                                                                                            | \n",
       "|  1                                                                                                                 | 1                                                                                                                  | Chips and Tomatillo-Green Chili Salsa                                                                              |                                                                                                                    |  2.39                                                                                                              | neither                                                                                                            | \n",
       "|  2                                                                                                                 | 2                                                                                                                  | Chicken Bowl                                                                                                       | [Tomatillo-Red Chili Salsa (Hot), [Black Beans, Rice, Cheese, Sour Cream]]                                         | 16.98                                                                                                              | Bowl                                                                                                               | \n",
       "|  3                                                                                                                 | 1                                                                                                                  | Chicken Bowl                                                                                                       | [Fresh Tomato Salsa (Mild), [Rice, Cheese, Sour Cream, Guacamole, Lettuce]]                                        | 10.98                                                                                                              | Bowl                                                                                                               | \n",
       "|  3                                                                                                                 | 1                                                                                                                  | Side of Chips                                                                                                      |                                                                                                                    |  1.69                                                                                                              | neither                                                                                                            | \n",
       "|  4                                                                                                                 | 1                                                                                                                  | Steak Burrito                                                                                                      | [Tomatillo Red Chili Salsa, [Fajita Vegetables, Black Beans, Pinto Beans, Cheese, Sour Cream, Guacamole, Lettuce]] | 11.75                                                                                                              | Burrito                                                                                                            | \n",
       "|  4                                                                                                                 | 1                                                                                                                  | Steak Soft Tacos                                                                                                   | [Tomatillo Green Chili Salsa, [Pinto Beans, Cheese, Sour Cream, Lettuce]]                                          |  9.25                                                                                                              | neither                                                                                                            | \n",
       "|  5                                                                                                                 | 1                                                                                                                  | Steak Burrito                                                                                                      | [Fresh Tomato Salsa, [Rice, Black Beans, Pinto Beans, Cheese, Sour Cream, Lettuce]]                                |  9.25                                                                                                              | Burrito                                                                                                            | \n",
       "|  5                                                                                                                 | 1                                                                                                                  | Chips and Guacamole                                                                                                |                                                                                                                    |  4.45                                                                                                              | neither                                                                                                            | \n",
       "|  6                                                                                                                 | 1                                                                                                                  | Chicken Crispy Tacos                                                                                               | [Roasted Chili Corn Salsa, [Fajita Vegetables, Rice, Black Beans, Cheese, Sour Cream]]                             |  8.75                                                                                                              | neither                                                                                                            | \n",
       "|  6                                                                                                                 | 1                                                                                                                  | Chicken Soft Tacos                                                                                                 | [Roasted Chili Corn Salsa, [Rice, Black Beans, Cheese, Sour Cream]]                                                |  8.75                                                                                                              | neither                                                                                                            | \n",
       "|  7                                                                                                                 | 1                                                                                                                  | Chicken Bowl                                                                                                       | [Fresh Tomato Salsa, [Fajita Vegetables, Rice, Cheese, Sour Cream, Guacamole]]                                     | 11.25                                                                                                              | Bowl                                                                                                               | \n",
       "|  7                                                                                                                 | 1                                                                                                                  | Chips and Guacamole                                                                                                |                                                                                                                    |  4.45                                                                                                              | neither                                                                                                            | \n",
       "|  8                                                                                                                 | 1                                                                                                                  | Chips and Tomatillo-Green Chili Salsa                                                                              |                                                                                                                    |  2.39                                                                                                              | neither                                                                                                            | \n",
       "|  8                                                                                                                 | 1                                                                                                                  | Chicken Burrito                                                                                                    | [Tomatillo-Green Chili Salsa (Medium), [Pinto Beans, Cheese, Sour Cream]]                                          |  8.49                                                                                                              | Burrito                                                                                                            | \n",
       "|  9                                                                                                                 | 1                                                                                                                  | Chicken Burrito                                                                                                    | [Fresh Tomato Salsa (Mild), [Black Beans, Rice, Cheese, Sour Cream, Lettuce]]                                      |  8.49                                                                                                              | Burrito                                                                                                            | \n",
       "|  9                                                                                                                 | 2                                                                                                                  | Canned Soda                                                                                                        | [Sprite]                                                                                                           |  2.18                                                                                                              | neither                                                                                                            | \n",
       "| 10                                                                                                                 | 1                                                                                                                  | Chicken Bowl                                                                                                       | [Tomatillo Red Chili Salsa, [Fajita Vegetables, Black Beans, Sour Cream, Cheese, Lettuce]]                         |  8.75                                                                                                              | Bowl                                                                                                               | \n",
       "\n",
       "\n"
      ],
      "text/plain": [
       "   order_id quantity item_name                            \n",
       "1   1       1        Chips and Fresh Tomato Salsa         \n",
       "2   1       1        Izze                                 \n",
       "3   1       1        Nantucket Nectar                     \n",
       "4   1       1        Chips and Tomatillo-Green Chili Salsa\n",
       "5   2       2        Chicken Bowl                         \n",
       "6   3       1        Chicken Bowl                         \n",
       "7   3       1        Side of Chips                        \n",
       "8   4       1        Steak Burrito                        \n",
       "9   4       1        Steak Soft Tacos                     \n",
       "10  5       1        Steak Burrito                        \n",
       "11  5       1        Chips and Guacamole                  \n",
       "12  6       1        Chicken Crispy Tacos                 \n",
       "13  6       1        Chicken Soft Tacos                   \n",
       "14  7       1        Chicken Bowl                         \n",
       "15  7       1        Chips and Guacamole                  \n",
       "16  8       1        Chips and Tomatillo-Green Chili Salsa\n",
       "17  8       1        Chicken Burrito                      \n",
       "18  9       1        Chicken Burrito                      \n",
       "19  9       2        Canned Soda                          \n",
       "20 10       1        Chicken Bowl                         \n",
       "   choice_description                                                                                                \n",
       "1                                                                                                                    \n",
       "2  [Clementine]                                                                                                      \n",
       "3  [Apple]                                                                                                           \n",
       "4                                                                                                                    \n",
       "5  [Tomatillo-Red Chili Salsa (Hot), [Black Beans, Rice, Cheese, Sour Cream]]                                        \n",
       "6  [Fresh Tomato Salsa (Mild), [Rice, Cheese, Sour Cream, Guacamole, Lettuce]]                                       \n",
       "7                                                                                                                    \n",
       "8  [Tomatillo Red Chili Salsa, [Fajita Vegetables, Black Beans, Pinto Beans, Cheese, Sour Cream, Guacamole, Lettuce]]\n",
       "9  [Tomatillo Green Chili Salsa, [Pinto Beans, Cheese, Sour Cream, Lettuce]]                                         \n",
       "10 [Fresh Tomato Salsa, [Rice, Black Beans, Pinto Beans, Cheese, Sour Cream, Lettuce]]                               \n",
       "11                                                                                                                   \n",
       "12 [Roasted Chili Corn Salsa, [Fajita Vegetables, Rice, Black Beans, Cheese, Sour Cream]]                            \n",
       "13 [Roasted Chili Corn Salsa, [Rice, Black Beans, Cheese, Sour Cream]]                                               \n",
       "14 [Fresh Tomato Salsa, [Fajita Vegetables, Rice, Cheese, Sour Cream, Guacamole]]                                    \n",
       "15                                                                                                                   \n",
       "16                                                                                                                   \n",
       "17 [Tomatillo-Green Chili Salsa (Medium), [Pinto Beans, Cheese, Sour Cream]]                                         \n",
       "18 [Fresh Tomato Salsa (Mild), [Black Beans, Rice, Cheese, Sour Cream, Lettuce]]                                     \n",
       "19 [Sprite]                                                                                                          \n",
       "20 [Tomatillo Red Chili Salsa, [Fajita Vegetables, Black Beans, Sour Cream, Cheese, Lettuce]]                        \n",
       "   item_price category\n",
       "1   2.39      neither \n",
       "2   3.39      neither \n",
       "3   3.39      neither \n",
       "4   2.39      neither \n",
       "5  16.98      Bowl    \n",
       "6  10.98      Bowl    \n",
       "7   1.69      neither \n",
       "8  11.75      Burrito \n",
       "9   9.25      neither \n",
       "10  9.25      Burrito \n",
       "11  4.45      neither \n",
       "12  8.75      neither \n",
       "13  8.75      neither \n",
       "14 11.25      Bowl    \n",
       "15  4.45      neither \n",
       "16  2.39      neither \n",
       "17  8.49      Burrito \n",
       "18  8.49      Burrito \n",
       "19  2.18      neither \n",
       "20  8.75      Bowl    "
      ]
     },
     "metadata": {},
     "output_type": "display_data"
    }
   ],
   "source": [
    "head(df, 20)"
   ]
  },
  {
   "cell_type": "markdown",
   "metadata": {},
   "source": [
    "### Bonus Question: Suppose for any non drink item sold, 20% of the price is profit, for any drink sold, 85% is profit. According to our data, what percentage of total profit comes from drinks?"
   ]
  },
  {
   "cell_type": "code",
   "execution_count": null,
   "metadata": {},
   "outputs": [],
   "source": []
  },
  {
   "cell_type": "markdown",
   "metadata": {},
   "source": [
    "### Final thoughts:\n",
    "- Chicken bowl (761) > Chicken burrito (591), but steak bowl (221) < steak burrito (396). Why?\n",
    "- How can our result in Q7 overestimate or underestimator customer level drink purchase percentage."
   ]
  },
  {
   "cell_type": "code",
   "execution_count": null,
   "metadata": {},
   "outputs": [],
   "source": []
  }
 ],
 "metadata": {
  "kernelspec": {
   "display_name": "R",
   "language": "R",
   "name": "ir"
  },
  "language_info": {
   "codemirror_mode": "r",
   "file_extension": ".r",
   "mimetype": "text/x-r-source",
   "name": "R",
   "pygments_lexer": "r",
   "version": "3.5.1"
  }
 },
 "nbformat": 4,
 "nbformat_minor": 2
}
