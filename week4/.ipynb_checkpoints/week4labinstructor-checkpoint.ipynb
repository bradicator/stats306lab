{
 "cells": [
  {
   "cell_type": "markdown",
   "metadata": {},
   "source": [
    "# Lab 4: EDA on Chipotle Orders"
   ]
  },
  {
   "cell_type": "markdown",
   "metadata": {},
   "source": [
    "Today, we look at what people order at Chipotle. Some example questions we are interested in are:\n",
    "- How much do people spend on average at Chipotle?\n",
    "- Do people prefer bowls or burritos?\n",
    "- What percentage of people order drinks?\n",
    "- ..."
   ]
  },
  {
   "cell_type": "code",
   "execution_count": 2,
   "metadata": {},
   "outputs": [
    {
     "name": "stderr",
     "output_type": "stream",
     "text": [
      "\n",
      "Attaching package: ‘dplyr’\n",
      "\n",
      "The following objects are masked from ‘package:stats’:\n",
      "\n",
      "    filter, lag\n",
      "\n",
      "The following objects are masked from ‘package:base’:\n",
      "\n",
      "    intersect, setdiff, setequal, union\n",
      "\n"
     ]
    }
   ],
   "source": [
    "# read in necessary packages and data\n",
    "library(dplyr)\n",
    "library(ggplot2)\n",
    "library(stringr)\n",
    "df <- read.csv(\"~/Documents/stats306/labs/week4/chipotle.csv\", stringsAsFactors = F)\n",
    "df$X <- NULL"
   ]
  },
  {
   "cell_type": "code",
   "execution_count": 3,
   "metadata": {},
   "outputs": [
    {
     "data": {
      "text/html": [
       "<table>\n",
       "<thead><tr><th scope=col>order_id</th><th scope=col>quantity</th><th scope=col>item_name</th><th scope=col>choice_description</th><th scope=col>item_price</th></tr></thead>\n",
       "<tbody>\n",
       "\t<tr><td>1                                                                          </td><td>1                                                                          </td><td>Chips and Fresh Tomato Salsa                                               </td><td>                                                                           </td><td>$2.39                                                                      </td></tr>\n",
       "\t<tr><td>1                                                                          </td><td>1                                                                          </td><td>Izze                                                                       </td><td>[Clementine]                                                               </td><td>$3.39                                                                      </td></tr>\n",
       "\t<tr><td>1                                                                          </td><td>1                                                                          </td><td>Nantucket Nectar                                                           </td><td>[Apple]                                                                    </td><td>$3.39                                                                      </td></tr>\n",
       "\t<tr><td>1                                                                          </td><td>1                                                                          </td><td>Chips and Tomatillo-Green Chili Salsa                                      </td><td>                                                                           </td><td>$2.39                                                                      </td></tr>\n",
       "\t<tr><td>2                                                                          </td><td>2                                                                          </td><td>Chicken Bowl                                                               </td><td>[Tomatillo-Red Chili Salsa (Hot), [Black Beans, Rice, Cheese, Sour Cream]] </td><td>$16.98                                                                     </td></tr>\n",
       "\t<tr><td>3                                                                          </td><td>1                                                                          </td><td>Chicken Bowl                                                               </td><td>[Fresh Tomato Salsa (Mild), [Rice, Cheese, Sour Cream, Guacamole, Lettuce]]</td><td>$10.98                                                                     </td></tr>\n",
       "</tbody>\n",
       "</table>\n"
      ],
      "text/latex": [
       "\\begin{tabular}{r|lllll}\n",
       " order\\_id & quantity & item\\_name & choice\\_description & item\\_price\\\\\n",
       "\\hline\n",
       "\t 1                                                                           & 1                                                                           & Chips and Fresh Tomato Salsa                                                &                                                                             & \\$2.39                                                                    \\\\\n",
       "\t 1                                                                               & 1                                                                               & Izze                                                                            & {[}Clementine{]}                                                                & \\$3.39                                                                        \\\\\n",
       "\t 1                                                                               & 1                                                                               & Nantucket Nectar                                                                & {[}Apple{]}                                                                     & \\$3.39                                                                        \\\\\n",
       "\t 1                                                                           & 1                                                                           & Chips and Tomatillo-Green Chili Salsa                                       &                                                                             & \\$2.39                                                                    \\\\\n",
       "\t 2                                                                                   & 2                                                                                   & Chicken Bowl                                                                        & {[}Tomatillo-Red Chili Salsa (Hot), {[}Black Beans, Rice, Cheese, Sour Cream{]}{]}  & \\$16.98                                                                           \\\\\n",
       "\t 3                                                                                   & 1                                                                                   & Chicken Bowl                                                                        & {[}Fresh Tomato Salsa (Mild), {[}Rice, Cheese, Sour Cream, Guacamole, Lettuce{]}{]} & \\$10.98                                                                           \\\\\n",
       "\\end{tabular}\n"
      ],
      "text/markdown": [
       "\n",
       "order_id | quantity | item_name | choice_description | item_price | \n",
       "|---|---|---|---|---|---|\n",
       "| 1                                                                           | 1                                                                           | Chips and Fresh Tomato Salsa                                                |                                                                             | $2.39                                                                       | \n",
       "| 1                                                                           | 1                                                                           | Izze                                                                        | [Clementine]                                                                | $3.39                                                                       | \n",
       "| 1                                                                           | 1                                                                           | Nantucket Nectar                                                            | [Apple]                                                                     | $3.39                                                                       | \n",
       "| 1                                                                           | 1                                                                           | Chips and Tomatillo-Green Chili Salsa                                       |                                                                             | $2.39                                                                       | \n",
       "| 2                                                                           | 2                                                                           | Chicken Bowl                                                                | [Tomatillo-Red Chili Salsa (Hot), [Black Beans, Rice, Cheese, Sour Cream]]  | $16.98                                                                      | \n",
       "| 3                                                                           | 1                                                                           | Chicken Bowl                                                                | [Fresh Tomato Salsa (Mild), [Rice, Cheese, Sour Cream, Guacamole, Lettuce]] | $10.98                                                                      | \n",
       "\n",
       "\n"
      ],
      "text/plain": [
       "  order_id quantity item_name                            \n",
       "1 1        1        Chips and Fresh Tomato Salsa         \n",
       "2 1        1        Izze                                 \n",
       "3 1        1        Nantucket Nectar                     \n",
       "4 1        1        Chips and Tomatillo-Green Chili Salsa\n",
       "5 2        2        Chicken Bowl                         \n",
       "6 3        1        Chicken Bowl                         \n",
       "  choice_description                                                         \n",
       "1                                                                            \n",
       "2 [Clementine]                                                               \n",
       "3 [Apple]                                                                    \n",
       "4                                                                            \n",
       "5 [Tomatillo-Red Chili Salsa (Hot), [Black Beans, Rice, Cheese, Sour Cream]] \n",
       "6 [Fresh Tomato Salsa (Mild), [Rice, Cheese, Sour Cream, Guacamole, Lettuce]]\n",
       "  item_price\n",
       "1 $2.39     \n",
       "2 $3.39     \n",
       "3 $3.39     \n",
       "4 $2.39     \n",
       "5 $16.98    \n",
       "6 $10.98    "
      ]
     },
     "metadata": {},
     "output_type": "display_data"
    }
   ],
   "source": [
    "# take a look at data\n",
    "head(df)"
   ]
  },
  {
   "cell_type": "markdown",
   "metadata": {},
   "source": [
    "### Q1: what are the top 5 most popular items? (let's assume item_name are well-maintained, i.e., chicken bowl won't be listed as both Chicken Bowl and chicken bowl)"
   ]
  },
  {
   "cell_type": "code",
   "execution_count": 5,
   "metadata": {},
   "outputs": [
    {
     "name": "stderr",
     "output_type": "stream",
     "text": [
      "Selecting by itemsold\n"
     ]
    },
    {
     "data": {
      "text/html": [
       "<table>\n",
       "<thead><tr><th scope=col>item_name</th><th scope=col>itemsold</th></tr></thead>\n",
       "<tbody>\n",
       "\t<tr><td>Chicken Bowl                </td><td>761                         </td></tr>\n",
       "\t<tr><td>Chicken Burrito             </td><td>591                         </td></tr>\n",
       "\t<tr><td>Chips and Guacamole         </td><td>506                         </td></tr>\n",
       "\t<tr><td>Steak Burrito               </td><td>386                         </td></tr>\n",
       "\t<tr><td>Canned Soft Drink           </td><td>351                         </td></tr>\n",
       "\t<tr><td>Chips                       </td><td>230                         </td></tr>\n",
       "\t<tr><td>Steak Bowl                  </td><td>221                         </td></tr>\n",
       "\t<tr><td>Bottled Water               </td><td>211                         </td></tr>\n",
       "\t<tr><td>Chips and Fresh Tomato Salsa</td><td>130                         </td></tr>\n",
       "\t<tr><td>Canned Soda                 </td><td>126                         </td></tr>\n",
       "\t<tr><td>Chicken Salad Bowl          </td><td>123                         </td></tr>\n",
       "\t<tr><td>Chicken Soft Tacos          </td><td>120                         </td></tr>\n",
       "\t<tr><td>Side of Chips               </td><td>110                         </td></tr>\n",
       "\t<tr><td>Veggie Burrito              </td><td> 97                         </td></tr>\n",
       "\t<tr><td>Barbacoa Burrito            </td><td> 91                         </td></tr>\n",
       "\t<tr><td>Veggie Bowl                 </td><td> 87                         </td></tr>\n",
       "\t<tr><td>Carnitas Bowl               </td><td> 71                         </td></tr>\n",
       "\t<tr><td>Barbacoa Bowl               </td><td> 66                         </td></tr>\n",
       "\t<tr><td>Carnitas Burrito            </td><td> 60                         </td></tr>\n",
       "\t<tr><td>Steak Soft Tacos            </td><td> 56                         </td></tr>\n",
       "</tbody>\n",
       "</table>\n"
      ],
      "text/latex": [
       "\\begin{tabular}{r|ll}\n",
       " item\\_name & itemsold\\\\\n",
       "\\hline\n",
       "\t Chicken Bowl                 & 761                         \\\\\n",
       "\t Chicken Burrito              & 591                         \\\\\n",
       "\t Chips and Guacamole          & 506                         \\\\\n",
       "\t Steak Burrito                & 386                         \\\\\n",
       "\t Canned Soft Drink            & 351                         \\\\\n",
       "\t Chips                        & 230                         \\\\\n",
       "\t Steak Bowl                   & 221                         \\\\\n",
       "\t Bottled Water                & 211                         \\\\\n",
       "\t Chips and Fresh Tomato Salsa & 130                         \\\\\n",
       "\t Canned Soda                  & 126                         \\\\\n",
       "\t Chicken Salad Bowl           & 123                         \\\\\n",
       "\t Chicken Soft Tacos           & 120                         \\\\\n",
       "\t Side of Chips                & 110                         \\\\\n",
       "\t Veggie Burrito               &  97                         \\\\\n",
       "\t Barbacoa Burrito             &  91                         \\\\\n",
       "\t Veggie Bowl                  &  87                         \\\\\n",
       "\t Carnitas Bowl                &  71                         \\\\\n",
       "\t Barbacoa Bowl                &  66                         \\\\\n",
       "\t Carnitas Burrito             &  60                         \\\\\n",
       "\t Steak Soft Tacos             &  56                         \\\\\n",
       "\\end{tabular}\n"
      ],
      "text/markdown": [
       "\n",
       "item_name | itemsold | \n",
       "|---|---|---|---|---|---|---|---|---|---|---|---|---|---|---|---|---|---|---|---|\n",
       "| Chicken Bowl                 | 761                          | \n",
       "| Chicken Burrito              | 591                          | \n",
       "| Chips and Guacamole          | 506                          | \n",
       "| Steak Burrito                | 386                          | \n",
       "| Canned Soft Drink            | 351                          | \n",
       "| Chips                        | 230                          | \n",
       "| Steak Bowl                   | 221                          | \n",
       "| Bottled Water                | 211                          | \n",
       "| Chips and Fresh Tomato Salsa | 130                          | \n",
       "| Canned Soda                  | 126                          | \n",
       "| Chicken Salad Bowl           | 123                          | \n",
       "| Chicken Soft Tacos           | 120                          | \n",
       "| Side of Chips                | 110                          | \n",
       "| Veggie Burrito               |  97                          | \n",
       "| Barbacoa Burrito             |  91                          | \n",
       "| Veggie Bowl                  |  87                          | \n",
       "| Carnitas Bowl                |  71                          | \n",
       "| Barbacoa Bowl                |  66                          | \n",
       "| Carnitas Burrito             |  60                          | \n",
       "| Steak Soft Tacos             |  56                          | \n",
       "\n",
       "\n"
      ],
      "text/plain": [
       "   item_name                    itemsold\n",
       "1  Chicken Bowl                 761     \n",
       "2  Chicken Burrito              591     \n",
       "3  Chips and Guacamole          506     \n",
       "4  Steak Burrito                386     \n",
       "5  Canned Soft Drink            351     \n",
       "6  Chips                        230     \n",
       "7  Steak Bowl                   221     \n",
       "8  Bottled Water                211     \n",
       "9  Chips and Fresh Tomato Salsa 130     \n",
       "10 Canned Soda                  126     \n",
       "11 Chicken Salad Bowl           123     \n",
       "12 Chicken Soft Tacos           120     \n",
       "13 Side of Chips                110     \n",
       "14 Veggie Burrito                97     \n",
       "15 Barbacoa Burrito              91     \n",
       "16 Veggie Bowl                   87     \n",
       "17 Carnitas Bowl                 71     \n",
       "18 Barbacoa Bowl                 66     \n",
       "19 Carnitas Burrito              60     \n",
       "20 Steak Soft Tacos              56     "
      ]
     },
     "metadata": {},
     "output_type": "display_data"
    }
   ],
   "source": [
    "# df %>% group_by(item_name) %>% summarise(itemsold = n()) %>% arrange(desc(itemsold)) %>% top_n(5)\n",
    "df %>% group_by(item_name) %>% summarise(itemsold = sum(quantity)) %>% arrange(desc(itemsold)) %>% top_n(20)"
   ]
  },
  {
   "cell_type": "markdown",
   "metadata": {},
   "source": [
    "### Q2: item_price is strings right now. Can we remove the dollar sign and convert it to numerical?"
   ]
  },
  {
   "cell_type": "code",
   "execution_count": 8,
   "metadata": {},
   "outputs": [
    {
     "data": {
      "text/html": [
       "<table>\n",
       "<thead><tr><th scope=col>order_id</th><th scope=col>quantity</th><th scope=col>item_name</th><th scope=col>choice_description</th><th scope=col>item_price</th></tr></thead>\n",
       "<tbody>\n",
       "\t<tr><td>1                                                                          </td><td>1                                                                          </td><td>Chips and Fresh Tomato Salsa                                               </td><td>                                                                           </td><td> 2.39                                                                      </td></tr>\n",
       "\t<tr><td>1                                                                          </td><td>1                                                                          </td><td>Izze                                                                       </td><td>[Clementine]                                                               </td><td> 3.39                                                                      </td></tr>\n",
       "\t<tr><td>1                                                                          </td><td>1                                                                          </td><td>Nantucket Nectar                                                           </td><td>[Apple]                                                                    </td><td> 3.39                                                                      </td></tr>\n",
       "\t<tr><td>1                                                                          </td><td>1                                                                          </td><td>Chips and Tomatillo-Green Chili Salsa                                      </td><td>                                                                           </td><td> 2.39                                                                      </td></tr>\n",
       "\t<tr><td>2                                                                          </td><td>2                                                                          </td><td>Chicken Bowl                                                               </td><td>[Tomatillo-Red Chili Salsa (Hot), [Black Beans, Rice, Cheese, Sour Cream]] </td><td>16.98                                                                      </td></tr>\n",
       "\t<tr><td>3                                                                          </td><td>1                                                                          </td><td>Chicken Bowl                                                               </td><td>[Fresh Tomato Salsa (Mild), [Rice, Cheese, Sour Cream, Guacamole, Lettuce]]</td><td>10.98                                                                      </td></tr>\n",
       "</tbody>\n",
       "</table>\n"
      ],
      "text/latex": [
       "\\begin{tabular}{r|lllll}\n",
       " order\\_id & quantity & item\\_name & choice\\_description & item\\_price\\\\\n",
       "\\hline\n",
       "\t 1                                                                           & 1                                                                           & Chips and Fresh Tomato Salsa                                                &                                                                             &  2.39                                                                      \\\\\n",
       "\t 1                                                                               & 1                                                                               & Izze                                                                            & {[}Clementine{]}                                                                &  3.39                                                                          \\\\\n",
       "\t 1                                                                               & 1                                                                               & Nantucket Nectar                                                                & {[}Apple{]}                                                                     &  3.39                                                                          \\\\\n",
       "\t 1                                                                           & 1                                                                           & Chips and Tomatillo-Green Chili Salsa                                       &                                                                             &  2.39                                                                      \\\\\n",
       "\t 2                                                                                   & 2                                                                                   & Chicken Bowl                                                                        & {[}Tomatillo-Red Chili Salsa (Hot), {[}Black Beans, Rice, Cheese, Sour Cream{]}{]}  & 16.98                                                                              \\\\\n",
       "\t 3                                                                                   & 1                                                                                   & Chicken Bowl                                                                        & {[}Fresh Tomato Salsa (Mild), {[}Rice, Cheese, Sour Cream, Guacamole, Lettuce{]}{]} & 10.98                                                                              \\\\\n",
       "\\end{tabular}\n"
      ],
      "text/markdown": [
       "\n",
       "order_id | quantity | item_name | choice_description | item_price | \n",
       "|---|---|---|---|---|---|\n",
       "| 1                                                                           | 1                                                                           | Chips and Fresh Tomato Salsa                                                |                                                                             |  2.39                                                                       | \n",
       "| 1                                                                           | 1                                                                           | Izze                                                                        | [Clementine]                                                                |  3.39                                                                       | \n",
       "| 1                                                                           | 1                                                                           | Nantucket Nectar                                                            | [Apple]                                                                     |  3.39                                                                       | \n",
       "| 1                                                                           | 1                                                                           | Chips and Tomatillo-Green Chili Salsa                                       |                                                                             |  2.39                                                                       | \n",
       "| 2                                                                           | 2                                                                           | Chicken Bowl                                                                | [Tomatillo-Red Chili Salsa (Hot), [Black Beans, Rice, Cheese, Sour Cream]]  | 16.98                                                                       | \n",
       "| 3                                                                           | 1                                                                           | Chicken Bowl                                                                | [Fresh Tomato Salsa (Mild), [Rice, Cheese, Sour Cream, Guacamole, Lettuce]] | 10.98                                                                       | \n",
       "\n",
       "\n"
      ],
      "text/plain": [
       "  order_id quantity item_name                            \n",
       "1 1        1        Chips and Fresh Tomato Salsa         \n",
       "2 1        1        Izze                                 \n",
       "3 1        1        Nantucket Nectar                     \n",
       "4 1        1        Chips and Tomatillo-Green Chili Salsa\n",
       "5 2        2        Chicken Bowl                         \n",
       "6 3        1        Chicken Bowl                         \n",
       "  choice_description                                                         \n",
       "1                                                                            \n",
       "2 [Clementine]                                                               \n",
       "3 [Apple]                                                                    \n",
       "4                                                                            \n",
       "5 [Tomatillo-Red Chili Salsa (Hot), [Black Beans, Rice, Cheese, Sour Cream]] \n",
       "6 [Fresh Tomato Salsa (Mild), [Rice, Cheese, Sour Cream, Guacamole, Lettuce]]\n",
       "  item_price\n",
       "1  2.39     \n",
       "2  3.39     \n",
       "3  3.39     \n",
       "4  2.39     \n",
       "5 16.98     \n",
       "6 10.98     "
      ]
     },
     "metadata": {},
     "output_type": "display_data"
    }
   ],
   "source": [
    "df <- df %>% mutate(item_price = as.numeric(str_replace(item_price, \"\\\\$\", \"\")))\n",
    "df %>% head()"
   ]
  },
  {
   "cell_type": "markdown",
   "metadata": {},
   "source": [
    "### Q3: Construct a table where for each item, we have amount sold, total revenue, max price sold, min price sold, mean price sold; arrange in decreasing order of amount sold.\n",
    "\n",
    "I have done this for you, and my solution is:"
   ]
  },
  {
   "cell_type": "code",
   "execution_count": 9,
   "metadata": {},
   "outputs": [
    {
     "data": {
      "text/html": [
       "<table>\n",
       "<thead><tr><th scope=col>item_name</th><th scope=col>revenue</th><th scope=col>itemsold</th><th scope=col>meanprice</th><th scope=col>maxprice</th><th scope=col>minprice</th></tr></thead>\n",
       "<tbody>\n",
       "\t<tr><td>Chicken Bowl       </td><td>7342.73            </td><td>726                </td><td>10.113953          </td><td>32.94              </td><td>8.19               </td></tr>\n",
       "\t<tr><td>Chicken Burrito    </td><td>5575.82            </td><td>553                </td><td>10.082857          </td><td>35.00              </td><td>8.19               </td></tr>\n",
       "\t<tr><td>Chips and Guacamole</td><td>2201.04            </td><td>479                </td><td> 4.595073          </td><td>17.80              </td><td>3.89               </td></tr>\n",
       "\t<tr><td>Steak Burrito      </td><td>3851.43            </td><td>368                </td><td>10.465842          </td><td>27.75              </td><td>8.69               </td></tr>\n",
       "\t<tr><td>Canned Soft Drink  </td><td> 438.75            </td><td>301                </td><td> 1.457641          </td><td> 5.00              </td><td>1.25               </td></tr>\n",
       "\t<tr><td>Chips              </td><td> 494.34            </td><td>211                </td><td> 2.342844          </td><td> 6.45              </td><td>1.99               </td></tr>\n",
       "</tbody>\n",
       "</table>\n"
      ],
      "text/latex": [
       "\\begin{tabular}{r|llllll}\n",
       " item\\_name & revenue & itemsold & meanprice & maxprice & minprice\\\\\n",
       "\\hline\n",
       "\t Chicken Bowl        & 7342.73             & 726                 & 10.113953           & 32.94               & 8.19               \\\\\n",
       "\t Chicken Burrito     & 5575.82             & 553                 & 10.082857           & 35.00               & 8.19               \\\\\n",
       "\t Chips and Guacamole & 2201.04             & 479                 &  4.595073           & 17.80               & 3.89               \\\\\n",
       "\t Steak Burrito       & 3851.43             & 368                 & 10.465842           & 27.75               & 8.69               \\\\\n",
       "\t Canned Soft Drink   &  438.75             & 301                 &  1.457641           &  5.00               & 1.25               \\\\\n",
       "\t Chips               &  494.34             & 211                 &  2.342844           &  6.45               & 1.99               \\\\\n",
       "\\end{tabular}\n"
      ],
      "text/markdown": [
       "\n",
       "item_name | revenue | itemsold | meanprice | maxprice | minprice | \n",
       "|---|---|---|---|---|---|\n",
       "| Chicken Bowl        | 7342.73             | 726                 | 10.113953           | 32.94               | 8.19                | \n",
       "| Chicken Burrito     | 5575.82             | 553                 | 10.082857           | 35.00               | 8.19                | \n",
       "| Chips and Guacamole | 2201.04             | 479                 |  4.595073           | 17.80               | 3.89                | \n",
       "| Steak Burrito       | 3851.43             | 368                 | 10.465842           | 27.75               | 8.69                | \n",
       "| Canned Soft Drink   |  438.75             | 301                 |  1.457641           |  5.00               | 1.25                | \n",
       "| Chips               |  494.34             | 211                 |  2.342844           |  6.45               | 1.99                | \n",
       "\n",
       "\n"
      ],
      "text/plain": [
       "  item_name           revenue itemsold meanprice maxprice minprice\n",
       "1 Chicken Bowl        7342.73 726      10.113953 32.94    8.19    \n",
       "2 Chicken Burrito     5575.82 553      10.082857 35.00    8.19    \n",
       "3 Chips and Guacamole 2201.04 479       4.595073 17.80    3.89    \n",
       "4 Steak Burrito       3851.43 368      10.465842 27.75    8.69    \n",
       "5 Canned Soft Drink    438.75 301       1.457641  5.00    1.25    \n",
       "6 Chips                494.34 211       2.342844  6.45    1.99    "
      ]
     },
     "metadata": {},
     "output_type": "display_data"
    }
   ],
   "source": [
    "pricetable <- df %>% group_by(item_name) %>% \n",
    "    summarise(revenue = sum(item_price), \n",
    "              itemsold = n(),\n",
    "              meanprice = mean(item_price),\n",
    "              maxprice = max(item_price),                       \n",
    "              minprice = min(item_price)) %>% \n",
    "    arrange(desc(itemsold))\n",
    "head(pricetable)"
   ]
  },
  {
   "cell_type": "markdown",
   "metadata": {},
   "source": [
    "Wait! how can a chicken bowl be 32.94? Double chicken chicken bowl is only 10 bucks! What happened?"
   ]
  },
  {
   "cell_type": "markdown",
   "metadata": {},
   "source": [
    "### Take a look at the row in df where chicken bowl costed 32.94. Is my code for Q3 correct? If not, what's the correct one. Also check if your code for Q1 is correct."
   ]
  },
  {
   "cell_type": "code",
   "execution_count": null,
   "metadata": {},
   "outputs": [],
   "source": [
    "# select the row where chicken bowl costs 32.94"
   ]
  },
  {
   "cell_type": "code",
   "execution_count": null,
   "metadata": {},
   "outputs": [],
   "source": [
    "# correct the code in Q3."
   ]
  },
  {
   "cell_type": "markdown",
   "metadata": {},
   "source": [
    "### Q4: What's the total price for each order? Plot a histogram of how much each order spends?"
   ]
  },
  {
   "cell_type": "code",
   "execution_count": null,
   "metadata": {},
   "outputs": [],
   "source": [
    "# table for the total price of each order "
   ]
  },
  {
   "cell_type": "code",
   "execution_count": null,
   "metadata": {},
   "outputs": [],
   "source": [
    "# Plot that"
   ]
  },
  {
   "cell_type": "markdown",
   "metadata": {},
   "source": [
    "Can you locate your order habit in the plot above? I think the plot will be more informative if we look at only order below 20 bucks and select a smaller binwidth."
   ]
  },
  {
   "cell_type": "markdown",
   "metadata": {},
   "source": [
    "### Q5: Change the plot in Q4 such that we look only at orders below 20 and use a smaller binwidth."
   ]
  },
  {
   "cell_type": "code",
   "execution_count": null,
   "metadata": {},
   "outputs": [],
   "source": []
  },
  {
   "cell_type": "markdown",
   "metadata": {},
   "source": [
    "How does your spending habits at Chipotle compare to those who are in the dataset?"
   ]
  },
  {
   "cell_type": "markdown",
   "metadata": {},
   "source": [
    "### Q6: Are bowls more popular or burritos more popular? Create a bar plot where the y axis is the amount sold, and the x axis contains one bar for bowl, one bar for burrito."
   ]
  },
  {
   "cell_type": "code",
   "execution_count": null,
   "metadata": {},
   "outputs": [],
   "source": []
  },
  {
   "cell_type": "code",
   "execution_count": null,
   "metadata": {},
   "outputs": [],
   "source": []
  },
  {
   "cell_type": "code",
   "execution_count": null,
   "metadata": {},
   "outputs": [],
   "source": []
  },
  {
   "cell_type": "markdown",
   "metadata": {},
   "source": [
    "### Q7: What percentage of orders contain at least one drink of any kind?"
   ]
  },
  {
   "cell_type": "code",
   "execution_count": null,
   "metadata": {},
   "outputs": [],
   "source": []
  },
  {
   "cell_type": "markdown",
   "metadata": {},
   "source": [
    "### Bonus Question: Suppose for any non drink item sold, 20% of the price is profit, for any drink sold, 85% is profit. According to our data, what percentage of total profit comes from drinks?"
   ]
  },
  {
   "cell_type": "code",
   "execution_count": null,
   "metadata": {},
   "outputs": [],
   "source": []
  }
 ],
 "metadata": {
  "kernelspec": {
   "display_name": "R",
   "language": "R",
   "name": "ir"
  },
  "language_info": {
   "codemirror_mode": "r",
   "file_extension": ".r",
   "mimetype": "text/x-r-source",
   "name": "R",
   "pygments_lexer": "r",
   "version": "3.5.1"
  }
 },
 "nbformat": 4,
 "nbformat_minor": 2
}
